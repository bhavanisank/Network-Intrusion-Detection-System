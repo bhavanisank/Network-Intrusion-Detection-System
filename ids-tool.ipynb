{
 "cells": [
  {
   "cell_type": "code",
   "execution_count": 1,
   "id": "d3e0b318",
   "metadata": {
    "_cell_guid": "b1076dfc-b9ad-4769-8c92-a6c4dae69d19",
    "_uuid": "8f2839f25d086af736a60e9eeb907d3b93b6e0e5",
    "execution": {
     "iopub.execute_input": "2023-07-18T11:08:14.046156Z",
     "iopub.status.busy": "2023-07-18T11:08:14.045136Z",
     "iopub.status.idle": "2023-07-18T11:08:14.092453Z",
     "shell.execute_reply": "2023-07-18T11:08:14.091059Z"
    },
    "papermill": {
     "duration": 0.087875,
     "end_time": "2023-07-18T11:08:14.095195",
     "exception": false,
     "start_time": "2023-07-18T11:08:14.007320",
     "status": "completed"
    },
    "tags": []
   },
   "outputs": [
    {
     "name": "stdout",
     "output_type": "stream",
     "text": [
      "/kaggle/input/kdd-cup-1999-data/kddcup.data.gz\n",
      "/kaggle/input/kdd-cup-1999-data/training_attack_types\n",
      "/kaggle/input/kdd-cup-1999-data/kddcup.data.corrected\n",
      "/kaggle/input/kdd-cup-1999-data/kddcup.newtestdata_10_percent_unlabeled.gz\n",
      "/kaggle/input/kdd-cup-1999-data/kddcup.testdata.unlabeled.gz\n",
      "/kaggle/input/kdd-cup-1999-data/corrected.gz\n",
      "/kaggle/input/kdd-cup-1999-data/kddcup.data_10_percent.gz\n",
      "/kaggle/input/kdd-cup-1999-data/kddcup.names\n",
      "/kaggle/input/kdd-cup-1999-data/kddcup.data_10_percent_corrected\n",
      "/kaggle/input/kdd-cup-1999-data/typo-correction.txt\n",
      "/kaggle/input/kdd-cup-1999-data/kddcup.testdata.unlabeled_10_percent.gz\n",
      "/kaggle/input/kdd-cup-1999-data/kddcup.data/kddcup.data\n",
      "/kaggle/input/kdd-cup-1999-data/kddcup.testdata.unlabeled/kddcup.testdata.unlabeled\n",
      "/kaggle/input/kdd-cup-1999-data/corrected/corrected\n",
      "/kaggle/input/kdd-cup-1999-data/kddcup.testdata.unlabeled_10_percent/kddcup.testdata.unlabeled_10_percent\n",
      "/kaggle/input/kdd-cup-1999-data/kddcup.newtestdata_10_percent_unlabeled/kddcup.newtestdata_10_percent_unlabeled\n",
      "/kaggle/input/kdd-cup-1999-data/kddcup.data_10_percent/kddcup.data_10_percent\n"
     ]
    }
   ],
   "source": [
    "# This Python 3 environment comes with many helpful analytics libraries installed\n",
    "# It is defined by the kaggle/python Docker image: https://github.com/kaggle/docker-python\n",
    "# For example, here's several helpful packages to load\n",
    "\n",
    "import numpy as np # linear algebra\n",
    "import pandas as pd # data processing, CSV file I/O (e.g. pd.read_csv)\n",
    "\n",
    "# Input data files are available in the read-only \"../input/\" directory\n",
    "# For example, running this (by clicking run or pressing Shift+Enter) will list all files under the input directory\n",
    "\n",
    "import os\n",
    "for dirname, _, filenames in os.walk('/kaggle/input'):\n",
    "    for filename in filenames:\n",
    "        print(os.path.join(dirname, filename))\n",
    "\n",
    "# You can write up to 20GB to the current directory (/kaggle/working/) that gets preserved as output when you create a version using \"Save & Run All\" \n",
    "# You can also write temporary files to /kaggle/temp/, but they won't be saved outside of the current session"
   ]
  },
  {
   "cell_type": "code",
   "execution_count": 2,
   "id": "bf306fb8",
   "metadata": {
    "execution": {
     "iopub.execute_input": "2023-07-18T11:08:14.169868Z",
     "iopub.status.busy": "2023-07-18T11:08:14.168228Z",
     "iopub.status.idle": "2023-07-18T11:08:15.699448Z",
     "shell.execute_reply": "2023-07-18T11:08:15.697959Z"
    },
    "papermill": {
     "duration": 1.571931,
     "end_time": "2023-07-18T11:08:15.702402",
     "exception": false,
     "start_time": "2023-07-18T11:08:14.130471",
     "status": "completed"
    },
    "tags": []
   },
   "outputs": [],
   "source": [
    "#Importing The Required Libraries\n",
    "import os\n",
    "import pandas as pd\n",
    "import numpy as np\n",
    "import matplotlib.pyplot as plt\n",
    "import seaborn as sns\n",
    "import time"
   ]
  },
  {
   "cell_type": "code",
   "execution_count": 3,
   "id": "8284d46d",
   "metadata": {
    "execution": {
     "iopub.execute_input": "2023-07-18T11:08:15.775075Z",
     "iopub.status.busy": "2023-07-18T11:08:15.774661Z",
     "iopub.status.idle": "2023-07-18T11:08:15.781334Z",
     "shell.execute_reply": "2023-07-18T11:08:15.779750Z"
    },
    "papermill": {
     "duration": 0.046208,
     "end_time": "2023-07-18T11:08:15.783755",
     "exception": false,
     "start_time": "2023-07-18T11:08:15.737547",
     "status": "completed"
    },
    "tags": []
   },
   "outputs": [
    {
     "name": "stdout",
     "output_type": "stream",
     "text": [
      "['kddcup.data.gz', 'kddcup.data', 'kddcup.testdata.unlabeled', 'training_attack_types', 'kddcup.data.corrected', 'kddcup.newtestdata_10_percent_unlabeled.gz', 'corrected', 'kddcup.testdata.unlabeled.gz', 'kddcup.testdata.unlabeled_10_percent', 'corrected.gz', 'kddcup.newtestdata_10_percent_unlabeled', 'kddcup.data_10_percent.gz', 'kddcup.names', 'kddcup.data_10_percent_corrected', 'typo-correction.txt', 'kddcup.data_10_percent', 'kddcup.testdata.unlabeled_10_percent.gz']\n"
     ]
    }
   ],
   "source": [
    "#Finding what type of files are there in this kdd-cup-1999-data\n",
    "print(os.listdir('../input/kdd-cup-1999-data'))"
   ]
  },
  {
   "cell_type": "code",
   "execution_count": 4,
   "id": "6b34dcb7",
   "metadata": {
    "execution": {
     "iopub.execute_input": "2023-07-18T11:08:15.856646Z",
     "iopub.status.busy": "2023-07-18T11:08:15.855644Z",
     "iopub.status.idle": "2023-07-18T11:08:15.868028Z",
     "shell.execute_reply": "2023-07-18T11:08:15.865910Z"
    },
    "papermill": {
     "duration": 0.051434,
     "end_time": "2023-07-18T11:08:15.870453",
     "exception": false,
     "start_time": "2023-07-18T11:08:15.819019",
     "status": "completed"
    },
    "tags": []
   },
   "outputs": [
    {
     "name": "stdout",
     "output_type": "stream",
     "text": [
      "back,buffer_overflow,ftp_write,guess_passwd,imap,ipsweep,land,loadmodule,multihop,neptune,nmap,normal,perl,phf,pod,portsweep,rootkit,satan,smurf,spy,teardrop,warezclient,warezmaster.\n",
      "duration: continuous.\n",
      "protocol_type: symbolic.\n",
      "service: symbolic.\n",
      "flag: symbolic.\n",
      "src_bytes: continuous.\n",
      "dst_bytes: continuous.\n",
      "land: symbolic.\n",
      "wrong_fragment: continuous.\n",
      "urgent: continuous.\n",
      "hot: continuous.\n",
      "num_failed_logins: continuous.\n",
      "logged_in: symbolic.\n",
      "num_compromised: continuous.\n",
      "root_shell: continuous.\n",
      "su_attempted: continuous.\n",
      "num_root: continuous.\n",
      "num_file_creations: continuous.\n",
      "num_shells: continuous.\n",
      "num_access_files: continuous.\n",
      "num_outbound_cmds: continuous.\n",
      "is_host_login: symbolic.\n",
      "is_guest_login: symbolic.\n",
      "count: continuous.\n",
      "srv_count: continuous.\n",
      "serror_rate: continuous.\n",
      "srv_serror_rate: continuous.\n",
      "rerror_rate: continuous.\n",
      "srv_rerror_rate: continuous.\n",
      "same_srv_rate: continuous.\n",
      "diff_srv_rate: continuous.\n",
      "srv_diff_host_rate: continuous.\n",
      "dst_host_count: continuous.\n",
      "dst_host_srv_count: continuous.\n",
      "dst_host_same_srv_rate: continuous.\n",
      "dst_host_diff_srv_rate: continuous.\n",
      "dst_host_same_src_port_rate: continuous.\n",
      "dst_host_srv_diff_host_rate: continuous.\n",
      "dst_host_serror_rate: continuous.\n",
      "dst_host_srv_serror_rate: continuous.\n",
      "dst_host_rerror_rate: continuous.\n",
      "dst_host_srv_rerror_rate: continuous.\n",
      "\n"
     ]
    }
   ],
   "source": [
    "#opening the file kddcup.names\n",
    "with open(\"../input/kdd-cup-1999-data/kddcup.names\",'r') as f:\n",
    "    print(f.read())"
   ]
  },
  {
   "cell_type": "code",
   "execution_count": 5,
   "id": "2c3356e9",
   "metadata": {
    "execution": {
     "iopub.execute_input": "2023-07-18T11:08:15.943996Z",
     "iopub.status.busy": "2023-07-18T11:08:15.942879Z",
     "iopub.status.idle": "2023-07-18T11:08:15.951859Z",
     "shell.execute_reply": "2023-07-18T11:08:15.950605Z"
    },
    "papermill": {
     "duration": 0.048255,
     "end_time": "2023-07-18T11:08:15.954397",
     "exception": false,
     "start_time": "2023-07-18T11:08:15.906142",
     "status": "completed"
    },
    "tags": []
   },
   "outputs": [
    {
     "name": "stdout",
     "output_type": "stream",
     "text": [
      "42\n"
     ]
    }
   ],
   "source": [
    "#Taking all the columns into a list\n",
    "cols=\"\"\"duration,\n",
    "protocol_type,\n",
    "service,\n",
    "flag,\n",
    "src_bytes,\n",
    "dst_bytes,\n",
    "land,\n",
    "wrong_fragment,\n",
    "urgent,\n",
    "hot,\n",
    "num_failed_logins,\n",
    "logged_in,\n",
    "num_compromised,\n",
    "root_shell,\n",
    "su_attempted,\n",
    "num_root,\n",
    "num_file_creations,\n",
    "num_shells,\n",
    "num_access_files,\n",
    "num_outbound_cmds,\n",
    "is_host_login,\n",
    "is_guest_login,\n",
    "count,\n",
    "srv_count,\n",
    "serror_rate,\n",
    "srv_serror_rate,\n",
    "rerror_rate,\n",
    "srv_rerror_rate,\n",
    "same_srv_rate,\n",
    "diff_srv_rate,\n",
    "srv_diff_host_rate,\n",
    "dst_host_count,\n",
    "dst_host_srv_count,\n",
    "dst_host_same_srv_rate,\n",
    "dst_host_diff_srv_rate,\n",
    "dst_host_same_src_port_rate,\n",
    "dst_host_srv_diff_host_rate,\n",
    "dst_host_serror_rate,\n",
    "dst_host_srv_serror_rate,\n",
    "dst_host_rerror_rate,\n",
    "dst_host_srv_rerror_rate\"\"\"\n",
    "\n",
    "columns=[]\n",
    "for c in cols.split(','):\n",
    "    if(c.strip()):\n",
    "       columns.append(c.strip())\n",
    "\n",
    "columns.append('target')\n",
    "#print(columns)\n",
    "print(len(columns))"
   ]
  },
  {
   "cell_type": "code",
   "execution_count": 6,
   "id": "5d1efe76",
   "metadata": {
    "execution": {
     "iopub.execute_input": "2023-07-18T11:08:16.026755Z",
     "iopub.status.busy": "2023-07-18T11:08:16.026371Z",
     "iopub.status.idle": "2023-07-18T11:08:16.037312Z",
     "shell.execute_reply": "2023-07-18T11:08:16.035363Z"
    },
    "papermill": {
     "duration": 0.050418,
     "end_time": "2023-07-18T11:08:16.040090",
     "exception": false,
     "start_time": "2023-07-18T11:08:15.989672",
     "status": "completed"
    },
    "tags": []
   },
   "outputs": [
    {
     "name": "stdout",
     "output_type": "stream",
     "text": [
      "back dos\n",
      "buffer_overflow u2r\n",
      "ftp_write r2l\n",
      "guess_passwd r2l\n",
      "imap r2l\n",
      "ipsweep probe\n",
      "land dos\n",
      "loadmodule u2r\n",
      "multihop r2l\n",
      "neptune dos\n",
      "nmap probe\n",
      "perl u2r\n",
      "phf r2l\n",
      "pod dos\n",
      "portsweep probe\n",
      "rootkit u2r\n",
      "satan probe\n",
      "smurf dos\n",
      "spy r2l\n",
      "teardrop dos\n",
      "warezclient r2l\n",
      "warezmaster r2l\n",
      "\n",
      "\n"
     ]
    }
   ],
   "source": [
    "#opening what type of attacks are availble  in training_attack_types file\n",
    "with open(\"../input/kdd-cup-1999-data/training_attack_types\",'r') as f:\n",
    "    print(f.read())"
   ]
  },
  {
   "cell_type": "code",
   "execution_count": 7,
   "id": "b391b3d2",
   "metadata": {
    "execution": {
     "iopub.execute_input": "2023-07-18T11:08:16.116022Z",
     "iopub.status.busy": "2023-07-18T11:08:16.115243Z",
     "iopub.status.idle": "2023-07-18T11:08:16.122283Z",
     "shell.execute_reply": "2023-07-18T11:08:16.121115Z"
    },
    "papermill": {
     "duration": 0.048007,
     "end_time": "2023-07-18T11:08:16.125063",
     "exception": false,
     "start_time": "2023-07-18T11:08:16.077056",
     "status": "completed"
    },
    "tags": []
   },
   "outputs": [],
   "source": [
    "#taking these attack types into a dictionary\n",
    "attacks_types = {\n",
    "    'normal': 'normal',\n",
    "'back': 'dos',\n",
    "'buffer_overflow': 'u2r',\n",
    "'ftp_write': 'r2l',\n",
    "'guess_passwd': 'r2l',\n",
    "'imap': 'r2l',\n",
    "'ipsweep': 'probe',\n",
    "'land': 'dos',\n",
    "'loadmodule': 'u2r',\n",
    "'multihop': 'r2l',\n",
    "'neptune': 'dos',\n",
    "'nmap': 'probe',\n",
    "'perl': 'u2r',\n",
    "'phf': 'r2l',\n",
    "'pod': 'dos',\n",
    "'portsweep': 'probe',\n",
    "'rootkit': 'u2r',\n",
    "'satan': 'probe',\n",
    "'smurf': 'dos',\n",
    "'spy': 'r2l',\n",
    "'teardrop': 'dos',\n",
    "'warezclient': 'r2l',\n",
    "'warezmaster': 'r2l',\n",
    "}"
   ]
  },
  {
   "cell_type": "code",
   "execution_count": 8,
   "id": "1d9dfeb8",
   "metadata": {
    "execution": {
     "iopub.execute_input": "2023-07-18T11:08:16.201094Z",
     "iopub.status.busy": "2023-07-18T11:08:16.200709Z",
     "iopub.status.idle": "2023-07-18T11:08:19.086913Z",
     "shell.execute_reply": "2023-07-18T11:08:19.085525Z"
    },
    "papermill": {
     "duration": 2.928455,
     "end_time": "2023-07-18T11:08:19.090111",
     "exception": false,
     "start_time": "2023-07-18T11:08:16.161656",
     "status": "completed"
    },
    "tags": []
   },
   "outputs": [
    {
     "data": {
      "text/html": [
       "<div>\n",
       "<style scoped>\n",
       "    .dataframe tbody tr th:only-of-type {\n",
       "        vertical-align: middle;\n",
       "    }\n",
       "\n",
       "    .dataframe tbody tr th {\n",
       "        vertical-align: top;\n",
       "    }\n",
       "\n",
       "    .dataframe thead th {\n",
       "        text-align: right;\n",
       "    }\n",
       "</style>\n",
       "<table border=\"1\" class=\"dataframe\">\n",
       "  <thead>\n",
       "    <tr style=\"text-align: right;\">\n",
       "      <th></th>\n",
       "      <th>duration</th>\n",
       "      <th>protocol_type</th>\n",
       "      <th>service</th>\n",
       "      <th>flag</th>\n",
       "      <th>src_bytes</th>\n",
       "      <th>dst_bytes</th>\n",
       "      <th>land</th>\n",
       "      <th>wrong_fragment</th>\n",
       "      <th>urgent</th>\n",
       "      <th>hot</th>\n",
       "      <th>...</th>\n",
       "      <th>dst_host_same_srv_rate</th>\n",
       "      <th>dst_host_diff_srv_rate</th>\n",
       "      <th>dst_host_same_src_port_rate</th>\n",
       "      <th>dst_host_srv_diff_host_rate</th>\n",
       "      <th>dst_host_serror_rate</th>\n",
       "      <th>dst_host_srv_serror_rate</th>\n",
       "      <th>dst_host_rerror_rate</th>\n",
       "      <th>dst_host_srv_rerror_rate</th>\n",
       "      <th>target</th>\n",
       "      <th>Attack Type</th>\n",
       "    </tr>\n",
       "  </thead>\n",
       "  <tbody>\n",
       "    <tr>\n",
       "      <th>0</th>\n",
       "      <td>0</td>\n",
       "      <td>tcp</td>\n",
       "      <td>http</td>\n",
       "      <td>SF</td>\n",
       "      <td>181</td>\n",
       "      <td>5450</td>\n",
       "      <td>0</td>\n",
       "      <td>0</td>\n",
       "      <td>0</td>\n",
       "      <td>0</td>\n",
       "      <td>...</td>\n",
       "      <td>1.0</td>\n",
       "      <td>0.0</td>\n",
       "      <td>0.11</td>\n",
       "      <td>0.0</td>\n",
       "      <td>0.0</td>\n",
       "      <td>0.0</td>\n",
       "      <td>0.0</td>\n",
       "      <td>0.0</td>\n",
       "      <td>normal.</td>\n",
       "      <td>normal</td>\n",
       "    </tr>\n",
       "    <tr>\n",
       "      <th>1</th>\n",
       "      <td>0</td>\n",
       "      <td>tcp</td>\n",
       "      <td>http</td>\n",
       "      <td>SF</td>\n",
       "      <td>239</td>\n",
       "      <td>486</td>\n",
       "      <td>0</td>\n",
       "      <td>0</td>\n",
       "      <td>0</td>\n",
       "      <td>0</td>\n",
       "      <td>...</td>\n",
       "      <td>1.0</td>\n",
       "      <td>0.0</td>\n",
       "      <td>0.05</td>\n",
       "      <td>0.0</td>\n",
       "      <td>0.0</td>\n",
       "      <td>0.0</td>\n",
       "      <td>0.0</td>\n",
       "      <td>0.0</td>\n",
       "      <td>normal.</td>\n",
       "      <td>normal</td>\n",
       "    </tr>\n",
       "    <tr>\n",
       "      <th>2</th>\n",
       "      <td>0</td>\n",
       "      <td>tcp</td>\n",
       "      <td>http</td>\n",
       "      <td>SF</td>\n",
       "      <td>235</td>\n",
       "      <td>1337</td>\n",
       "      <td>0</td>\n",
       "      <td>0</td>\n",
       "      <td>0</td>\n",
       "      <td>0</td>\n",
       "      <td>...</td>\n",
       "      <td>1.0</td>\n",
       "      <td>0.0</td>\n",
       "      <td>0.03</td>\n",
       "      <td>0.0</td>\n",
       "      <td>0.0</td>\n",
       "      <td>0.0</td>\n",
       "      <td>0.0</td>\n",
       "      <td>0.0</td>\n",
       "      <td>normal.</td>\n",
       "      <td>normal</td>\n",
       "    </tr>\n",
       "    <tr>\n",
       "      <th>3</th>\n",
       "      <td>0</td>\n",
       "      <td>tcp</td>\n",
       "      <td>http</td>\n",
       "      <td>SF</td>\n",
       "      <td>219</td>\n",
       "      <td>1337</td>\n",
       "      <td>0</td>\n",
       "      <td>0</td>\n",
       "      <td>0</td>\n",
       "      <td>0</td>\n",
       "      <td>...</td>\n",
       "      <td>1.0</td>\n",
       "      <td>0.0</td>\n",
       "      <td>0.03</td>\n",
       "      <td>0.0</td>\n",
       "      <td>0.0</td>\n",
       "      <td>0.0</td>\n",
       "      <td>0.0</td>\n",
       "      <td>0.0</td>\n",
       "      <td>normal.</td>\n",
       "      <td>normal</td>\n",
       "    </tr>\n",
       "    <tr>\n",
       "      <th>4</th>\n",
       "      <td>0</td>\n",
       "      <td>tcp</td>\n",
       "      <td>http</td>\n",
       "      <td>SF</td>\n",
       "      <td>217</td>\n",
       "      <td>2032</td>\n",
       "      <td>0</td>\n",
       "      <td>0</td>\n",
       "      <td>0</td>\n",
       "      <td>0</td>\n",
       "      <td>...</td>\n",
       "      <td>1.0</td>\n",
       "      <td>0.0</td>\n",
       "      <td>0.02</td>\n",
       "      <td>0.0</td>\n",
       "      <td>0.0</td>\n",
       "      <td>0.0</td>\n",
       "      <td>0.0</td>\n",
       "      <td>0.0</td>\n",
       "      <td>normal.</td>\n",
       "      <td>normal</td>\n",
       "    </tr>\n",
       "  </tbody>\n",
       "</table>\n",
       "<p>5 rows × 43 columns</p>\n",
       "</div>"
      ],
      "text/plain": [
       "   duration protocol_type service flag  src_bytes  dst_bytes  land  \\\n",
       "0         0           tcp    http   SF        181       5450     0   \n",
       "1         0           tcp    http   SF        239        486     0   \n",
       "2         0           tcp    http   SF        235       1337     0   \n",
       "3         0           tcp    http   SF        219       1337     0   \n",
       "4         0           tcp    http   SF        217       2032     0   \n",
       "\n",
       "   wrong_fragment  urgent  hot  ...  dst_host_same_srv_rate  \\\n",
       "0               0       0    0  ...                     1.0   \n",
       "1               0       0    0  ...                     1.0   \n",
       "2               0       0    0  ...                     1.0   \n",
       "3               0       0    0  ...                     1.0   \n",
       "4               0       0    0  ...                     1.0   \n",
       "\n",
       "   dst_host_diff_srv_rate  dst_host_same_src_port_rate  \\\n",
       "0                     0.0                         0.11   \n",
       "1                     0.0                         0.05   \n",
       "2                     0.0                         0.03   \n",
       "3                     0.0                         0.03   \n",
       "4                     0.0                         0.02   \n",
       "\n",
       "   dst_host_srv_diff_host_rate  dst_host_serror_rate  \\\n",
       "0                          0.0                   0.0   \n",
       "1                          0.0                   0.0   \n",
       "2                          0.0                   0.0   \n",
       "3                          0.0                   0.0   \n",
       "4                          0.0                   0.0   \n",
       "\n",
       "   dst_host_srv_serror_rate  dst_host_rerror_rate  dst_host_srv_rerror_rate  \\\n",
       "0                       0.0                   0.0                       0.0   \n",
       "1                       0.0                   0.0                       0.0   \n",
       "2                       0.0                   0.0                       0.0   \n",
       "3                       0.0                   0.0                       0.0   \n",
       "4                       0.0                   0.0                       0.0   \n",
       "\n",
       "    target  Attack Type  \n",
       "0  normal.       normal  \n",
       "1  normal.       normal  \n",
       "2  normal.       normal  \n",
       "3  normal.       normal  \n",
       "4  normal.       normal  \n",
       "\n",
       "[5 rows x 43 columns]"
      ]
     },
     "execution_count": 8,
     "metadata": {},
     "output_type": "execute_result"
    }
   ],
   "source": [
    "#Reading The Dataset\n",
    "path = \"../input/kdd-cup-1999-data/kddcup.data_10_percent.gz\"\n",
    "df = pd.read_csv(path,names=columns)\n",
    "\n",
    "#Adding Attack Type column\n",
    "df['Attack Type'] = df.target.apply(lambda r:attacks_types[r[:-1]])\n",
    "\n",
    "df.head()"
   ]
  },
  {
   "cell_type": "code",
   "execution_count": 9,
   "id": "0a0bc3fc",
   "metadata": {
    "execution": {
     "iopub.execute_input": "2023-07-18T11:08:19.169413Z",
     "iopub.status.busy": "2023-07-18T11:08:19.169003Z",
     "iopub.status.idle": "2023-07-18T11:08:19.176974Z",
     "shell.execute_reply": "2023-07-18T11:08:19.175659Z"
    },
    "papermill": {
     "duration": 0.05106,
     "end_time": "2023-07-18T11:08:19.179845",
     "exception": false,
     "start_time": "2023-07-18T11:08:19.128785",
     "status": "completed"
    },
    "tags": []
   },
   "outputs": [
    {
     "data": {
      "text/plain": [
       "(494021, 43)"
      ]
     },
     "execution_count": 9,
     "metadata": {},
     "output_type": "execute_result"
    }
   ],
   "source": [
    "#Finding the Shape of the DataSet\n",
    "df.shape\n"
   ]
  },
  {
   "cell_type": "code",
   "execution_count": 10,
   "id": "15ff5828",
   "metadata": {
    "execution": {
     "iopub.execute_input": "2023-07-18T11:08:19.258481Z",
     "iopub.status.busy": "2023-07-18T11:08:19.258051Z",
     "iopub.status.idle": "2023-07-18T11:08:19.353261Z",
     "shell.execute_reply": "2023-07-18T11:08:19.352165Z"
    },
    "papermill": {
     "duration": 0.137436,
     "end_time": "2023-07-18T11:08:19.355677",
     "exception": false,
     "start_time": "2023-07-18T11:08:19.218241",
     "status": "completed"
    },
    "tags": []
   },
   "outputs": [
    {
     "data": {
      "text/plain": [
       "smurf.              280790\n",
       "neptune.            107201\n",
       "normal.              97278\n",
       "back.                 2203\n",
       "satan.                1589\n",
       "ipsweep.              1247\n",
       "portsweep.            1040\n",
       "warezclient.          1020\n",
       "teardrop.              979\n",
       "pod.                   264\n",
       "nmap.                  231\n",
       "guess_passwd.           53\n",
       "buffer_overflow.        30\n",
       "land.                   21\n",
       "warezmaster.            20\n",
       "imap.                   12\n",
       "rootkit.                10\n",
       "loadmodule.              9\n",
       "ftp_write.               8\n",
       "multihop.                7\n",
       "phf.                     4\n",
       "perl.                    3\n",
       "spy.                     2\n",
       "Name: target, dtype: int64"
      ]
     },
     "execution_count": 10,
     "metadata": {},
     "output_type": "execute_result"
    }
   ],
   "source": [
    "#finding the count of each type of attacks in target column\n",
    "df['target'].value_counts()\n"
   ]
  },
  {
   "cell_type": "code",
   "execution_count": 11,
   "id": "55e80362",
   "metadata": {
    "execution": {
     "iopub.execute_input": "2023-07-18T11:08:19.432142Z",
     "iopub.status.busy": "2023-07-18T11:08:19.431707Z",
     "iopub.status.idle": "2023-07-18T11:08:19.502523Z",
     "shell.execute_reply": "2023-07-18T11:08:19.501268Z"
    },
    "papermill": {
     "duration": 0.111995,
     "end_time": "2023-07-18T11:08:19.505050",
     "exception": false,
     "start_time": "2023-07-18T11:08:19.393055",
     "status": "completed"
    },
    "tags": []
   },
   "outputs": [
    {
     "data": {
      "text/plain": [
       "dos       391458\n",
       "normal     97278\n",
       "probe       4107\n",
       "r2l         1126\n",
       "u2r           52\n",
       "Name: Attack Type, dtype: int64"
      ]
     },
     "execution_count": 11,
     "metadata": {},
     "output_type": "execute_result"
    }
   ],
   "source": [
    "#finding the count of each category of attacks in Attack Type Column\n",
    "df['Attack Type'].value_counts()\n"
   ]
  },
  {
   "cell_type": "code",
   "execution_count": 12,
   "id": "b260fead",
   "metadata": {
    "execution": {
     "iopub.execute_input": "2023-07-18T11:08:19.580435Z",
     "iopub.status.busy": "2023-07-18T11:08:19.580052Z",
     "iopub.status.idle": "2023-07-18T11:08:19.589936Z",
     "shell.execute_reply": "2023-07-18T11:08:19.588776Z"
    },
    "papermill": {
     "duration": 0.050463,
     "end_time": "2023-07-18T11:08:19.592218",
     "exception": false,
     "start_time": "2023-07-18T11:08:19.541755",
     "status": "completed"
    },
    "tags": []
   },
   "outputs": [
    {
     "data": {
      "text/plain": [
       "duration                         int64\n",
       "protocol_type                   object\n",
       "service                         object\n",
       "flag                            object\n",
       "src_bytes                        int64\n",
       "dst_bytes                        int64\n",
       "land                             int64\n",
       "wrong_fragment                   int64\n",
       "urgent                           int64\n",
       "hot                              int64\n",
       "num_failed_logins                int64\n",
       "logged_in                        int64\n",
       "num_compromised                  int64\n",
       "root_shell                       int64\n",
       "su_attempted                     int64\n",
       "num_root                         int64\n",
       "num_file_creations               int64\n",
       "num_shells                       int64\n",
       "num_access_files                 int64\n",
       "num_outbound_cmds                int64\n",
       "is_host_login                    int64\n",
       "is_guest_login                   int64\n",
       "count                            int64\n",
       "srv_count                        int64\n",
       "serror_rate                    float64\n",
       "srv_serror_rate                float64\n",
       "rerror_rate                    float64\n",
       "srv_rerror_rate                float64\n",
       "same_srv_rate                  float64\n",
       "diff_srv_rate                  float64\n",
       "srv_diff_host_rate             float64\n",
       "dst_host_count                   int64\n",
       "dst_host_srv_count               int64\n",
       "dst_host_same_srv_rate         float64\n",
       "dst_host_diff_srv_rate         float64\n",
       "dst_host_same_src_port_rate    float64\n",
       "dst_host_srv_diff_host_rate    float64\n",
       "dst_host_serror_rate           float64\n",
       "dst_host_srv_serror_rate       float64\n",
       "dst_host_rerror_rate           float64\n",
       "dst_host_srv_rerror_rate       float64\n",
       "target                          object\n",
       "Attack Type                     object\n",
       "dtype: object"
      ]
     },
     "execution_count": 12,
     "metadata": {},
     "output_type": "execute_result"
    }
   ],
   "source": [
    "#find the data types of each column\n",
    "df.dtypes"
   ]
  },
  {
   "cell_type": "markdown",
   "id": "ff60d28a",
   "metadata": {
    "papermill": {
     "duration": 0.036193,
     "end_time": "2023-07-18T11:08:19.665023",
     "exception": false,
     "start_time": "2023-07-18T11:08:19.628830",
     "status": "completed"
    },
    "tags": []
   },
   "source": [
    "DATA PREPROCESSING\n"
   ]
  },
  {
   "cell_type": "code",
   "execution_count": 13,
   "id": "208aecd5",
   "metadata": {
    "execution": {
     "iopub.execute_input": "2023-07-18T11:08:19.740380Z",
     "iopub.status.busy": "2023-07-18T11:08:19.739914Z",
     "iopub.status.idle": "2023-07-18T11:08:20.541444Z",
     "shell.execute_reply": "2023-07-18T11:08:20.540090Z"
    },
    "papermill": {
     "duration": 0.843,
     "end_time": "2023-07-18T11:08:20.544445",
     "exception": false,
     "start_time": "2023-07-18T11:08:19.701445",
     "status": "completed"
    },
    "tags": []
   },
   "outputs": [
    {
     "data": {
      "text/plain": [
       "duration                       0\n",
       "protocol_type                  0\n",
       "service                        0\n",
       "flag                           0\n",
       "src_bytes                      0\n",
       "dst_bytes                      0\n",
       "land                           0\n",
       "wrong_fragment                 0\n",
       "urgent                         0\n",
       "hot                            0\n",
       "num_failed_logins              0\n",
       "logged_in                      0\n",
       "num_compromised                0\n",
       "root_shell                     0\n",
       "su_attempted                   0\n",
       "num_root                       0\n",
       "num_file_creations             0\n",
       "num_shells                     0\n",
       "num_access_files               0\n",
       "num_outbound_cmds              0\n",
       "is_host_login                  0\n",
       "is_guest_login                 0\n",
       "count                          0\n",
       "srv_count                      0\n",
       "serror_rate                    0\n",
       "srv_serror_rate                0\n",
       "rerror_rate                    0\n",
       "srv_rerror_rate                0\n",
       "same_srv_rate                  0\n",
       "diff_srv_rate                  0\n",
       "srv_diff_host_rate             0\n",
       "dst_host_count                 0\n",
       "dst_host_srv_count             0\n",
       "dst_host_same_srv_rate         0\n",
       "dst_host_diff_srv_rate         0\n",
       "dst_host_same_src_port_rate    0\n",
       "dst_host_srv_diff_host_rate    0\n",
       "dst_host_serror_rate           0\n",
       "dst_host_srv_serror_rate       0\n",
       "dst_host_rerror_rate           0\n",
       "dst_host_srv_rerror_rate       0\n",
       "target                         0\n",
       "Attack Type                    0\n",
       "dtype: int64"
      ]
     },
     "execution_count": 13,
     "metadata": {},
     "output_type": "execute_result"
    }
   ],
   "source": [
    "#finding missing values in each column and counting their number\n",
    "df.isnull().sum()\n"
   ]
  },
  {
   "cell_type": "code",
   "execution_count": 14,
   "id": "1be561d4",
   "metadata": {
    "execution": {
     "iopub.execute_input": "2023-07-18T11:08:20.623418Z",
     "iopub.status.busy": "2023-07-18T11:08:20.622986Z",
     "iopub.status.idle": "2023-07-18T11:08:20.632975Z",
     "shell.execute_reply": "2023-07-18T11:08:20.631709Z"
    },
    "papermill": {
     "duration": 0.052621,
     "end_time": "2023-07-18T11:08:20.635906",
     "exception": false,
     "start_time": "2023-07-18T11:08:20.583285",
     "status": "completed"
    },
    "tags": []
   },
   "outputs": [
    {
     "data": {
      "text/plain": [
       "['service', 'flag', 'protocol_type']"
      ]
     },
     "execution_count": 14,
     "metadata": {},
     "output_type": "execute_result"
    }
   ],
   "source": [
    "#Finding categorical features\n",
    "num_cols = df._get_numeric_data().columns\n",
    "\n",
    "cate_cols = list(set(df.columns)-set(num_cols))\n",
    "cate_cols.remove('target')\n",
    "cate_cols.remove('Attack Type')\n",
    "\n",
    "cate_cols"
   ]
  },
  {
   "cell_type": "markdown",
   "id": "c6b322e0",
   "metadata": {
    "papermill": {
     "duration": 0.037625,
     "end_time": "2023-07-18T11:08:20.712396",
     "exception": false,
     "start_time": "2023-07-18T11:08:20.674771",
     "status": "completed"
    },
    "tags": []
   },
   "source": [
    "CATEGORICAL FEATURES DISTRIBUTION"
   ]
  },
  {
   "cell_type": "code",
   "execution_count": 15,
   "id": "ab6a6a77",
   "metadata": {
    "execution": {
     "iopub.execute_input": "2023-07-18T11:08:20.791273Z",
     "iopub.status.busy": "2023-07-18T11:08:20.790891Z",
     "iopub.status.idle": "2023-07-18T11:08:20.796789Z",
     "shell.execute_reply": "2023-07-18T11:08:20.795433Z"
    },
    "papermill": {
     "duration": 0.048871,
     "end_time": "2023-07-18T11:08:20.799218",
     "exception": false,
     "start_time": "2023-07-18T11:08:20.750347",
     "status": "completed"
    },
    "tags": []
   },
   "outputs": [],
   "source": [
    "#Visualization\n",
    "def bar_graph(feature):\n",
    "    df[feature].value_counts().plot(kind=\"bar\")"
   ]
  },
  {
   "cell_type": "code",
   "execution_count": 16,
   "id": "e3f36de2",
   "metadata": {
    "execution": {
     "iopub.execute_input": "2023-07-18T11:08:20.875908Z",
     "iopub.status.busy": "2023-07-18T11:08:20.875414Z",
     "iopub.status.idle": "2023-07-18T11:08:21.302533Z",
     "shell.execute_reply": "2023-07-18T11:08:21.301327Z"
    },
    "papermill": {
     "duration": 0.469453,
     "end_time": "2023-07-18T11:08:21.305634",
     "exception": false,
     "start_time": "2023-07-18T11:08:20.836181",
     "status": "completed"
    },
    "tags": []
   },
   "outputs": [
    {
     "data": {
      "image/png": "[encoded data removed]",
      "text/plain": [
       "<Figure size 640x480 with 1 Axes>"
      ]
     },
     "metadata": {},
     "output_type": "display_data"
    }
   ],
   "source": [
    "bar_graph('protocol_type')\n"
   ]
  },
  {
   "cell_type": "code",
   "execution_count": 17,
   "id": "f12a233c",
   "metadata": {
    "execution": {
     "iopub.execute_input": "2023-07-18T11:08:21.385845Z",
     "iopub.status.busy": "2023-07-18T11:08:21.385220Z",
     "iopub.status.idle": "2023-07-18T11:08:22.321416Z",
     "shell.execute_reply": "2023-07-18T11:08:22.320474Z"
    },
    "papermill": {
     "duration": 0.979488,
     "end_time": "2023-07-18T11:08:22.323929",
     "exception": false,
     "start_time": "2023-07-18T11:08:21.344441",
     "status": "completed"
    },
    "tags": []
   },
   "outputs": [
    {
     "data": {
      "image/png": "[encoded data removed]",
      "text/plain": [
       "<Figure size 1500x300 with 1 Axes>"
      ]
     },
     "metadata": {},
     "output_type": "display_data"
    }
   ],
   "source": [
    "plt.figure(figsize=(15,3))\n",
    "bar_graph('service')"
   ]
  },
  {
   "cell_type": "code",
   "execution_count": 18,
   "id": "8766b96c",
   "metadata": {
    "execution": {
     "iopub.execute_input": "2023-07-18T11:08:22.404802Z",
     "iopub.status.busy": "2023-07-18T11:08:22.404179Z",
     "iopub.status.idle": "2023-07-18T11:08:22.797422Z",
     "shell.execute_reply": "2023-07-18T11:08:22.796330Z"
    },
    "papermill": {
     "duration": 0.436152,
     "end_time": "2023-07-18T11:08:22.799798",
     "exception": false,
     "start_time": "2023-07-18T11:08:22.363646",
     "status": "completed"
    },
    "tags": []
   },
   "outputs": [
    {
     "data": {
      "image/png": "[encoded data removed]",
      "text/plain": [
       "<Figure size 640x480 with 1 Axes>"
      ]
     },
     "metadata": {},
     "output_type": "display_data"
    }
   ],
   "source": [
    "bar_graph('flag')\n"
   ]
  },
  {
   "cell_type": "code",
   "execution_count": 19,
   "id": "f5566a01",
   "metadata": {
    "execution": {
     "iopub.execute_input": "2023-07-18T11:08:22.878795Z",
     "iopub.status.busy": "2023-07-18T11:08:22.878372Z",
     "iopub.status.idle": "2023-07-18T11:08:23.389464Z",
     "shell.execute_reply": "2023-07-18T11:08:23.388401Z"
    },
    "papermill": {
     "duration": 0.553768,
     "end_time": "2023-07-18T11:08:23.391918",
     "exception": false,
     "start_time": "2023-07-18T11:08:22.838150",
     "status": "completed"
    },
    "tags": []
   },
   "outputs": [
    {
     "data": {
      "image/png": "[encoded data removed]",
      "text/plain": [
       "<Figure size 640x480 with 1 Axes>"
      ]
     },
     "metadata": {},
     "output_type": "display_data"
    }
   ],
   "source": [
    "bar_graph('target')\n"
   ]
  },
  {
   "cell_type": "code",
   "execution_count": 20,
   "id": "f84da62d",
   "metadata": {
    "execution": {
     "iopub.execute_input": "2023-07-18T11:08:23.472392Z",
     "iopub.status.busy": "2023-07-18T11:08:23.471597Z",
     "iopub.status.idle": "2023-07-18T11:08:23.803454Z",
     "shell.execute_reply": "2023-07-18T11:08:23.802326Z"
    },
    "papermill": {
     "duration": 0.374921,
     "end_time": "2023-07-18T11:08:23.805801",
     "exception": false,
     "start_time": "2023-07-18T11:08:23.430880",
     "status": "completed"
    },
    "tags": []
   },
   "outputs": [
    {
     "data": {
      "image/png": "[encoded data removed]",
      "text/plain": [
       "<Figure size 640x480 with 1 Axes>"
      ]
     },
     "metadata": {},
     "output_type": "display_data"
    }
   ],
   "source": [
    "bar_graph('Attack Type')\n"
   ]
  },
  {
   "cell_type": "code",
   "execution_count": 21,
   "id": "be9fca51",
   "metadata": {
    "execution": {
     "iopub.execute_input": "2023-07-18T11:08:23.886787Z",
     "iopub.status.busy": "2023-07-18T11:08:23.886139Z",
     "iopub.status.idle": "2023-07-18T11:08:23.893514Z",
     "shell.execute_reply": "2023-07-18T11:08:23.892487Z"
    },
    "papermill": {
     "duration": 0.050687,
     "end_time": "2023-07-18T11:08:23.895696",
     "exception": false,
     "start_time": "2023-07-18T11:08:23.845009",
     "status": "completed"
    },
    "tags": []
   },
   "outputs": [
    {
     "data": {
      "text/plain": [
       "Index(['duration', 'protocol_type', 'service', 'flag', 'src_bytes',\n",
       "       'dst_bytes', 'land', 'wrong_fragment', 'urgent', 'hot',\n",
       "       'num_failed_logins', 'logged_in', 'num_compromised', 'root_shell',\n",
       "       'su_attempted', 'num_root', 'num_file_creations', 'num_shells',\n",
       "       'num_access_files', 'num_outbound_cmds', 'is_host_login',\n",
       "       'is_guest_login', 'count', 'srv_count', 'serror_rate',\n",
       "       'srv_serror_rate', 'rerror_rate', 'srv_rerror_rate', 'same_srv_rate',\n",
       "       'diff_srv_rate', 'srv_diff_host_rate', 'dst_host_count',\n",
       "       'dst_host_srv_count', 'dst_host_same_srv_rate',\n",
       "       'dst_host_diff_srv_rate', 'dst_host_same_src_port_rate',\n",
       "       'dst_host_srv_diff_host_rate', 'dst_host_serror_rate',\n",
       "       'dst_host_srv_serror_rate', 'dst_host_rerror_rate',\n",
       "       'dst_host_srv_rerror_rate', 'target', 'Attack Type'],\n",
       "      dtype='object')"
      ]
     },
     "execution_count": 21,
     "metadata": {},
     "output_type": "execute_result"
    }
   ],
   "source": [
    "df.columns\n"
   ]
  },
  {
   "cell_type": "code",
   "execution_count": 22,
   "id": "16a7b118",
   "metadata": {
    "execution": {
     "iopub.execute_input": "2023-07-18T11:08:23.977853Z",
     "iopub.status.busy": "2023-07-18T11:08:23.977184Z",
     "iopub.status.idle": "2023-07-18T11:08:24.757711Z",
     "shell.execute_reply": "2023-07-18T11:08:24.756235Z"
    },
    "papermill": {
     "duration": 0.824896,
     "end_time": "2023-07-18T11:08:24.760652",
     "exception": false,
     "start_time": "2023-07-18T11:08:23.935756",
     "status": "completed"
    },
    "tags": []
   },
   "outputs": [],
   "source": [
    "df=df.drop_duplicates()"
   ]
  },
  {
   "cell_type": "code",
   "execution_count": 23,
   "id": "05b26ca8",
   "metadata": {
    "execution": {
     "iopub.execute_input": "2023-07-18T11:08:24.847697Z",
     "iopub.status.busy": "2023-07-18T11:08:24.847306Z",
     "iopub.status.idle": "2023-07-18T11:08:24.853696Z",
     "shell.execute_reply": "2023-07-18T11:08:24.852743Z"
    },
    "papermill": {
     "duration": 0.051812,
     "end_time": "2023-07-18T11:08:24.856174",
     "exception": false,
     "start_time": "2023-07-18T11:08:24.804362",
     "status": "completed"
    },
    "tags": []
   },
   "outputs": [
    {
     "data": {
      "text/plain": [
       "(145586, 43)"
      ]
     },
     "execution_count": 23,
     "metadata": {},
     "output_type": "execute_result"
    }
   ],
   "source": [
    "df.shape"
   ]
  },
  {
   "cell_type": "code",
   "execution_count": 24,
   "id": "e87dc74f",
   "metadata": {
    "execution": {
     "iopub.execute_input": "2023-07-18T11:08:24.939966Z",
     "iopub.status.busy": "2023-07-18T11:08:24.939104Z",
     "iopub.status.idle": "2023-07-18T11:08:24.946543Z",
     "shell.execute_reply": "2023-07-18T11:08:24.945262Z"
    },
    "papermill": {
     "duration": 0.052598,
     "end_time": "2023-07-18T11:08:24.949026",
     "exception": false,
     "start_time": "2023-07-18T11:08:24.896428",
     "status": "completed"
    },
    "tags": []
   },
   "outputs": [
    {
     "data": {
      "text/plain": [
       "Index(['duration', 'protocol_type', 'service', 'flag', 'src_bytes',\n",
       "       'dst_bytes', 'land', 'wrong_fragment', 'urgent', 'hot',\n",
       "       'num_failed_logins', 'logged_in', 'num_compromised', 'root_shell',\n",
       "       'su_attempted', 'num_root', 'num_file_creations', 'num_shells',\n",
       "       'num_access_files', 'num_outbound_cmds', 'is_host_login',\n",
       "       'is_guest_login', 'count', 'srv_count', 'serror_rate',\n",
       "       'srv_serror_rate', 'rerror_rate', 'srv_rerror_rate', 'same_srv_rate',\n",
       "       'diff_srv_rate', 'srv_diff_host_rate', 'dst_host_count',\n",
       "       'dst_host_srv_count', 'dst_host_same_srv_rate',\n",
       "       'dst_host_diff_srv_rate', 'dst_host_same_src_port_rate',\n",
       "       'dst_host_srv_diff_host_rate', 'dst_host_serror_rate',\n",
       "       'dst_host_srv_serror_rate', 'dst_host_rerror_rate',\n",
       "       'dst_host_srv_rerror_rate', 'target', 'Attack Type'],\n",
       "      dtype='object')"
      ]
     },
     "execution_count": 24,
     "metadata": {},
     "output_type": "execute_result"
    }
   ],
   "source": [
    "df.columns\n"
   ]
  },
  {
   "cell_type": "markdown",
   "id": "ab1b4f68",
   "metadata": {
    "papermill": {
     "duration": 0.040632,
     "end_time": "2023-07-18T11:08:25.030262",
     "exception": false,
     "start_time": "2023-07-18T11:08:24.989630",
     "status": "completed"
    },
    "tags": []
   },
   "source": [
    "DATA CORRELATION\n"
   ]
  },
  {
   "cell_type": "code",
   "execution_count": 25,
   "id": "ac6224b9",
   "metadata": {
    "execution": {
     "iopub.execute_input": "2023-07-18T11:08:25.115077Z",
     "iopub.status.busy": "2023-07-18T11:08:25.114208Z",
     "iopub.status.idle": "2023-07-18T11:08:25.378932Z",
     "shell.execute_reply": "2023-07-18T11:08:25.378081Z"
    },
    "papermill": {
     "duration": 0.309925,
     "end_time": "2023-07-18T11:08:25.381333",
     "exception": false,
     "start_time": "2023-07-18T11:08:25.071408",
     "status": "completed"
    },
    "tags": []
   },
   "outputs": [
    {
     "data": {
      "text/plain": [
       "(145586, 43)"
      ]
     },
     "execution_count": 25,
     "metadata": {},
     "output_type": "execute_result"
    }
   ],
   "source": [
    "df = df.dropna(axis='columns')  # drop columns with NaN\n",
    "df.shape"
   ]
  },
  {
   "cell_type": "code",
   "execution_count": 26,
   "id": "a939cdae",
   "metadata": {
    "execution": {
     "iopub.execute_input": "2023-07-18T11:08:25.466762Z",
     "iopub.status.busy": "2023-07-18T11:08:25.465795Z",
     "iopub.status.idle": "2023-07-18T11:08:25.594413Z",
     "shell.execute_reply": "2023-07-18T11:08:25.593074Z"
    },
    "papermill": {
     "duration": 0.174298,
     "end_time": "2023-07-18T11:08:25.597087",
     "exception": false,
     "start_time": "2023-07-18T11:08:25.422789",
     "status": "completed"
    },
    "tags": []
   },
   "outputs": [
    {
     "data": {
      "text/plain": [
       "(145586, 41)"
      ]
     },
     "execution_count": 26,
     "metadata": {},
     "output_type": "execute_result"
    }
   ],
   "source": [
    "df = df[[col for col in df if df[col].nunique() > 1]]# keep columns where there are more than 1 unique values\n",
    "df.shape"
   ]
  },
  {
   "cell_type": "code",
   "execution_count": 27,
   "id": "75c677ee",
   "metadata": {
    "execution": {
     "iopub.execute_input": "2023-07-18T11:08:25.682599Z",
     "iopub.status.busy": "2023-07-18T11:08:25.682172Z",
     "iopub.status.idle": "2023-07-18T11:08:26.304841Z",
     "shell.execute_reply": "2023-07-18T11:08:26.303313Z"
    },
    "papermill": {
     "duration": 0.670065,
     "end_time": "2023-07-18T11:08:26.308685",
     "exception": false,
     "start_time": "2023-07-18T11:08:25.638620",
     "status": "completed"
    },
    "tags": []
   },
   "outputs": [
    {
     "data": {
      "text/html": [
       "<div>\n",
       "<style scoped>\n",
       "    .dataframe tbody tr th:only-of-type {\n",
       "        vertical-align: middle;\n",
       "    }\n",
       "\n",
       "    .dataframe tbody tr th {\n",
       "        vertical-align: top;\n",
       "    }\n",
       "\n",
       "    .dataframe thead th {\n",
       "        text-align: right;\n",
       "    }\n",
       "</style>\n",
       "<table border=\"1\" class=\"dataframe\">\n",
       "  <thead>\n",
       "    <tr style=\"text-align: right;\">\n",
       "      <th></th>\n",
       "      <th>duration</th>\n",
       "      <th>src_bytes</th>\n",
       "      <th>dst_bytes</th>\n",
       "      <th>land</th>\n",
       "      <th>wrong_fragment</th>\n",
       "      <th>urgent</th>\n",
       "      <th>hot</th>\n",
       "      <th>num_failed_logins</th>\n",
       "      <th>logged_in</th>\n",
       "      <th>num_compromised</th>\n",
       "      <th>...</th>\n",
       "      <th>dst_host_count</th>\n",
       "      <th>dst_host_srv_count</th>\n",
       "      <th>dst_host_same_srv_rate</th>\n",
       "      <th>dst_host_diff_srv_rate</th>\n",
       "      <th>dst_host_same_src_port_rate</th>\n",
       "      <th>dst_host_srv_diff_host_rate</th>\n",
       "      <th>dst_host_serror_rate</th>\n",
       "      <th>dst_host_srv_serror_rate</th>\n",
       "      <th>dst_host_rerror_rate</th>\n",
       "      <th>dst_host_srv_rerror_rate</th>\n",
       "    </tr>\n",
       "  </thead>\n",
       "  <tbody>\n",
       "    <tr>\n",
       "      <th>duration</th>\n",
       "      <td>1.000000</td>\n",
       "      <td>0.004280</td>\n",
       "      <td>0.002582</td>\n",
       "      <td>-0.001264</td>\n",
       "      <td>-0.009102</td>\n",
       "      <td>0.003707</td>\n",
       "      <td>0.009855</td>\n",
       "      <td>0.004343</td>\n",
       "      <td>-0.090667</td>\n",
       "      <td>0.061454</td>\n",
       "      <td>...</td>\n",
       "      <td>0.062703</td>\n",
       "      <td>-0.116824</td>\n",
       "      <td>-0.120372</td>\n",
       "      <td>0.429391</td>\n",
       "      <td>0.353500</td>\n",
       "      <td>-0.028847</td>\n",
       "      <td>-0.067714</td>\n",
       "      <td>-0.067908</td>\n",
       "      <td>-0.003710</td>\n",
       "      <td>0.002456</td>\n",
       "    </tr>\n",
       "    <tr>\n",
       "      <th>src_bytes</th>\n",
       "      <td>0.004280</td>\n",
       "      <td>1.000000</td>\n",
       "      <td>-0.000162</td>\n",
       "      <td>-0.000051</td>\n",
       "      <td>-0.000365</td>\n",
       "      <td>-0.000018</td>\n",
       "      <td>0.003999</td>\n",
       "      <td>-0.000077</td>\n",
       "      <td>-0.000928</td>\n",
       "      <td>0.000025</td>\n",
       "      <td>...</td>\n",
       "      <td>-0.000117</td>\n",
       "      <td>-0.003937</td>\n",
       "      <td>-0.002144</td>\n",
       "      <td>0.000138</td>\n",
       "      <td>0.005619</td>\n",
       "      <td>0.000760</td>\n",
       "      <td>-0.001742</td>\n",
       "      <td>0.001111</td>\n",
       "      <td>-0.001092</td>\n",
       "      <td>0.001327</td>\n",
       "    </tr>\n",
       "    <tr>\n",
       "      <th>dst_bytes</th>\n",
       "      <td>0.002582</td>\n",
       "      <td>-0.000162</td>\n",
       "      <td>1.000000</td>\n",
       "      <td>-0.000551</td>\n",
       "      <td>-0.003969</td>\n",
       "      <td>0.016147</td>\n",
       "      <td>0.000658</td>\n",
       "      <td>0.048789</td>\n",
       "      <td>0.028106</td>\n",
       "      <td>0.022755</td>\n",
       "      <td>...</td>\n",
       "      <td>-0.034975</td>\n",
       "      <td>0.013327</td>\n",
       "      <td>0.031658</td>\n",
       "      <td>-0.016820</td>\n",
       "      <td>0.028689</td>\n",
       "      <td>0.001728</td>\n",
       "      <td>-0.028956</td>\n",
       "      <td>-0.028726</td>\n",
       "      <td>-0.014865</td>\n",
       "      <td>-0.015282</td>\n",
       "    </tr>\n",
       "    <tr>\n",
       "      <th>land</th>\n",
       "      <td>-0.001264</td>\n",
       "      <td>-0.000051</td>\n",
       "      <td>-0.000551</td>\n",
       "      <td>1.000000</td>\n",
       "      <td>-0.000989</td>\n",
       "      <td>-0.000056</td>\n",
       "      <td>-0.000823</td>\n",
       "      <td>-0.000211</td>\n",
       "      <td>-0.011524</td>\n",
       "      <td>-0.000093</td>\n",
       "      <td>...</td>\n",
       "      <td>-0.021110</td>\n",
       "      <td>-0.012802</td>\n",
       "      <td>0.007972</td>\n",
       "      <td>-0.002662</td>\n",
       "      <td>0.037464</td>\n",
       "      <td>0.106807</td>\n",
       "      <td>0.015462</td>\n",
       "      <td>0.008634</td>\n",
       "      <td>-0.003981</td>\n",
       "      <td>-0.004149</td>\n",
       "    </tr>\n",
       "    <tr>\n",
       "      <th>wrong_fragment</th>\n",
       "      <td>-0.009102</td>\n",
       "      <td>-0.000365</td>\n",
       "      <td>-0.003969</td>\n",
       "      <td>-0.000989</td>\n",
       "      <td>1.000000</td>\n",
       "      <td>-0.000400</td>\n",
       "      <td>-0.005925</td>\n",
       "      <td>-0.001521</td>\n",
       "      <td>-0.082969</td>\n",
       "      <td>-0.000667</td>\n",
       "      <td>...</td>\n",
       "      <td>0.039512</td>\n",
       "      <td>-0.051512</td>\n",
       "      <td>-0.051003</td>\n",
       "      <td>0.085303</td>\n",
       "      <td>0.064637</td>\n",
       "      <td>-0.009676</td>\n",
       "      <td>-0.049449</td>\n",
       "      <td>-0.054156</td>\n",
       "      <td>0.029722</td>\n",
       "      <td>-0.029870</td>\n",
       "    </tr>\n",
       "    <tr>\n",
       "      <th>urgent</th>\n",
       "      <td>0.003707</td>\n",
       "      <td>-0.000018</td>\n",
       "      <td>0.016147</td>\n",
       "      <td>-0.000056</td>\n",
       "      <td>-0.000400</td>\n",
       "      <td>1.000000</td>\n",
       "      <td>0.000142</td>\n",
       "      <td>0.141954</td>\n",
       "      <td>0.004818</td>\n",
       "      <td>0.014268</td>\n",
       "      <td>...</td>\n",
       "      <td>-0.006155</td>\n",
       "      <td>-0.005306</td>\n",
       "      <td>-0.003356</td>\n",
       "      <td>0.013441</td>\n",
       "      <td>0.002639</td>\n",
       "      <td>-0.001494</td>\n",
       "      <td>-0.003053</td>\n",
       "      <td>-0.003040</td>\n",
       "      <td>-0.001709</td>\n",
       "      <td>-0.001677</td>\n",
       "    </tr>\n",
       "    <tr>\n",
       "      <th>hot</th>\n",
       "      <td>0.009855</td>\n",
       "      <td>0.003999</td>\n",
       "      <td>0.000658</td>\n",
       "      <td>-0.000823</td>\n",
       "      <td>-0.005925</td>\n",
       "      <td>0.000142</td>\n",
       "      <td>1.000000</td>\n",
       "      <td>0.007997</td>\n",
       "      <td>0.070770</td>\n",
       "      <td>0.003533</td>\n",
       "      <td>...</td>\n",
       "      <td>0.001460</td>\n",
       "      <td>-0.037461</td>\n",
       "      <td>-0.024315</td>\n",
       "      <td>-0.010235</td>\n",
       "      <td>-0.018591</td>\n",
       "      <td>-0.018850</td>\n",
       "      <td>-0.043728</td>\n",
       "      <td>-0.044732</td>\n",
       "      <td>-0.020471</td>\n",
       "      <td>-0.021826</td>\n",
       "    </tr>\n",
       "    <tr>\n",
       "      <th>num_failed_logins</th>\n",
       "      <td>0.004343</td>\n",
       "      <td>-0.000077</td>\n",
       "      <td>0.048789</td>\n",
       "      <td>-0.000211</td>\n",
       "      <td>-0.001521</td>\n",
       "      <td>0.141954</td>\n",
       "      <td>0.007997</td>\n",
       "      <td>1.000000</td>\n",
       "      <td>-0.013872</td>\n",
       "      <td>0.006824</td>\n",
       "      <td>...</td>\n",
       "      <td>-0.021350</td>\n",
       "      <td>-0.017022</td>\n",
       "      <td>0.008763</td>\n",
       "      <td>-0.002344</td>\n",
       "      <td>0.002878</td>\n",
       "      <td>0.016871</td>\n",
       "      <td>-0.007588</td>\n",
       "      <td>-0.008348</td>\n",
       "      <td>0.031271</td>\n",
       "      <td>0.029892</td>\n",
       "    </tr>\n",
       "    <tr>\n",
       "      <th>logged_in</th>\n",
       "      <td>-0.090667</td>\n",
       "      <td>-0.000928</td>\n",
       "      <td>0.028106</td>\n",
       "      <td>-0.011524</td>\n",
       "      <td>-0.082969</td>\n",
       "      <td>0.004818</td>\n",
       "      <td>0.070770</td>\n",
       "      <td>-0.013872</td>\n",
       "      <td>1.000000</td>\n",
       "      <td>0.008041</td>\n",
       "      <td>...</td>\n",
       "      <td>-0.473362</td>\n",
       "      <td>0.759839</td>\n",
       "      <td>0.769697</td>\n",
       "      <td>-0.308657</td>\n",
       "      <td>-0.095760</td>\n",
       "      <td>0.033620</td>\n",
       "      <td>-0.627963</td>\n",
       "      <td>-0.627838</td>\n",
       "      <td>-0.331083</td>\n",
       "      <td>-0.320664</td>\n",
       "    </tr>\n",
       "    <tr>\n",
       "      <th>num_compromised</th>\n",
       "      <td>0.061454</td>\n",
       "      <td>0.000025</td>\n",
       "      <td>0.022755</td>\n",
       "      <td>-0.000093</td>\n",
       "      <td>-0.000667</td>\n",
       "      <td>0.014268</td>\n",
       "      <td>0.003533</td>\n",
       "      <td>0.006824</td>\n",
       "      <td>0.008041</td>\n",
       "      <td>1.000000</td>\n",
       "      <td>...</td>\n",
       "      <td>-0.006565</td>\n",
       "      <td>-0.005592</td>\n",
       "      <td>-0.002194</td>\n",
       "      <td>-0.000609</td>\n",
       "      <td>-0.001620</td>\n",
       "      <td>-0.000536</td>\n",
       "      <td>-0.004086</td>\n",
       "      <td>-0.003538</td>\n",
       "      <td>-0.002371</td>\n",
       "      <td>-0.002377</td>\n",
       "    </tr>\n",
       "    <tr>\n",
       "      <th>root_shell</th>\n",
       "      <td>0.021395</td>\n",
       "      <td>-0.000075</td>\n",
       "      <td>0.031076</td>\n",
       "      <td>-0.000228</td>\n",
       "      <td>-0.001641</td>\n",
       "      <td>0.034730</td>\n",
       "      <td>0.023408</td>\n",
       "      <td>0.036745</td>\n",
       "      <td>0.019774</td>\n",
       "      <td>0.255600</td>\n",
       "      <td>...</td>\n",
       "      <td>-0.019345</td>\n",
       "      <td>-0.007122</td>\n",
       "      <td>0.010097</td>\n",
       "      <td>-0.004968</td>\n",
       "      <td>0.017979</td>\n",
       "      <td>0.017801</td>\n",
       "      <td>-0.011989</td>\n",
       "      <td>-0.011423</td>\n",
       "      <td>-0.003320</td>\n",
       "      <td>-0.005719</td>\n",
       "    </tr>\n",
       "    <tr>\n",
       "      <th>su_attempted</th>\n",
       "      <td>0.058895</td>\n",
       "      <td>-0.000033</td>\n",
       "      <td>0.075442</td>\n",
       "      <td>-0.000101</td>\n",
       "      <td>-0.000727</td>\n",
       "      <td>-0.000041</td>\n",
       "      <td>-0.000605</td>\n",
       "      <td>0.117024</td>\n",
       "      <td>0.008761</td>\n",
       "      <td>0.701658</td>\n",
       "      <td>...</td>\n",
       "      <td>-0.003474</td>\n",
       "      <td>-0.006711</td>\n",
       "      <td>-0.005473</td>\n",
       "      <td>-0.000700</td>\n",
       "      <td>-0.002939</td>\n",
       "      <td>0.000611</td>\n",
       "      <td>-0.002865</td>\n",
       "      <td>-0.002171</td>\n",
       "      <td>-0.000576</td>\n",
       "      <td>-0.002640</td>\n",
       "    </tr>\n",
       "    <tr>\n",
       "      <th>num_root</th>\n",
       "      <td>0.059745</td>\n",
       "      <td>-0.000038</td>\n",
       "      <td>0.020425</td>\n",
       "      <td>-0.000122</td>\n",
       "      <td>-0.000877</td>\n",
       "      <td>0.009442</td>\n",
       "      <td>0.000530</td>\n",
       "      <td>0.003118</td>\n",
       "      <td>0.010568</td>\n",
       "      <td>0.994215</td>\n",
       "      <td>...</td>\n",
       "      <td>-0.008627</td>\n",
       "      <td>-0.008278</td>\n",
       "      <td>-0.006597</td>\n",
       "      <td>0.001765</td>\n",
       "      <td>0.002758</td>\n",
       "      <td>0.000843</td>\n",
       "      <td>-0.005857</td>\n",
       "      <td>-0.005228</td>\n",
       "      <td>-0.003169</td>\n",
       "      <td>-0.003644</td>\n",
       "    </tr>\n",
       "    <tr>\n",
       "      <th>num_file_creations</th>\n",
       "      <td>0.078000</td>\n",
       "      <td>-0.000043</td>\n",
       "      <td>0.004285</td>\n",
       "      <td>-0.000243</td>\n",
       "      <td>-0.001746</td>\n",
       "      <td>0.015145</td>\n",
       "      <td>0.024545</td>\n",
       "      <td>0.003686</td>\n",
       "      <td>0.021049</td>\n",
       "      <td>0.010840</td>\n",
       "      <td>...</td>\n",
       "      <td>-0.012372</td>\n",
       "      <td>-0.013029</td>\n",
       "      <td>-0.005514</td>\n",
       "      <td>0.004627</td>\n",
       "      <td>0.007198</td>\n",
       "      <td>0.008535</td>\n",
       "      <td>-0.009533</td>\n",
       "      <td>-0.010930</td>\n",
       "      <td>-0.005639</td>\n",
       "      <td>-0.005479</td>\n",
       "    </tr>\n",
       "    <tr>\n",
       "      <th>num_shells</th>\n",
       "      <td>-0.001435</td>\n",
       "      <td>-0.000045</td>\n",
       "      <td>-0.000454</td>\n",
       "      <td>-0.000214</td>\n",
       "      <td>-0.001542</td>\n",
       "      <td>-0.000087</td>\n",
       "      <td>0.005595</td>\n",
       "      <td>-0.000329</td>\n",
       "      <td>0.018588</td>\n",
       "      <td>0.009257</td>\n",
       "      <td>...</td>\n",
       "      <td>-0.011191</td>\n",
       "      <td>-0.011433</td>\n",
       "      <td>-0.004787</td>\n",
       "      <td>-0.002912</td>\n",
       "      <td>0.025904</td>\n",
       "      <td>0.002473</td>\n",
       "      <td>-0.011507</td>\n",
       "      <td>-0.011428</td>\n",
       "      <td>-0.005788</td>\n",
       "      <td>-0.006245</td>\n",
       "    </tr>\n",
       "    <tr>\n",
       "      <th>num_access_files</th>\n",
       "      <td>0.023886</td>\n",
       "      <td>-0.000191</td>\n",
       "      <td>0.007099</td>\n",
       "      <td>-0.000596</td>\n",
       "      <td>-0.004294</td>\n",
       "      <td>0.019932</td>\n",
       "      <td>-0.000415</td>\n",
       "      <td>0.002665</td>\n",
       "      <td>0.051757</td>\n",
       "      <td>0.412849</td>\n",
       "      <td>...</td>\n",
       "      <td>0.000666</td>\n",
       "      <td>0.024631</td>\n",
       "      <td>0.029621</td>\n",
       "      <td>-0.007653</td>\n",
       "      <td>-0.011241</td>\n",
       "      <td>-0.009451</td>\n",
       "      <td>-0.032010</td>\n",
       "      <td>-0.031514</td>\n",
       "      <td>-0.017871</td>\n",
       "      <td>-0.017852</td>\n",
       "    </tr>\n",
       "    <tr>\n",
       "      <th>is_guest_login</th>\n",
       "      <td>0.020268</td>\n",
       "      <td>-0.000270</td>\n",
       "      <td>-0.000959</td>\n",
       "      <td>-0.000806</td>\n",
       "      <td>-0.005803</td>\n",
       "      <td>-0.000326</td>\n",
       "      <td>0.850054</td>\n",
       "      <td>-0.001239</td>\n",
       "      <td>0.069936</td>\n",
       "      <td>-0.000544</td>\n",
       "      <td>...</td>\n",
       "      <td>-0.005345</td>\n",
       "      <td>-0.050108</td>\n",
       "      <td>-0.041527</td>\n",
       "      <td>-0.001059</td>\n",
       "      <td>-0.021082</td>\n",
       "      <td>-0.021314</td>\n",
       "      <td>-0.042587</td>\n",
       "      <td>-0.044024</td>\n",
       "      <td>-0.022261</td>\n",
       "      <td>-0.023494</td>\n",
       "    </tr>\n",
       "    <tr>\n",
       "      <th>count</th>\n",
       "      <td>-0.078036</td>\n",
       "      <td>-0.001727</td>\n",
       "      <td>-0.032532</td>\n",
       "      <td>-0.008112</td>\n",
       "      <td>-0.013634</td>\n",
       "      <td>-0.003465</td>\n",
       "      <td>-0.051036</td>\n",
       "      <td>-0.013105</td>\n",
       "      <td>-0.649233</td>\n",
       "      <td>-0.005707</td>\n",
       "      <td>...</td>\n",
       "      <td>0.504125</td>\n",
       "      <td>-0.639478</td>\n",
       "      <td>-0.696836</td>\n",
       "      <td>0.159164</td>\n",
       "      <td>-0.208934</td>\n",
       "      <td>-0.220693</td>\n",
       "      <td>0.688457</td>\n",
       "      <td>0.692504</td>\n",
       "      <td>0.198369</td>\n",
       "      <td>0.195441</td>\n",
       "    </tr>\n",
       "    <tr>\n",
       "      <th>srv_count</th>\n",
       "      <td>-0.040818</td>\n",
       "      <td>-0.001438</td>\n",
       "      <td>-0.009519</td>\n",
       "      <td>-0.004276</td>\n",
       "      <td>0.095968</td>\n",
       "      <td>-0.001851</td>\n",
       "      <td>-0.026313</td>\n",
       "      <td>-0.006824</td>\n",
       "      <td>-0.072343</td>\n",
       "      <td>-0.002915</td>\n",
       "      <td>...</td>\n",
       "      <td>0.103916</td>\n",
       "      <td>0.115642</td>\n",
       "      <td>0.096784</td>\n",
       "      <td>-0.083546</td>\n",
       "      <td>0.095071</td>\n",
       "      <td>-0.052690</td>\n",
       "      <td>-0.045623</td>\n",
       "      <td>-0.046420</td>\n",
       "      <td>-0.058929</td>\n",
       "      <td>-0.064198</td>\n",
       "    </tr>\n",
       "    <tr>\n",
       "      <th>serror_rate</th>\n",
       "      <td>-0.069311</td>\n",
       "      <td>0.001787</td>\n",
       "      <td>-0.029805</td>\n",
       "      <td>0.017473</td>\n",
       "      <td>-0.041159</td>\n",
       "      <td>-0.003048</td>\n",
       "      <td>-0.044843</td>\n",
       "      <td>-0.009472</td>\n",
       "      <td>-0.628637</td>\n",
       "      <td>-0.005029</td>\n",
       "      <td>...</td>\n",
       "      <td>0.468422</td>\n",
       "      <td>-0.662809</td>\n",
       "      <td>-0.713226</td>\n",
       "      <td>0.040287</td>\n",
       "      <td>-0.241093</td>\n",
       "      <td>-0.198005</td>\n",
       "      <td>0.996843</td>\n",
       "      <td>0.995152</td>\n",
       "      <td>-0.225339</td>\n",
       "      <td>-0.223713</td>\n",
       "    </tr>\n",
       "    <tr>\n",
       "      <th>srv_serror_rate</th>\n",
       "      <td>-0.069252</td>\n",
       "      <td>0.001096</td>\n",
       "      <td>-0.029837</td>\n",
       "      <td>0.018309</td>\n",
       "      <td>-0.054248</td>\n",
       "      <td>-0.003045</td>\n",
       "      <td>-0.044769</td>\n",
       "      <td>-0.010525</td>\n",
       "      <td>-0.627384</td>\n",
       "      <td>-0.005063</td>\n",
       "      <td>...</td>\n",
       "      <td>0.467599</td>\n",
       "      <td>-0.661834</td>\n",
       "      <td>-0.712226</td>\n",
       "      <td>0.041350</td>\n",
       "      <td>-0.241565</td>\n",
       "      <td>-0.197523</td>\n",
       "      <td>0.995122</td>\n",
       "      <td>0.998351</td>\n",
       "      <td>-0.224579</td>\n",
       "      <td>-0.226899</td>\n",
       "    </tr>\n",
       "    <tr>\n",
       "      <th>rerror_rate</th>\n",
       "      <td>0.004626</td>\n",
       "      <td>0.000315</td>\n",
       "      <td>-0.016049</td>\n",
       "      <td>-0.002840</td>\n",
       "      <td>-0.029163</td>\n",
       "      <td>-0.001661</td>\n",
       "      <td>-0.021365</td>\n",
       "      <td>0.031789</td>\n",
       "      <td>-0.337627</td>\n",
       "      <td>-0.002366</td>\n",
       "      <td>...</td>\n",
       "      <td>0.007130</td>\n",
       "      <td>-0.187302</td>\n",
       "      <td>-0.170706</td>\n",
       "      <td>0.094602</td>\n",
       "      <td>0.005689</td>\n",
       "      <td>0.161976</td>\n",
       "      <td>-0.221220</td>\n",
       "      <td>-0.217427</td>\n",
       "      <td>0.975514</td>\n",
       "      <td>0.972614</td>\n",
       "    </tr>\n",
       "    <tr>\n",
       "      <th>srv_rerror_rate</th>\n",
       "      <td>0.004850</td>\n",
       "      <td>0.001367</td>\n",
       "      <td>-0.015749</td>\n",
       "      <td>-0.004115</td>\n",
       "      <td>-0.029628</td>\n",
       "      <td>-0.001663</td>\n",
       "      <td>-0.019980</td>\n",
       "      <td>0.031802</td>\n",
       "      <td>-0.331837</td>\n",
       "      <td>-0.002026</td>\n",
       "      <td>...</td>\n",
       "      <td>0.008794</td>\n",
       "      <td>-0.184076</td>\n",
       "      <td>-0.167164</td>\n",
       "      <td>0.084444</td>\n",
       "      <td>0.003958</td>\n",
       "      <td>0.158778</td>\n",
       "      <td>-0.221934</td>\n",
       "      <td>-0.224599</td>\n",
       "      <td>0.967375</td>\n",
       "      <td>0.975105</td>\n",
       "    </tr>\n",
       "    <tr>\n",
       "      <th>same_srv_rate</th>\n",
       "      <td>0.059618</td>\n",
       "      <td>-0.002217</td>\n",
       "      <td>0.036113</td>\n",
       "      <td>0.006868</td>\n",
       "      <td>0.051500</td>\n",
       "      <td>0.003656</td>\n",
       "      <td>0.052568</td>\n",
       "      <td>0.012832</td>\n",
       "      <td>0.749621</td>\n",
       "      <td>0.006042</td>\n",
       "      <td>...</td>\n",
       "      <td>-0.561460</td>\n",
       "      <td>0.797215</td>\n",
       "      <td>0.858396</td>\n",
       "      <td>-0.152107</td>\n",
       "      <td>0.246062</td>\n",
       "      <td>0.239784</td>\n",
       "      <td>-0.824566</td>\n",
       "      <td>-0.826026</td>\n",
       "      <td>-0.218342</td>\n",
       "      <td>-0.222184</td>\n",
       "    </tr>\n",
       "    <tr>\n",
       "      <th>diff_srv_rate</th>\n",
       "      <td>0.051852</td>\n",
       "      <td>0.007307</td>\n",
       "      <td>-0.014592</td>\n",
       "      <td>0.001307</td>\n",
       "      <td>-0.021783</td>\n",
       "      <td>-0.001596</td>\n",
       "      <td>-0.012819</td>\n",
       "      <td>0.001910</td>\n",
       "      <td>-0.275756</td>\n",
       "      <td>-0.002535</td>\n",
       "      <td>...</td>\n",
       "      <td>0.201614</td>\n",
       "      <td>-0.320378</td>\n",
       "      <td>-0.340319</td>\n",
       "      <td>0.440370</td>\n",
       "      <td>0.050750</td>\n",
       "      <td>-0.086098</td>\n",
       "      <td>0.150991</td>\n",
       "      <td>0.159389</td>\n",
       "      <td>0.122279</td>\n",
       "      <td>0.122869</td>\n",
       "    </tr>\n",
       "    <tr>\n",
       "      <th>srv_diff_host_rate</th>\n",
       "      <td>-0.039164</td>\n",
       "      <td>-0.001144</td>\n",
       "      <td>-0.003977</td>\n",
       "      <td>0.034247</td>\n",
       "      <td>-0.025112</td>\n",
       "      <td>-0.001822</td>\n",
       "      <td>-0.020297</td>\n",
       "      <td>-0.006933</td>\n",
       "      <td>0.203920</td>\n",
       "      <td>-0.002090</td>\n",
       "      <td>...</td>\n",
       "      <td>-0.268262</td>\n",
       "      <td>0.196082</td>\n",
       "      <td>0.243288</td>\n",
       "      <td>-0.083585</td>\n",
       "      <td>0.061237</td>\n",
       "      <td>0.177706</td>\n",
       "      <td>-0.242629</td>\n",
       "      <td>-0.244214</td>\n",
       "      <td>-0.031970</td>\n",
       "      <td>-0.035608</td>\n",
       "    </tr>\n",
       "    <tr>\n",
       "      <th>dst_host_count</th>\n",
       "      <td>0.062703</td>\n",
       "      <td>-0.000117</td>\n",
       "      <td>-0.034975</td>\n",
       "      <td>-0.021110</td>\n",
       "      <td>0.039512</td>\n",
       "      <td>-0.006155</td>\n",
       "      <td>0.001460</td>\n",
       "      <td>-0.021350</td>\n",
       "      <td>-0.473362</td>\n",
       "      <td>-0.006565</td>\n",
       "      <td>...</td>\n",
       "      <td>1.000000</td>\n",
       "      <td>-0.438434</td>\n",
       "      <td>-0.563801</td>\n",
       "      <td>0.189680</td>\n",
       "      <td>-0.258298</td>\n",
       "      <td>-0.457372</td>\n",
       "      <td>0.469163</td>\n",
       "      <td>0.469101</td>\n",
       "      <td>0.004978</td>\n",
       "      <td>0.007600</td>\n",
       "    </tr>\n",
       "    <tr>\n",
       "      <th>dst_host_srv_count</th>\n",
       "      <td>-0.116824</td>\n",
       "      <td>-0.003937</td>\n",
       "      <td>0.013327</td>\n",
       "      <td>-0.012802</td>\n",
       "      <td>-0.051512</td>\n",
       "      <td>-0.005306</td>\n",
       "      <td>-0.037461</td>\n",
       "      <td>-0.017022</td>\n",
       "      <td>0.759839</td>\n",
       "      <td>-0.005592</td>\n",
       "      <td>...</td>\n",
       "      <td>-0.438434</td>\n",
       "      <td>1.000000</td>\n",
       "      <td>0.936519</td>\n",
       "      <td>-0.400570</td>\n",
       "      <td>-0.060472</td>\n",
       "      <td>0.119721</td>\n",
       "      <td>-0.664636</td>\n",
       "      <td>-0.663781</td>\n",
       "      <td>-0.190194</td>\n",
       "      <td>-0.189481</td>\n",
       "    </tr>\n",
       "    <tr>\n",
       "      <th>dst_host_same_srv_rate</th>\n",
       "      <td>-0.120372</td>\n",
       "      <td>-0.002144</td>\n",
       "      <td>0.031658</td>\n",
       "      <td>0.007972</td>\n",
       "      <td>-0.051003</td>\n",
       "      <td>-0.003356</td>\n",
       "      <td>-0.024315</td>\n",
       "      <td>0.008763</td>\n",
       "      <td>0.769697</td>\n",
       "      <td>-0.002194</td>\n",
       "      <td>...</td>\n",
       "      <td>-0.563801</td>\n",
       "      <td>0.936519</td>\n",
       "      <td>1.000000</td>\n",
       "      <td>-0.415931</td>\n",
       "      <td>0.043663</td>\n",
       "      <td>0.230579</td>\n",
       "      <td>-0.715135</td>\n",
       "      <td>-0.714222</td>\n",
       "      <td>-0.174069</td>\n",
       "      <td>-0.171579</td>\n",
       "    </tr>\n",
       "    <tr>\n",
       "      <th>dst_host_diff_srv_rate</th>\n",
       "      <td>0.429391</td>\n",
       "      <td>0.000138</td>\n",
       "      <td>-0.016820</td>\n",
       "      <td>-0.002662</td>\n",
       "      <td>0.085303</td>\n",
       "      <td>0.013441</td>\n",
       "      <td>-0.010235</td>\n",
       "      <td>-0.002344</td>\n",
       "      <td>-0.308657</td>\n",
       "      <td>-0.000609</td>\n",
       "      <td>...</td>\n",
       "      <td>0.189680</td>\n",
       "      <td>-0.400570</td>\n",
       "      <td>-0.415931</td>\n",
       "      <td>1.000000</td>\n",
       "      <td>0.442299</td>\n",
       "      <td>-0.043912</td>\n",
       "      <td>0.037567</td>\n",
       "      <td>0.041858</td>\n",
       "      <td>0.114312</td>\n",
       "      <td>0.086669</td>\n",
       "    </tr>\n",
       "    <tr>\n",
       "      <th>dst_host_same_src_port_rate</th>\n",
       "      <td>0.353500</td>\n",
       "      <td>0.005619</td>\n",
       "      <td>0.028689</td>\n",
       "      <td>0.037464</td>\n",
       "      <td>0.064637</td>\n",
       "      <td>0.002639</td>\n",
       "      <td>-0.018591</td>\n",
       "      <td>0.002878</td>\n",
       "      <td>-0.095760</td>\n",
       "      <td>-0.001620</td>\n",
       "      <td>...</td>\n",
       "      <td>-0.258298</td>\n",
       "      <td>-0.060472</td>\n",
       "      <td>0.043663</td>\n",
       "      <td>0.442299</td>\n",
       "      <td>1.000000</td>\n",
       "      <td>0.288311</td>\n",
       "      <td>-0.241681</td>\n",
       "      <td>-0.242182</td>\n",
       "      <td>0.009961</td>\n",
       "      <td>-0.002407</td>\n",
       "    </tr>\n",
       "    <tr>\n",
       "      <th>dst_host_srv_diff_host_rate</th>\n",
       "      <td>-0.028847</td>\n",
       "      <td>0.000760</td>\n",
       "      <td>0.001728</td>\n",
       "      <td>0.106807</td>\n",
       "      <td>-0.009676</td>\n",
       "      <td>-0.001494</td>\n",
       "      <td>-0.018850</td>\n",
       "      <td>0.016871</td>\n",
       "      <td>0.033620</td>\n",
       "      <td>-0.000536</td>\n",
       "      <td>...</td>\n",
       "      <td>-0.457372</td>\n",
       "      <td>0.119721</td>\n",
       "      <td>0.230579</td>\n",
       "      <td>-0.043912</td>\n",
       "      <td>0.288311</td>\n",
       "      <td>1.000000</td>\n",
       "      <td>-0.198224</td>\n",
       "      <td>-0.198730</td>\n",
       "      <td>0.164582</td>\n",
       "      <td>0.169209</td>\n",
       "    </tr>\n",
       "    <tr>\n",
       "      <th>dst_host_serror_rate</th>\n",
       "      <td>-0.067714</td>\n",
       "      <td>-0.001742</td>\n",
       "      <td>-0.028956</td>\n",
       "      <td>0.015462</td>\n",
       "      <td>-0.049449</td>\n",
       "      <td>-0.003053</td>\n",
       "      <td>-0.043728</td>\n",
       "      <td>-0.007588</td>\n",
       "      <td>-0.627963</td>\n",
       "      <td>-0.004086</td>\n",
       "      <td>...</td>\n",
       "      <td>0.469163</td>\n",
       "      <td>-0.664636</td>\n",
       "      <td>-0.715135</td>\n",
       "      <td>0.037567</td>\n",
       "      <td>-0.241681</td>\n",
       "      <td>-0.198224</td>\n",
       "      <td>1.000000</td>\n",
       "      <td>0.995898</td>\n",
       "      <td>-0.227627</td>\n",
       "      <td>-0.223813</td>\n",
       "    </tr>\n",
       "    <tr>\n",
       "      <th>dst_host_srv_serror_rate</th>\n",
       "      <td>-0.067908</td>\n",
       "      <td>0.001111</td>\n",
       "      <td>-0.028726</td>\n",
       "      <td>0.008634</td>\n",
       "      <td>-0.054156</td>\n",
       "      <td>-0.003040</td>\n",
       "      <td>-0.044732</td>\n",
       "      <td>-0.008348</td>\n",
       "      <td>-0.627838</td>\n",
       "      <td>-0.003538</td>\n",
       "      <td>...</td>\n",
       "      <td>0.469101</td>\n",
       "      <td>-0.663781</td>\n",
       "      <td>-0.714222</td>\n",
       "      <td>0.041858</td>\n",
       "      <td>-0.242182</td>\n",
       "      <td>-0.198730</td>\n",
       "      <td>0.995898</td>\n",
       "      <td>1.000000</td>\n",
       "      <td>-0.224286</td>\n",
       "      <td>-0.226631</td>\n",
       "    </tr>\n",
       "    <tr>\n",
       "      <th>dst_host_rerror_rate</th>\n",
       "      <td>-0.003710</td>\n",
       "      <td>-0.001092</td>\n",
       "      <td>-0.014865</td>\n",
       "      <td>-0.003981</td>\n",
       "      <td>0.029722</td>\n",
       "      <td>-0.001709</td>\n",
       "      <td>-0.020471</td>\n",
       "      <td>0.031271</td>\n",
       "      <td>-0.331083</td>\n",
       "      <td>-0.002371</td>\n",
       "      <td>...</td>\n",
       "      <td>0.004978</td>\n",
       "      <td>-0.190194</td>\n",
       "      <td>-0.174069</td>\n",
       "      <td>0.114312</td>\n",
       "      <td>0.009961</td>\n",
       "      <td>0.164582</td>\n",
       "      <td>-0.227627</td>\n",
       "      <td>-0.224286</td>\n",
       "      <td>1.000000</td>\n",
       "      <td>0.971501</td>\n",
       "    </tr>\n",
       "    <tr>\n",
       "      <th>dst_host_srv_rerror_rate</th>\n",
       "      <td>0.002456</td>\n",
       "      <td>0.001327</td>\n",
       "      <td>-0.015282</td>\n",
       "      <td>-0.004149</td>\n",
       "      <td>-0.029870</td>\n",
       "      <td>-0.001677</td>\n",
       "      <td>-0.021826</td>\n",
       "      <td>0.029892</td>\n",
       "      <td>-0.320664</td>\n",
       "      <td>-0.002377</td>\n",
       "      <td>...</td>\n",
       "      <td>0.007600</td>\n",
       "      <td>-0.189481</td>\n",
       "      <td>-0.171579</td>\n",
       "      <td>0.086669</td>\n",
       "      <td>-0.002407</td>\n",
       "      <td>0.169209</td>\n",
       "      <td>-0.223813</td>\n",
       "      <td>-0.226631</td>\n",
       "      <td>0.971501</td>\n",
       "      <td>1.000000</td>\n",
       "    </tr>\n",
       "  </tbody>\n",
       "</table>\n",
       "<p>36 rows × 36 columns</p>\n",
       "</div>"
      ],
      "text/plain": [
       "                             duration  src_bytes  dst_bytes      land  \\\n",
       "duration                     1.000000   0.004280   0.002582 -0.001264   \n",
       "src_bytes                    0.004280   1.000000  -0.000162 -0.000051   \n",
       "dst_bytes                    0.002582  -0.000162   1.000000 -0.000551   \n",
       "land                        -0.001264  -0.000051  -0.000551  1.000000   \n",
       "wrong_fragment              -0.009102  -0.000365  -0.003969 -0.000989   \n",
       "urgent                       0.003707  -0.000018   0.016147 -0.000056   \n",
       "hot                          0.009855   0.003999   0.000658 -0.000823   \n",
       "num_failed_logins            0.004343  -0.000077   0.048789 -0.000211   \n",
       "logged_in                   -0.090667  -0.000928   0.028106 -0.011524   \n",
       "num_compromised              0.061454   0.000025   0.022755 -0.000093   \n",
       "root_shell                   0.021395  -0.000075   0.031076 -0.000228   \n",
       "su_attempted                 0.058895  -0.000033   0.075442 -0.000101   \n",
       "num_root                     0.059745  -0.000038   0.020425 -0.000122   \n",
       "num_file_creations           0.078000  -0.000043   0.004285 -0.000243   \n",
       "num_shells                  -0.001435  -0.000045  -0.000454 -0.000214   \n",
       "num_access_files             0.023886  -0.000191   0.007099 -0.000596   \n",
       "is_guest_login               0.020268  -0.000270  -0.000959 -0.000806   \n",
       "count                       -0.078036  -0.001727  -0.032532 -0.008112   \n",
       "srv_count                   -0.040818  -0.001438  -0.009519 -0.004276   \n",
       "serror_rate                 -0.069311   0.001787  -0.029805  0.017473   \n",
       "srv_serror_rate             -0.069252   0.001096  -0.029837  0.018309   \n",
       "rerror_rate                  0.004626   0.000315  -0.016049 -0.002840   \n",
       "srv_rerror_rate              0.004850   0.001367  -0.015749 -0.004115   \n",
       "same_srv_rate                0.059618  -0.002217   0.036113  0.006868   \n",
       "diff_srv_rate                0.051852   0.007307  -0.014592  0.001307   \n",
       "srv_diff_host_rate          -0.039164  -0.001144  -0.003977  0.034247   \n",
       "dst_host_count               0.062703  -0.000117  -0.034975 -0.021110   \n",
       "dst_host_srv_count          -0.116824  -0.003937   0.013327 -0.012802   \n",
       "dst_host_same_srv_rate      -0.120372  -0.002144   0.031658  0.007972   \n",
       "dst_host_diff_srv_rate       0.429391   0.000138  -0.016820 -0.002662   \n",
       "dst_host_same_src_port_rate  0.353500   0.005619   0.028689  0.037464   \n",
       "dst_host_srv_diff_host_rate -0.028847   0.000760   0.001728  0.106807   \n",
       "dst_host_serror_rate        -0.067714  -0.001742  -0.028956  0.015462   \n",
       "dst_host_srv_serror_rate    -0.067908   0.001111  -0.028726  0.008634   \n",
       "dst_host_rerror_rate        -0.003710  -0.001092  -0.014865 -0.003981   \n",
       "dst_host_srv_rerror_rate     0.002456   0.001327  -0.015282 -0.004149   \n",
       "\n",
       "                             wrong_fragment    urgent       hot  \\\n",
       "duration                          -0.009102  0.003707  0.009855   \n",
       "src_bytes                         -0.000365 -0.000018  0.003999   \n",
       "dst_bytes                         -0.003969  0.016147  0.000658   \n",
       "land                              -0.000989 -0.000056 -0.000823   \n",
       "wrong_fragment                     1.000000 -0.000400 -0.005925   \n",
       "urgent                            -0.000400  1.000000  0.000142   \n",
       "hot                               -0.005925  0.000142  1.000000   \n",
       "num_failed_logins                 -0.001521  0.141954  0.007997   \n",
       "logged_in                         -0.082969  0.004818  0.070770   \n",
       "num_compromised                   -0.000667  0.014268  0.003533   \n",
       "root_shell                        -0.001641  0.034730  0.023408   \n",
       "su_attempted                      -0.000727 -0.000041 -0.000605   \n",
       "num_root                          -0.000877  0.009442  0.000530   \n",
       "num_file_creations                -0.001746  0.015145  0.024545   \n",
       "num_shells                        -0.001542 -0.000087  0.005595   \n",
       "num_access_files                  -0.004294  0.019932 -0.000415   \n",
       "is_guest_login                    -0.005803 -0.000326  0.850054   \n",
       "count                             -0.013634 -0.003465 -0.051036   \n",
       "srv_count                          0.095968 -0.001851 -0.026313   \n",
       "serror_rate                       -0.041159 -0.003048 -0.044843   \n",
       "srv_serror_rate                   -0.054248 -0.003045 -0.044769   \n",
       "rerror_rate                       -0.029163 -0.001661 -0.021365   \n",
       "srv_rerror_rate                   -0.029628 -0.001663 -0.019980   \n",
       "same_srv_rate                      0.051500  0.003656  0.052568   \n",
       "diff_srv_rate                     -0.021783 -0.001596 -0.012819   \n",
       "srv_diff_host_rate                -0.025112 -0.001822 -0.020297   \n",
       "dst_host_count                     0.039512 -0.006155  0.001460   \n",
       "dst_host_srv_count                -0.051512 -0.005306 -0.037461   \n",
       "dst_host_same_srv_rate            -0.051003 -0.003356 -0.024315   \n",
       "dst_host_diff_srv_rate             0.085303  0.013441 -0.010235   \n",
       "dst_host_same_src_port_rate        0.064637  0.002639 -0.018591   \n",
       "dst_host_srv_diff_host_rate       -0.009676 -0.001494 -0.018850   \n",
       "dst_host_serror_rate              -0.049449 -0.003053 -0.043728   \n",
       "dst_host_srv_serror_rate          -0.054156 -0.003040 -0.044732   \n",
       "dst_host_rerror_rate               0.029722 -0.001709 -0.020471   \n",
       "dst_host_srv_rerror_rate          -0.029870 -0.001677 -0.021826   \n",
       "\n",
       "                             num_failed_logins  logged_in  num_compromised  \\\n",
       "duration                              0.004343  -0.090667         0.061454   \n",
       "src_bytes                            -0.000077  -0.000928         0.000025   \n",
       "dst_bytes                             0.048789   0.028106         0.022755   \n",
       "land                                 -0.000211  -0.011524        -0.000093   \n",
       "wrong_fragment                       -0.001521  -0.082969        -0.000667   \n",
       "urgent                                0.141954   0.004818         0.014268   \n",
       "hot                                   0.007997   0.070770         0.003533   \n",
       "num_failed_logins                     1.000000  -0.013872         0.006824   \n",
       "logged_in                            -0.013872   1.000000         0.008041   \n",
       "num_compromised                       0.006824   0.008041         1.000000   \n",
       "root_shell                            0.036745   0.019774         0.255600   \n",
       "su_attempted                          0.117024   0.008761         0.701658   \n",
       "num_root                              0.003118   0.010568         0.994215   \n",
       "num_file_creations                    0.003686   0.021049         0.010840   \n",
       "num_shells                           -0.000329   0.018588         0.009257   \n",
       "num_access_files                      0.002665   0.051757         0.412849   \n",
       "is_guest_login                       -0.001239   0.069936        -0.000544   \n",
       "count                                -0.013105  -0.649233        -0.005707   \n",
       "srv_count                            -0.006824  -0.072343        -0.002915   \n",
       "serror_rate                          -0.009472  -0.628637        -0.005029   \n",
       "srv_serror_rate                      -0.010525  -0.627384        -0.005063   \n",
       "rerror_rate                           0.031789  -0.337627        -0.002366   \n",
       "srv_rerror_rate                       0.031802  -0.331837        -0.002026   \n",
       "same_srv_rate                         0.012832   0.749621         0.006042   \n",
       "diff_srv_rate                         0.001910  -0.275756        -0.002535   \n",
       "srv_diff_host_rate                   -0.006933   0.203920        -0.002090   \n",
       "dst_host_count                       -0.021350  -0.473362        -0.006565   \n",
       "dst_host_srv_count                   -0.017022   0.759839        -0.005592   \n",
       "dst_host_same_srv_rate                0.008763   0.769697        -0.002194   \n",
       "dst_host_diff_srv_rate               -0.002344  -0.308657        -0.000609   \n",
       "dst_host_same_src_port_rate           0.002878  -0.095760        -0.001620   \n",
       "dst_host_srv_diff_host_rate           0.016871   0.033620        -0.000536   \n",
       "dst_host_serror_rate                 -0.007588  -0.627963        -0.004086   \n",
       "dst_host_srv_serror_rate             -0.008348  -0.627838        -0.003538   \n",
       "dst_host_rerror_rate                  0.031271  -0.331083        -0.002371   \n",
       "dst_host_srv_rerror_rate              0.029892  -0.320664        -0.002377   \n",
       "\n",
       "                             ...  dst_host_count  dst_host_srv_count  \\\n",
       "duration                     ...        0.062703           -0.116824   \n",
       "src_bytes                    ...       -0.000117           -0.003937   \n",
       "dst_bytes                    ...       -0.034975            0.013327   \n",
       "land                         ...       -0.021110           -0.012802   \n",
       "wrong_fragment               ...        0.039512           -0.051512   \n",
       "urgent                       ...       -0.006155           -0.005306   \n",
       "hot                          ...        0.001460           -0.037461   \n",
       "num_failed_logins            ...       -0.021350           -0.017022   \n",
       "logged_in                    ...       -0.473362            0.759839   \n",
       "num_compromised              ...       -0.006565           -0.005592   \n",
       "root_shell                   ...       -0.019345           -0.007122   \n",
       "su_attempted                 ...       -0.003474           -0.006711   \n",
       "num_root                     ...       -0.008627           -0.008278   \n",
       "num_file_creations           ...       -0.012372           -0.013029   \n",
       "num_shells                   ...       -0.011191           -0.011433   \n",
       "num_access_files             ...        0.000666            0.024631   \n",
       "is_guest_login               ...       -0.005345           -0.050108   \n",
       "count                        ...        0.504125           -0.639478   \n",
       "srv_count                    ...        0.103916            0.115642   \n",
       "serror_rate                  ...        0.468422           -0.662809   \n",
       "srv_serror_rate              ...        0.467599           -0.661834   \n",
       "rerror_rate                  ...        0.007130           -0.187302   \n",
       "srv_rerror_rate              ...        0.008794           -0.184076   \n",
       "same_srv_rate                ...       -0.561460            0.797215   \n",
       "diff_srv_rate                ...        0.201614           -0.320378   \n",
       "srv_diff_host_rate           ...       -0.268262            0.196082   \n",
       "dst_host_count               ...        1.000000           -0.438434   \n",
       "dst_host_srv_count           ...       -0.438434            1.000000   \n",
       "dst_host_same_srv_rate       ...       -0.563801            0.936519   \n",
       "dst_host_diff_srv_rate       ...        0.189680           -0.400570   \n",
       "dst_host_same_src_port_rate  ...       -0.258298           -0.060472   \n",
       "dst_host_srv_diff_host_rate  ...       -0.457372            0.119721   \n",
       "dst_host_serror_rate         ...        0.469163           -0.664636   \n",
       "dst_host_srv_serror_rate     ...        0.469101           -0.663781   \n",
       "dst_host_rerror_rate         ...        0.004978           -0.190194   \n",
       "dst_host_srv_rerror_rate     ...        0.007600           -0.189481   \n",
       "\n",
       "                             dst_host_same_srv_rate  dst_host_diff_srv_rate  \\\n",
       "duration                                  -0.120372                0.429391   \n",
       "src_bytes                                 -0.002144                0.000138   \n",
       "dst_bytes                                  0.031658               -0.016820   \n",
       "land                                       0.007972               -0.002662   \n",
       "wrong_fragment                            -0.051003                0.085303   \n",
       "urgent                                    -0.003356                0.013441   \n",
       "hot                                       -0.024315               -0.010235   \n",
       "num_failed_logins                          0.008763               -0.002344   \n",
       "logged_in                                  0.769697               -0.308657   \n",
       "num_compromised                           -0.002194               -0.000609   \n",
       "root_shell                                 0.010097               -0.004968   \n",
       "su_attempted                              -0.005473               -0.000700   \n",
       "num_root                                  -0.006597                0.001765   \n",
       "num_file_creations                        -0.005514                0.004627   \n",
       "num_shells                                -0.004787               -0.002912   \n",
       "num_access_files                           0.029621               -0.007653   \n",
       "is_guest_login                            -0.041527               -0.001059   \n",
       "count                                     -0.696836                0.159164   \n",
       "srv_count                                  0.096784               -0.083546   \n",
       "serror_rate                               -0.713226                0.040287   \n",
       "srv_serror_rate                           -0.712226                0.041350   \n",
       "rerror_rate                               -0.170706                0.094602   \n",
       "srv_rerror_rate                           -0.167164                0.084444   \n",
       "same_srv_rate                              0.858396               -0.152107   \n",
       "diff_srv_rate                             -0.340319                0.440370   \n",
       "srv_diff_host_rate                         0.243288               -0.083585   \n",
       "dst_host_count                            -0.563801                0.189680   \n",
       "dst_host_srv_count                         0.936519               -0.400570   \n",
       "dst_host_same_srv_rate                     1.000000               -0.415931   \n",
       "dst_host_diff_srv_rate                    -0.415931                1.000000   \n",
       "dst_host_same_src_port_rate                0.043663                0.442299   \n",
       "dst_host_srv_diff_host_rate                0.230579               -0.043912   \n",
       "dst_host_serror_rate                      -0.715135                0.037567   \n",
       "dst_host_srv_serror_rate                  -0.714222                0.041858   \n",
       "dst_host_rerror_rate                      -0.174069                0.114312   \n",
       "dst_host_srv_rerror_rate                  -0.171579                0.086669   \n",
       "\n",
       "                             dst_host_same_src_port_rate  \\\n",
       "duration                                        0.353500   \n",
       "src_bytes                                       0.005619   \n",
       "dst_bytes                                       0.028689   \n",
       "land                                            0.037464   \n",
       "wrong_fragment                                  0.064637   \n",
       "urgent                                          0.002639   \n",
       "hot                                            -0.018591   \n",
       "num_failed_logins                               0.002878   \n",
       "logged_in                                      -0.095760   \n",
       "num_compromised                                -0.001620   \n",
       "root_shell                                      0.017979   \n",
       "su_attempted                                   -0.002939   \n",
       "num_root                                        0.002758   \n",
       "num_file_creations                              0.007198   \n",
       "num_shells                                      0.025904   \n",
       "num_access_files                               -0.011241   \n",
       "is_guest_login                                 -0.021082   \n",
       "count                                          -0.208934   \n",
       "srv_count                                       0.095071   \n",
       "serror_rate                                    -0.241093   \n",
       "srv_serror_rate                                -0.241565   \n",
       "rerror_rate                                     0.005689   \n",
       "srv_rerror_rate                                 0.003958   \n",
       "same_srv_rate                                   0.246062   \n",
       "diff_srv_rate                                   0.050750   \n",
       "srv_diff_host_rate                              0.061237   \n",
       "dst_host_count                                 -0.258298   \n",
       "dst_host_srv_count                             -0.060472   \n",
       "dst_host_same_srv_rate                          0.043663   \n",
       "dst_host_diff_srv_rate                          0.442299   \n",
       "dst_host_same_src_port_rate                     1.000000   \n",
       "dst_host_srv_diff_host_rate                     0.288311   \n",
       "dst_host_serror_rate                           -0.241681   \n",
       "dst_host_srv_serror_rate                       -0.242182   \n",
       "dst_host_rerror_rate                            0.009961   \n",
       "dst_host_srv_rerror_rate                       -0.002407   \n",
       "\n",
       "                             dst_host_srv_diff_host_rate  \\\n",
       "duration                                       -0.028847   \n",
       "src_bytes                                       0.000760   \n",
       "dst_bytes                                       0.001728   \n",
       "land                                            0.106807   \n",
       "wrong_fragment                                 -0.009676   \n",
       "urgent                                         -0.001494   \n",
       "hot                                            -0.018850   \n",
       "num_failed_logins                               0.016871   \n",
       "logged_in                                       0.033620   \n",
       "num_compromised                                -0.000536   \n",
       "root_shell                                      0.017801   \n",
       "su_attempted                                    0.000611   \n",
       "num_root                                        0.000843   \n",
       "num_file_creations                              0.008535   \n",
       "num_shells                                      0.002473   \n",
       "num_access_files                               -0.009451   \n",
       "is_guest_login                                 -0.021314   \n",
       "count                                          -0.220693   \n",
       "srv_count                                      -0.052690   \n",
       "serror_rate                                    -0.198005   \n",
       "srv_serror_rate                                -0.197523   \n",
       "rerror_rate                                     0.161976   \n",
       "srv_rerror_rate                                 0.158778   \n",
       "same_srv_rate                                   0.239784   \n",
       "diff_srv_rate                                  -0.086098   \n",
       "srv_diff_host_rate                              0.177706   \n",
       "dst_host_count                                 -0.457372   \n",
       "dst_host_srv_count                              0.119721   \n",
       "dst_host_same_srv_rate                          0.230579   \n",
       "dst_host_diff_srv_rate                         -0.043912   \n",
       "dst_host_same_src_port_rate                     0.288311   \n",
       "dst_host_srv_diff_host_rate                     1.000000   \n",
       "dst_host_serror_rate                           -0.198224   \n",
       "dst_host_srv_serror_rate                       -0.198730   \n",
       "dst_host_rerror_rate                            0.164582   \n",
       "dst_host_srv_rerror_rate                        0.169209   \n",
       "\n",
       "                             dst_host_serror_rate  dst_host_srv_serror_rate  \\\n",
       "duration                                -0.067714                 -0.067908   \n",
       "src_bytes                               -0.001742                  0.001111   \n",
       "dst_bytes                               -0.028956                 -0.028726   \n",
       "land                                     0.015462                  0.008634   \n",
       "wrong_fragment                          -0.049449                 -0.054156   \n",
       "urgent                                  -0.003053                 -0.003040   \n",
       "hot                                     -0.043728                 -0.044732   \n",
       "num_failed_logins                       -0.007588                 -0.008348   \n",
       "logged_in                               -0.627963                 -0.627838   \n",
       "num_compromised                         -0.004086                 -0.003538   \n",
       "root_shell                              -0.011989                 -0.011423   \n",
       "su_attempted                            -0.002865                 -0.002171   \n",
       "num_root                                -0.005857                 -0.005228   \n",
       "num_file_creations                      -0.009533                 -0.010930   \n",
       "num_shells                              -0.011507                 -0.011428   \n",
       "num_access_files                        -0.032010                 -0.031514   \n",
       "is_guest_login                          -0.042587                 -0.044024   \n",
       "count                                    0.688457                  0.692504   \n",
       "srv_count                               -0.045623                 -0.046420   \n",
       "serror_rate                              0.996843                  0.995152   \n",
       "srv_serror_rate                          0.995122                  0.998351   \n",
       "rerror_rate                             -0.221220                 -0.217427   \n",
       "srv_rerror_rate                         -0.221934                 -0.224599   \n",
       "same_srv_rate                           -0.824566                 -0.826026   \n",
       "diff_srv_rate                            0.150991                  0.159389   \n",
       "srv_diff_host_rate                      -0.242629                 -0.244214   \n",
       "dst_host_count                           0.469163                  0.469101   \n",
       "dst_host_srv_count                      -0.664636                 -0.663781   \n",
       "dst_host_same_srv_rate                  -0.715135                 -0.714222   \n",
       "dst_host_diff_srv_rate                   0.037567                  0.041858   \n",
       "dst_host_same_src_port_rate             -0.241681                 -0.242182   \n",
       "dst_host_srv_diff_host_rate             -0.198224                 -0.198730   \n",
       "dst_host_serror_rate                     1.000000                  0.995898   \n",
       "dst_host_srv_serror_rate                 0.995898                  1.000000   \n",
       "dst_host_rerror_rate                    -0.227627                 -0.224286   \n",
       "dst_host_srv_rerror_rate                -0.223813                 -0.226631   \n",
       "\n",
       "                             dst_host_rerror_rate  dst_host_srv_rerror_rate  \n",
       "duration                                -0.003710                  0.002456  \n",
       "src_bytes                               -0.001092                  0.001327  \n",
       "dst_bytes                               -0.014865                 -0.015282  \n",
       "land                                    -0.003981                 -0.004149  \n",
       "wrong_fragment                           0.029722                 -0.029870  \n",
       "urgent                                  -0.001709                 -0.001677  \n",
       "hot                                     -0.020471                 -0.021826  \n",
       "num_failed_logins                        0.031271                  0.029892  \n",
       "logged_in                               -0.331083                 -0.320664  \n",
       "num_compromised                         -0.002371                 -0.002377  \n",
       "root_shell                              -0.003320                 -0.005719  \n",
       "su_attempted                            -0.000576                 -0.002640  \n",
       "num_root                                -0.003169                 -0.003644  \n",
       "num_file_creations                      -0.005639                 -0.005479  \n",
       "num_shells                              -0.005788                 -0.006245  \n",
       "num_access_files                        -0.017871                 -0.017852  \n",
       "is_guest_login                          -0.022261                 -0.023494  \n",
       "count                                    0.198369                  0.195441  \n",
       "srv_count                               -0.058929                 -0.064198  \n",
       "serror_rate                             -0.225339                 -0.223713  \n",
       "srv_serror_rate                         -0.224579                 -0.226899  \n",
       "rerror_rate                              0.975514                  0.972614  \n",
       "srv_rerror_rate                          0.967375                  0.975105  \n",
       "same_srv_rate                           -0.218342                 -0.222184  \n",
       "diff_srv_rate                            0.122279                  0.122869  \n",
       "srv_diff_host_rate                      -0.031970                 -0.035608  \n",
       "dst_host_count                           0.004978                  0.007600  \n",
       "dst_host_srv_count                      -0.190194                 -0.189481  \n",
       "dst_host_same_srv_rate                  -0.174069                 -0.171579  \n",
       "dst_host_diff_srv_rate                   0.114312                  0.086669  \n",
       "dst_host_same_src_port_rate              0.009961                 -0.002407  \n",
       "dst_host_srv_diff_host_rate              0.164582                  0.169209  \n",
       "dst_host_serror_rate                    -0.227627                 -0.223813  \n",
       "dst_host_srv_serror_rate                -0.224286                 -0.226631  \n",
       "dst_host_rerror_rate                     1.000000                  0.971501  \n",
       "dst_host_srv_rerror_rate                 0.971501                  1.000000  \n",
       "\n",
       "[36 rows x 36 columns]"
      ]
     },
     "execution_count": 27,
     "metadata": {},
     "output_type": "execute_result"
    }
   ],
   "source": [
    "corr = df.corr(numeric_only=True)\n",
    "corr"
   ]
  },
  {
   "cell_type": "code",
   "execution_count": 28,
   "id": "5fb909b0",
   "metadata": {
    "execution": {
     "iopub.execute_input": "2023-07-18T11:08:26.403648Z",
     "iopub.status.busy": "2023-07-18T11:08:26.403274Z",
     "iopub.status.idle": "2023-07-18T11:08:27.447562Z",
     "shell.execute_reply": "2023-07-18T11:08:27.446235Z"
    },
    "papermill": {
     "duration": 1.092384,
     "end_time": "2023-07-18T11:08:27.451872",
     "exception": false,
     "start_time": "2023-07-18T11:08:26.359488",
     "status": "completed"
    },
    "tags": []
   },
   "outputs": [
    {
     "data": {
      "image/png": "[encoded data removed]",
      "text/plain": [
       "<Figure size 1500x1200 with 2 Axes>"
      ]
     },
     "metadata": {},
     "output_type": "display_data"
    }
   ],
   "source": [
    "plt.figure(figsize=(15,12))\n",
    "\n",
    "sns.heatmap(corr)\n",
    "\n",
    "plt.show()"
   ]
  },
  {
   "cell_type": "code",
   "execution_count": 29,
   "id": "dd05af89",
   "metadata": {
    "execution": {
     "iopub.execute_input": "2023-07-18T11:08:27.542779Z",
     "iopub.status.busy": "2023-07-18T11:08:27.542361Z",
     "iopub.status.idle": "2023-07-18T11:08:27.554102Z",
     "shell.execute_reply": "2023-07-18T11:08:27.552758Z"
    },
    "papermill": {
     "duration": 0.060142,
     "end_time": "2023-07-18T11:08:27.556521",
     "exception": false,
     "start_time": "2023-07-18T11:08:27.496379",
     "status": "completed"
    },
    "tags": []
   },
   "outputs": [
    {
     "data": {
      "text/plain": [
       "0.9942146069064257"
      ]
     },
     "execution_count": 29,
     "metadata": {},
     "output_type": "execute_result"
    }
   ],
   "source": [
    "df['num_root'].corr(df['num_compromised'])\n"
   ]
  },
  {
   "cell_type": "code",
   "execution_count": 30,
   "id": "e2103324",
   "metadata": {
    "execution": {
     "iopub.execute_input": "2023-07-18T11:08:27.651643Z",
     "iopub.status.busy": "2023-07-18T11:08:27.650257Z",
     "iopub.status.idle": "2023-07-18T11:08:27.663842Z",
     "shell.execute_reply": "2023-07-18T11:08:27.662798Z"
    },
    "papermill": {
     "duration": 0.065472,
     "end_time": "2023-07-18T11:08:27.666461",
     "exception": false,
     "start_time": "2023-07-18T11:08:27.600989",
     "status": "completed"
    },
    "tags": []
   },
   "outputs": [
    {
     "data": {
      "text/plain": [
       "0.9963627548287096"
      ]
     },
     "execution_count": 30,
     "metadata": {},
     "output_type": "execute_result"
    }
   ],
   "source": [
    "df['srv_serror_rate'].corr(df['serror_rate'])\n"
   ]
  },
  {
   "cell_type": "code",
   "execution_count": 31,
   "id": "d5585bb1",
   "metadata": {
    "execution": {
     "iopub.execute_input": "2023-07-18T11:08:27.762620Z",
     "iopub.status.busy": "2023-07-18T11:08:27.761477Z",
     "iopub.status.idle": "2023-07-18T11:08:27.773004Z",
     "shell.execute_reply": "2023-07-18T11:08:27.771804Z"
    },
    "papermill": {
     "duration": 0.06209,
     "end_time": "2023-07-18T11:08:27.775497",
     "exception": false,
     "start_time": "2023-07-18T11:08:27.713407",
     "status": "completed"
    },
    "tags": []
   },
   "outputs": [
    {
     "data": {
      "text/plain": [
       "0.9913169525713"
      ]
     },
     "execution_count": 31,
     "metadata": {},
     "output_type": "execute_result"
    }
   ],
   "source": [
    "df['srv_rerror_rate'].corr(df['rerror_rate'])\n"
   ]
  },
  {
   "cell_type": "code",
   "execution_count": 32,
   "id": "8e3a94b2",
   "metadata": {
    "execution": {
     "iopub.execute_input": "2023-07-18T11:08:27.872804Z",
     "iopub.status.busy": "2023-07-18T11:08:27.872045Z",
     "iopub.status.idle": "2023-07-18T11:08:27.882269Z",
     "shell.execute_reply": "2023-07-18T11:08:27.880861Z"
    },
    "papermill": {
     "duration": 0.062116,
     "end_time": "2023-07-18T11:08:27.885234",
     "exception": false,
     "start_time": "2023-07-18T11:08:27.823118",
     "status": "completed"
    },
    "tags": []
   },
   "outputs": [
    {
     "data": {
      "text/plain": [
       "0.9365191648908947"
      ]
     },
     "execution_count": 32,
     "metadata": {},
     "output_type": "execute_result"
    }
   ],
   "source": [
    "df['dst_host_same_srv_rate'].corr(df['dst_host_srv_count'])\n"
   ]
  },
  {
   "cell_type": "code",
   "execution_count": 33,
   "id": "a7d1f9bc",
   "metadata": {
    "execution": {
     "iopub.execute_input": "2023-07-18T11:08:27.982818Z",
     "iopub.status.busy": "2023-07-18T11:08:27.982063Z",
     "iopub.status.idle": "2023-07-18T11:08:27.992436Z",
     "shell.execute_reply": "2023-07-18T11:08:27.991411Z"
    },
    "papermill": {
     "duration": 0.061921,
     "end_time": "2023-07-18T11:08:27.995125",
     "exception": false,
     "start_time": "2023-07-18T11:08:27.933204",
     "status": "completed"
    },
    "tags": []
   },
   "outputs": [
    {
     "data": {
      "text/plain": [
       "0.9958977350060594"
      ]
     },
     "execution_count": 33,
     "metadata": {},
     "output_type": "execute_result"
    }
   ],
   "source": [
    "df['dst_host_srv_serror_rate'].corr(df['dst_host_serror_rate'])\n"
   ]
  },
  {
   "cell_type": "code",
   "execution_count": 34,
   "id": "dcc151d4",
   "metadata": {
    "execution": {
     "iopub.execute_input": "2023-07-18T11:08:28.089549Z",
     "iopub.status.busy": "2023-07-18T11:08:28.088742Z",
     "iopub.status.idle": "2023-07-18T11:08:28.099128Z",
     "shell.execute_reply": "2023-07-18T11:08:28.098008Z"
    },
    "papermill": {
     "duration": 0.060614,
     "end_time": "2023-07-18T11:08:28.101477",
     "exception": false,
     "start_time": "2023-07-18T11:08:28.040863",
     "status": "completed"
    },
    "tags": []
   },
   "outputs": [
    {
     "data": {
      "text/plain": [
       "0.97150113337495"
      ]
     },
     "execution_count": 34,
     "metadata": {},
     "output_type": "execute_result"
    }
   ],
   "source": [
    "df['dst_host_srv_rerror_rate'].corr(df['dst_host_rerror_rate'])\n"
   ]
  },
  {
   "cell_type": "code",
   "execution_count": 35,
   "id": "823de837",
   "metadata": {
    "execution": {
     "iopub.execute_input": "2023-07-18T11:08:28.195397Z",
     "iopub.status.busy": "2023-07-18T11:08:28.194360Z",
     "iopub.status.idle": "2023-07-18T11:08:28.204705Z",
     "shell.execute_reply": "2023-07-18T11:08:28.203770Z"
    },
    "papermill": {
     "duration": 0.059831,
     "end_time": "2023-07-18T11:08:28.207116",
     "exception": false,
     "start_time": "2023-07-18T11:08:28.147285",
     "status": "completed"
    },
    "tags": []
   },
   "outputs": [
    {
     "data": {
      "text/plain": [
       "0.9968427313716473"
      ]
     },
     "execution_count": 35,
     "metadata": {},
     "output_type": "execute_result"
    }
   ],
   "source": [
    "df['dst_host_serror_rate'].corr(df['serror_rate'])\n"
   ]
  },
  {
   "cell_type": "code",
   "execution_count": 36,
   "id": "472d57a3",
   "metadata": {
    "execution": {
     "iopub.execute_input": "2023-07-18T11:08:28.301664Z",
     "iopub.status.busy": "2023-07-18T11:08:28.301211Z",
     "iopub.status.idle": "2023-07-18T11:08:28.313089Z",
     "shell.execute_reply": "2023-07-18T11:08:28.311792Z"
    },
    "papermill": {
     "duration": 0.06313,
     "end_time": "2023-07-18T11:08:28.315450",
     "exception": false,
     "start_time": "2023-07-18T11:08:28.252320",
     "status": "completed"
    },
    "tags": []
   },
   "outputs": [
    {
     "data": {
      "text/plain": [
       "0.9951224321913357"
      ]
     },
     "execution_count": 36,
     "metadata": {},
     "output_type": "execute_result"
    }
   ],
   "source": [
    "df['dst_host_serror_rate'].corr(df['srv_serror_rate'])\n"
   ]
  },
  {
   "cell_type": "code",
   "execution_count": 37,
   "id": "d6932873",
   "metadata": {
    "execution": {
     "iopub.execute_input": "2023-07-18T11:08:28.410934Z",
     "iopub.status.busy": "2023-07-18T11:08:28.409471Z",
     "iopub.status.idle": "2023-07-18T11:08:28.421139Z",
     "shell.execute_reply": "2023-07-18T11:08:28.420011Z"
    },
    "papermill": {
     "duration": 0.061816,
     "end_time": "2023-07-18T11:08:28.423357",
     "exception": false,
     "start_time": "2023-07-18T11:08:28.361541",
     "status": "completed"
    },
    "tags": []
   },
   "outputs": [
    {
     "data": {
      "text/plain": [
       "0.9951521034735569"
      ]
     },
     "execution_count": 37,
     "metadata": {},
     "output_type": "execute_result"
    }
   ],
   "source": [
    "df['dst_host_srv_serror_rate'].corr(df['serror_rate'])\n"
   ]
  },
  {
   "cell_type": "code",
   "execution_count": 38,
   "id": "a8794293",
   "metadata": {
    "execution": {
     "iopub.execute_input": "2023-07-18T11:08:28.516828Z",
     "iopub.status.busy": "2023-07-18T11:08:28.516361Z",
     "iopub.status.idle": "2023-07-18T11:08:28.528492Z",
     "shell.execute_reply": "2023-07-18T11:08:28.527341Z"
    },
    "papermill": {
     "duration": 0.062018,
     "end_time": "2023-07-18T11:08:28.530959",
     "exception": false,
     "start_time": "2023-07-18T11:08:28.468941",
     "status": "completed"
    },
    "tags": []
   },
   "outputs": [
    {
     "data": {
      "text/plain": [
       "0.9983509795964981"
      ]
     },
     "execution_count": 38,
     "metadata": {},
     "output_type": "execute_result"
    }
   ],
   "source": [
    "df['dst_host_srv_serror_rate'].corr(df['srv_serror_rate'])\n"
   ]
  },
  {
   "cell_type": "code",
   "execution_count": 39,
   "id": "36228940",
   "metadata": {
    "execution": {
     "iopub.execute_input": "2023-07-18T11:08:28.627946Z",
     "iopub.status.busy": "2023-07-18T11:08:28.626501Z",
     "iopub.status.idle": "2023-07-18T11:08:28.637192Z",
     "shell.execute_reply": "2023-07-18T11:08:28.636099Z"
    },
    "papermill": {
     "duration": 0.062634,
     "end_time": "2023-07-18T11:08:28.639397",
     "exception": false,
     "start_time": "2023-07-18T11:08:28.576763",
     "status": "completed"
    },
    "tags": []
   },
   "outputs": [
    {
     "data": {
      "text/plain": [
       "0.9755139232818195"
      ]
     },
     "execution_count": 39,
     "metadata": {},
     "output_type": "execute_result"
    }
   ],
   "source": [
    "df['dst_host_rerror_rate'].corr(df['rerror_rate'])\n"
   ]
  },
  {
   "cell_type": "code",
   "execution_count": 40,
   "id": "3bcf76cf",
   "metadata": {
    "execution": {
     "iopub.execute_input": "2023-07-18T11:08:28.736472Z",
     "iopub.status.busy": "2023-07-18T11:08:28.735165Z",
     "iopub.status.idle": "2023-07-18T11:08:28.745559Z",
     "shell.execute_reply": "2023-07-18T11:08:28.744625Z"
    },
    "papermill": {
     "duration": 0.060696,
     "end_time": "2023-07-18T11:08:28.747842",
     "exception": false,
     "start_time": "2023-07-18T11:08:28.687146",
     "status": "completed"
    },
    "tags": []
   },
   "outputs": [
    {
     "data": {
      "text/plain": [
       "0.9673749564724597"
      ]
     },
     "execution_count": 40,
     "metadata": {},
     "output_type": "execute_result"
    }
   ],
   "source": [
    "df['dst_host_rerror_rate'].corr(df['srv_rerror_rate'])\n"
   ]
  },
  {
   "cell_type": "code",
   "execution_count": 41,
   "id": "b343fefe",
   "metadata": {
    "execution": {
     "iopub.execute_input": "2023-07-18T11:08:28.843772Z",
     "iopub.status.busy": "2023-07-18T11:08:28.843313Z",
     "iopub.status.idle": "2023-07-18T11:08:28.854916Z",
     "shell.execute_reply": "2023-07-18T11:08:28.853609Z"
    },
    "papermill": {
     "duration": 0.062594,
     "end_time": "2023-07-18T11:08:28.857461",
     "exception": false,
     "start_time": "2023-07-18T11:08:28.794867",
     "status": "completed"
    },
    "tags": []
   },
   "outputs": [
    {
     "data": {
      "text/plain": [
       "0.972614209606394"
      ]
     },
     "execution_count": 41,
     "metadata": {},
     "output_type": "execute_result"
    }
   ],
   "source": [
    "df['dst_host_srv_rerror_rate'].corr(df['rerror_rate'])\n"
   ]
  },
  {
   "cell_type": "code",
   "execution_count": 42,
   "id": "844bde6e",
   "metadata": {
    "execution": {
     "iopub.execute_input": "2023-07-18T11:08:28.952470Z",
     "iopub.status.busy": "2023-07-18T11:08:28.952016Z",
     "iopub.status.idle": "2023-07-18T11:08:28.963903Z",
     "shell.execute_reply": "2023-07-18T11:08:28.962610Z"
    },
    "papermill": {
     "duration": 0.062413,
     "end_time": "2023-07-18T11:08:28.966336",
     "exception": false,
     "start_time": "2023-07-18T11:08:28.903923",
     "status": "completed"
    },
    "tags": []
   },
   "outputs": [
    {
     "data": {
      "text/plain": [
       "0.9751047687986021"
      ]
     },
     "execution_count": 42,
     "metadata": {},
     "output_type": "execute_result"
    }
   ],
   "source": [
    "df['dst_host_srv_rerror_rate'].corr(df['srv_rerror_rate'])\n"
   ]
  },
  {
   "cell_type": "code",
   "execution_count": 43,
   "id": "2a9ffce6",
   "metadata": {
    "execution": {
     "iopub.execute_input": "2023-07-18T11:08:29.062846Z",
     "iopub.status.busy": "2023-07-18T11:08:29.062421Z",
     "iopub.status.idle": "2023-07-18T11:08:29.205599Z",
     "shell.execute_reply": "2023-07-18T11:08:29.204326Z"
    },
    "papermill": {
     "duration": 0.19592,
     "end_time": "2023-07-18T11:08:29.208631",
     "exception": false,
     "start_time": "2023-07-18T11:08:29.012711",
     "status": "completed"
    },
    "tags": []
   },
   "outputs": [],
   "source": [
    "#Dropping columns which are having high correlation coefficient\n",
    "df.drop('num_root',axis = 1,inplace = True)\n",
    "df.drop('srv_serror_rate',axis = 1,inplace = True)\n",
    "df.drop('srv_rerror_rate',axis = 1, inplace=True)\n",
    "df.drop('dst_host_srv_serror_rate',axis = 1, inplace=True)\n",
    "df.drop('dst_host_serror_rate',axis = 1, inplace=True)\n",
    "df.drop('dst_host_rerror_rate',axis = 1, inplace=True)\n",
    "df.drop('dst_host_srv_rerror_rate',axis = 1, inplace=True)\n",
    "df.drop('dst_host_same_srv_rate',axis = 1, inplace=True)\n"
   ]
  },
  {
   "cell_type": "code",
   "execution_count": 44,
   "id": "98704be9",
   "metadata": {
    "execution": {
     "iopub.execute_input": "2023-07-18T11:08:29.304604Z",
     "iopub.status.busy": "2023-07-18T11:08:29.303549Z",
     "iopub.status.idle": "2023-07-18T11:08:29.335891Z",
     "shell.execute_reply": "2023-07-18T11:08:29.334654Z"
    },
    "papermill": {
     "duration": 0.08307,
     "end_time": "2023-07-18T11:08:29.338460",
     "exception": false,
     "start_time": "2023-07-18T11:08:29.255390",
     "status": "completed"
    },
    "tags": []
   },
   "outputs": [
    {
     "data": {
      "text/html": [
       "<div>\n",
       "<style scoped>\n",
       "    .dataframe tbody tr th:only-of-type {\n",
       "        vertical-align: middle;\n",
       "    }\n",
       "\n",
       "    .dataframe tbody tr th {\n",
       "        vertical-align: top;\n",
       "    }\n",
       "\n",
       "    .dataframe thead th {\n",
       "        text-align: right;\n",
       "    }\n",
       "</style>\n",
       "<table border=\"1\" class=\"dataframe\">\n",
       "  <thead>\n",
       "    <tr style=\"text-align: right;\">\n",
       "      <th></th>\n",
       "      <th>duration</th>\n",
       "      <th>protocol_type</th>\n",
       "      <th>service</th>\n",
       "      <th>flag</th>\n",
       "      <th>src_bytes</th>\n",
       "      <th>dst_bytes</th>\n",
       "      <th>land</th>\n",
       "      <th>wrong_fragment</th>\n",
       "      <th>urgent</th>\n",
       "      <th>hot</th>\n",
       "      <th>...</th>\n",
       "      <th>same_srv_rate</th>\n",
       "      <th>diff_srv_rate</th>\n",
       "      <th>srv_diff_host_rate</th>\n",
       "      <th>dst_host_count</th>\n",
       "      <th>dst_host_srv_count</th>\n",
       "      <th>dst_host_diff_srv_rate</th>\n",
       "      <th>dst_host_same_src_port_rate</th>\n",
       "      <th>dst_host_srv_diff_host_rate</th>\n",
       "      <th>target</th>\n",
       "      <th>Attack Type</th>\n",
       "    </tr>\n",
       "  </thead>\n",
       "  <tbody>\n",
       "    <tr>\n",
       "      <th>0</th>\n",
       "      <td>0</td>\n",
       "      <td>tcp</td>\n",
       "      <td>http</td>\n",
       "      <td>SF</td>\n",
       "      <td>181</td>\n",
       "      <td>5450</td>\n",
       "      <td>0</td>\n",
       "      <td>0</td>\n",
       "      <td>0</td>\n",
       "      <td>0</td>\n",
       "      <td>...</td>\n",
       "      <td>1.0</td>\n",
       "      <td>0.0</td>\n",
       "      <td>0.0</td>\n",
       "      <td>9</td>\n",
       "      <td>9</td>\n",
       "      <td>0.0</td>\n",
       "      <td>0.11</td>\n",
       "      <td>0.0</td>\n",
       "      <td>normal.</td>\n",
       "      <td>normal</td>\n",
       "    </tr>\n",
       "    <tr>\n",
       "      <th>1</th>\n",
       "      <td>0</td>\n",
       "      <td>tcp</td>\n",
       "      <td>http</td>\n",
       "      <td>SF</td>\n",
       "      <td>239</td>\n",
       "      <td>486</td>\n",
       "      <td>0</td>\n",
       "      <td>0</td>\n",
       "      <td>0</td>\n",
       "      <td>0</td>\n",
       "      <td>...</td>\n",
       "      <td>1.0</td>\n",
       "      <td>0.0</td>\n",
       "      <td>0.0</td>\n",
       "      <td>19</td>\n",
       "      <td>19</td>\n",
       "      <td>0.0</td>\n",
       "      <td>0.05</td>\n",
       "      <td>0.0</td>\n",
       "      <td>normal.</td>\n",
       "      <td>normal</td>\n",
       "    </tr>\n",
       "    <tr>\n",
       "      <th>2</th>\n",
       "      <td>0</td>\n",
       "      <td>tcp</td>\n",
       "      <td>http</td>\n",
       "      <td>SF</td>\n",
       "      <td>235</td>\n",
       "      <td>1337</td>\n",
       "      <td>0</td>\n",
       "      <td>0</td>\n",
       "      <td>0</td>\n",
       "      <td>0</td>\n",
       "      <td>...</td>\n",
       "      <td>1.0</td>\n",
       "      <td>0.0</td>\n",
       "      <td>0.0</td>\n",
       "      <td>29</td>\n",
       "      <td>29</td>\n",
       "      <td>0.0</td>\n",
       "      <td>0.03</td>\n",
       "      <td>0.0</td>\n",
       "      <td>normal.</td>\n",
       "      <td>normal</td>\n",
       "    </tr>\n",
       "    <tr>\n",
       "      <th>3</th>\n",
       "      <td>0</td>\n",
       "      <td>tcp</td>\n",
       "      <td>http</td>\n",
       "      <td>SF</td>\n",
       "      <td>219</td>\n",
       "      <td>1337</td>\n",
       "      <td>0</td>\n",
       "      <td>0</td>\n",
       "      <td>0</td>\n",
       "      <td>0</td>\n",
       "      <td>...</td>\n",
       "      <td>1.0</td>\n",
       "      <td>0.0</td>\n",
       "      <td>0.0</td>\n",
       "      <td>39</td>\n",
       "      <td>39</td>\n",
       "      <td>0.0</td>\n",
       "      <td>0.03</td>\n",
       "      <td>0.0</td>\n",
       "      <td>normal.</td>\n",
       "      <td>normal</td>\n",
       "    </tr>\n",
       "    <tr>\n",
       "      <th>4</th>\n",
       "      <td>0</td>\n",
       "      <td>tcp</td>\n",
       "      <td>http</td>\n",
       "      <td>SF</td>\n",
       "      <td>217</td>\n",
       "      <td>2032</td>\n",
       "      <td>0</td>\n",
       "      <td>0</td>\n",
       "      <td>0</td>\n",
       "      <td>0</td>\n",
       "      <td>...</td>\n",
       "      <td>1.0</td>\n",
       "      <td>0.0</td>\n",
       "      <td>0.0</td>\n",
       "      <td>49</td>\n",
       "      <td>49</td>\n",
       "      <td>0.0</td>\n",
       "      <td>0.02</td>\n",
       "      <td>0.0</td>\n",
       "      <td>normal.</td>\n",
       "      <td>normal</td>\n",
       "    </tr>\n",
       "  </tbody>\n",
       "</table>\n",
       "<p>5 rows × 33 columns</p>\n",
       "</div>"
      ],
      "text/plain": [
       "   duration protocol_type service flag  src_bytes  dst_bytes  land  \\\n",
       "0         0           tcp    http   SF        181       5450     0   \n",
       "1         0           tcp    http   SF        239        486     0   \n",
       "2         0           tcp    http   SF        235       1337     0   \n",
       "3         0           tcp    http   SF        219       1337     0   \n",
       "4         0           tcp    http   SF        217       2032     0   \n",
       "\n",
       "   wrong_fragment  urgent  hot  ...  same_srv_rate  diff_srv_rate  \\\n",
       "0               0       0    0  ...            1.0            0.0   \n",
       "1               0       0    0  ...            1.0            0.0   \n",
       "2               0       0    0  ...            1.0            0.0   \n",
       "3               0       0    0  ...            1.0            0.0   \n",
       "4               0       0    0  ...            1.0            0.0   \n",
       "\n",
       "   srv_diff_host_rate  dst_host_count  dst_host_srv_count  \\\n",
       "0                 0.0               9                   9   \n",
       "1                 0.0              19                  19   \n",
       "2                 0.0              29                  29   \n",
       "3                 0.0              39                  39   \n",
       "4                 0.0              49                  49   \n",
       "\n",
       "   dst_host_diff_srv_rate  dst_host_same_src_port_rate  \\\n",
       "0                     0.0                         0.11   \n",
       "1                     0.0                         0.05   \n",
       "2                     0.0                         0.03   \n",
       "3                     0.0                         0.03   \n",
       "4                     0.0                         0.02   \n",
       "\n",
       "   dst_host_srv_diff_host_rate   target  Attack Type  \n",
       "0                          0.0  normal.       normal  \n",
       "1                          0.0  normal.       normal  \n",
       "2                          0.0  normal.       normal  \n",
       "3                          0.0  normal.       normal  \n",
       "4                          0.0  normal.       normal  \n",
       "\n",
       "[5 rows x 33 columns]"
      ]
     },
     "execution_count": 44,
     "metadata": {},
     "output_type": "execute_result"
    }
   ],
   "source": [
    "df.head()"
   ]
  },
  {
   "cell_type": "code",
   "execution_count": 45,
   "id": "9e5dc72c",
   "metadata": {
    "execution": {
     "iopub.execute_input": "2023-07-18T11:08:29.436795Z",
     "iopub.status.busy": "2023-07-18T11:08:29.436292Z",
     "iopub.status.idle": "2023-07-18T11:08:29.444351Z",
     "shell.execute_reply": "2023-07-18T11:08:29.443113Z"
    },
    "papermill": {
     "duration": 0.060463,
     "end_time": "2023-07-18T11:08:29.446844",
     "exception": false,
     "start_time": "2023-07-18T11:08:29.386381",
     "status": "completed"
    },
    "tags": []
   },
   "outputs": [
    {
     "data": {
      "text/plain": [
       "Index(['duration', 'protocol_type', 'service', 'flag', 'src_bytes',\n",
       "       'dst_bytes', 'land', 'wrong_fragment', 'urgent', 'hot',\n",
       "       'num_failed_logins', 'logged_in', 'num_compromised', 'root_shell',\n",
       "       'su_attempted', 'num_file_creations', 'num_shells', 'num_access_files',\n",
       "       'is_guest_login', 'count', 'srv_count', 'serror_rate', 'rerror_rate',\n",
       "       'same_srv_rate', 'diff_srv_rate', 'srv_diff_host_rate',\n",
       "       'dst_host_count', 'dst_host_srv_count', 'dst_host_diff_srv_rate',\n",
       "       'dst_host_same_src_port_rate', 'dst_host_srv_diff_host_rate', 'target',\n",
       "       'Attack Type'],\n",
       "      dtype='object')"
      ]
     },
     "execution_count": 45,
     "metadata": {},
     "output_type": "execute_result"
    }
   ],
   "source": [
    "df.columns\n"
   ]
  },
  {
   "cell_type": "markdown",
   "id": "1812a8e0",
   "metadata": {
    "papermill": {
     "duration": 0.046594,
     "end_time": "2023-07-18T11:08:29.540573",
     "exception": false,
     "start_time": "2023-07-18T11:08:29.493979",
     "status": "completed"
    },
    "tags": []
   },
   "source": [
    "Feature  Mapping\n"
   ]
  },
  {
   "cell_type": "code",
   "execution_count": 46,
   "id": "e93f7aaa",
   "metadata": {
    "execution": {
     "iopub.execute_input": "2023-07-18T11:08:29.638713Z",
     "iopub.status.busy": "2023-07-18T11:08:29.638249Z",
     "iopub.status.idle": "2023-07-18T11:08:29.673442Z",
     "shell.execute_reply": "2023-07-18T11:08:29.672087Z"
    },
    "papermill": {
     "duration": 0.088378,
     "end_time": "2023-07-18T11:08:29.675966",
     "exception": false,
     "start_time": "2023-07-18T11:08:29.587588",
     "status": "completed"
    },
    "tags": []
   },
   "outputs": [
    {
     "data": {
      "text/plain": [
       "tcp     130913\n",
       "udp      12267\n",
       "icmp      2406\n",
       "Name: protocol_type, dtype: int64"
      ]
     },
     "execution_count": 46,
     "metadata": {},
     "output_type": "execute_result"
    }
   ],
   "source": [
    "df['protocol_type'].value_counts()\n"
   ]
  },
  {
   "cell_type": "code",
   "execution_count": 47,
   "id": "f061ccf9",
   "metadata": {
    "execution": {
     "iopub.execute_input": "2023-07-18T11:08:29.774018Z",
     "iopub.status.busy": "2023-07-18T11:08:29.773544Z",
     "iopub.status.idle": "2023-07-18T11:08:29.801226Z",
     "shell.execute_reply": "2023-07-18T11:08:29.800209Z"
    },
    "papermill": {
     "duration": 0.079889,
     "end_time": "2023-07-18T11:08:29.803696",
     "exception": false,
     "start_time": "2023-07-18T11:08:29.723807",
     "status": "completed"
    },
    "tags": []
   },
   "outputs": [],
   "source": [
    "#protocol_type feature mapping\n",
    "pmap = {'icmp':0,'tcp':1,'udp':2}\n",
    "df['protocol_type'] = df['protocol_type'].map(pmap)"
   ]
  },
  {
   "cell_type": "code",
   "execution_count": 48,
   "id": "e8f929cb",
   "metadata": {
    "execution": {
     "iopub.execute_input": "2023-07-18T11:08:29.908688Z",
     "iopub.status.busy": "2023-07-18T11:08:29.907948Z",
     "iopub.status.idle": "2023-07-18T11:08:29.941885Z",
     "shell.execute_reply": "2023-07-18T11:08:29.940687Z"
    },
    "papermill": {
     "duration": 0.092253,
     "end_time": "2023-07-18T11:08:29.944322",
     "exception": false,
     "start_time": "2023-07-18T11:08:29.852069",
     "status": "completed"
    },
    "tags": []
   },
   "outputs": [
    {
     "data": {
      "text/plain": [
       "SF        87459\n",
       "S0        42278\n",
       "REJ       14712\n",
       "RSTO        569\n",
       "RSTR        425\n",
       "S1           57\n",
       "SH           34\n",
       "S2           24\n",
       "RSTOS0       11\n",
       "S3           10\n",
       "OTH           7\n",
       "Name: flag, dtype: int64"
      ]
     },
     "execution_count": 48,
     "metadata": {},
     "output_type": "execute_result"
    }
   ],
   "source": [
    "df['flag'].value_counts()\n"
   ]
  },
  {
   "cell_type": "code",
   "execution_count": 49,
   "id": "1ffb7f86",
   "metadata": {
    "execution": {
     "iopub.execute_input": "2023-07-18T11:08:30.042940Z",
     "iopub.status.busy": "2023-07-18T11:08:30.041718Z",
     "iopub.status.idle": "2023-07-18T11:08:30.072351Z",
     "shell.execute_reply": "2023-07-18T11:08:30.071334Z"
    },
    "papermill": {
     "duration": 0.082619,
     "end_time": "2023-07-18T11:08:30.075064",
     "exception": false,
     "start_time": "2023-07-18T11:08:29.992445",
     "status": "completed"
    },
    "tags": []
   },
   "outputs": [],
   "source": [
    "#feature encoding\n",
    "#flag feature mapping\n",
    "fmap = {'SF':0,'S0':1,'REJ':2,'RSTR':3,'RSTO':4,'SH':5 ,'S1':6 ,'S2':7,'RSTOS0':8,'S3':9 ,'OTH':10}\n",
    "df['flag'] = df['flag'].map(fmap)"
   ]
  },
  {
   "cell_type": "code",
   "execution_count": 50,
   "id": "d3df3eb3",
   "metadata": {
    "execution": {
     "iopub.execute_input": "2023-07-18T11:08:30.175013Z",
     "iopub.status.busy": "2023-07-18T11:08:30.174104Z",
     "iopub.status.idle": "2023-07-18T11:08:30.209104Z",
     "shell.execute_reply": "2023-07-18T11:08:30.207853Z"
    },
    "papermill": {
     "duration": 0.087384,
     "end_time": "2023-07-18T11:08:30.211848",
     "exception": false,
     "start_time": "2023-07-18T11:08:30.124464",
     "status": "completed"
    },
    "tags": []
   },
   "outputs": [
    {
     "data": {
      "text/plain": [
       "http        62054\n",
       "private     49057\n",
       "smtp         9721\n",
       "domain_u     5425\n",
       "other        4769\n",
       "            ...  \n",
       "X11            11\n",
       "tim_i           5\n",
       "pm_dump         1\n",
       "tftp_u          1\n",
       "red_i           1\n",
       "Name: service, Length: 66, dtype: int64"
      ]
     },
     "execution_count": 50,
     "metadata": {},
     "output_type": "execute_result"
    }
   ],
   "source": [
    "df['service'].value_counts()\n"
   ]
  },
  {
   "cell_type": "code",
   "execution_count": 51,
   "id": "ce195351",
   "metadata": {
    "execution": {
     "iopub.execute_input": "2023-07-18T11:08:30.310447Z",
     "iopub.status.busy": "2023-07-18T11:08:30.309965Z",
     "iopub.status.idle": "2023-07-18T11:08:30.330765Z",
     "shell.execute_reply": "2023-07-18T11:08:30.329534Z"
    },
    "papermill": {
     "duration": 0.073381,
     "end_time": "2023-07-18T11:08:30.333480",
     "exception": false,
     "start_time": "2023-07-18T11:08:30.260099",
     "status": "completed"
    },
    "tags": []
   },
   "outputs": [],
   "source": [
    "#since 66 services are there i am droping this column\n",
    "df.drop('service',axis = 1,inplace= True)\n"
   ]
  },
  {
   "cell_type": "code",
   "execution_count": 52,
   "id": "46a28950",
   "metadata": {
    "execution": {
     "iopub.execute_input": "2023-07-18T11:08:30.433542Z",
     "iopub.status.busy": "2023-07-18T11:08:30.433017Z",
     "iopub.status.idle": "2023-07-18T11:08:30.462481Z",
     "shell.execute_reply": "2023-07-18T11:08:30.460951Z"
    },
    "papermill": {
     "duration": 0.08265,
     "end_time": "2023-07-18T11:08:30.465068",
     "exception": false,
     "start_time": "2023-07-18T11:08:30.382418",
     "status": "completed"
    },
    "tags": []
   },
   "outputs": [
    {
     "data": {
      "text/html": [
       "<div>\n",
       "<style scoped>\n",
       "    .dataframe tbody tr th:only-of-type {\n",
       "        vertical-align: middle;\n",
       "    }\n",
       "\n",
       "    .dataframe tbody tr th {\n",
       "        vertical-align: top;\n",
       "    }\n",
       "\n",
       "    .dataframe thead th {\n",
       "        text-align: right;\n",
       "    }\n",
       "</style>\n",
       "<table border=\"1\" class=\"dataframe\">\n",
       "  <thead>\n",
       "    <tr style=\"text-align: right;\">\n",
       "      <th></th>\n",
       "      <th>duration</th>\n",
       "      <th>protocol_type</th>\n",
       "      <th>flag</th>\n",
       "      <th>src_bytes</th>\n",
       "      <th>dst_bytes</th>\n",
       "      <th>land</th>\n",
       "      <th>wrong_fragment</th>\n",
       "      <th>urgent</th>\n",
       "      <th>hot</th>\n",
       "      <th>num_failed_logins</th>\n",
       "      <th>...</th>\n",
       "      <th>same_srv_rate</th>\n",
       "      <th>diff_srv_rate</th>\n",
       "      <th>srv_diff_host_rate</th>\n",
       "      <th>dst_host_count</th>\n",
       "      <th>dst_host_srv_count</th>\n",
       "      <th>dst_host_diff_srv_rate</th>\n",
       "      <th>dst_host_same_src_port_rate</th>\n",
       "      <th>dst_host_srv_diff_host_rate</th>\n",
       "      <th>target</th>\n",
       "      <th>Attack Type</th>\n",
       "    </tr>\n",
       "  </thead>\n",
       "  <tbody>\n",
       "    <tr>\n",
       "      <th>0</th>\n",
       "      <td>0</td>\n",
       "      <td>1</td>\n",
       "      <td>0</td>\n",
       "      <td>181</td>\n",
       "      <td>5450</td>\n",
       "      <td>0</td>\n",
       "      <td>0</td>\n",
       "      <td>0</td>\n",
       "      <td>0</td>\n",
       "      <td>0</td>\n",
       "      <td>...</td>\n",
       "      <td>1.0</td>\n",
       "      <td>0.0</td>\n",
       "      <td>0.0</td>\n",
       "      <td>9</td>\n",
       "      <td>9</td>\n",
       "      <td>0.0</td>\n",
       "      <td>0.11</td>\n",
       "      <td>0.0</td>\n",
       "      <td>normal.</td>\n",
       "      <td>normal</td>\n",
       "    </tr>\n",
       "    <tr>\n",
       "      <th>1</th>\n",
       "      <td>0</td>\n",
       "      <td>1</td>\n",
       "      <td>0</td>\n",
       "      <td>239</td>\n",
       "      <td>486</td>\n",
       "      <td>0</td>\n",
       "      <td>0</td>\n",
       "      <td>0</td>\n",
       "      <td>0</td>\n",
       "      <td>0</td>\n",
       "      <td>...</td>\n",
       "      <td>1.0</td>\n",
       "      <td>0.0</td>\n",
       "      <td>0.0</td>\n",
       "      <td>19</td>\n",
       "      <td>19</td>\n",
       "      <td>0.0</td>\n",
       "      <td>0.05</td>\n",
       "      <td>0.0</td>\n",
       "      <td>normal.</td>\n",
       "      <td>normal</td>\n",
       "    </tr>\n",
       "    <tr>\n",
       "      <th>2</th>\n",
       "      <td>0</td>\n",
       "      <td>1</td>\n",
       "      <td>0</td>\n",
       "      <td>235</td>\n",
       "      <td>1337</td>\n",
       "      <td>0</td>\n",
       "      <td>0</td>\n",
       "      <td>0</td>\n",
       "      <td>0</td>\n",
       "      <td>0</td>\n",
       "      <td>...</td>\n",
       "      <td>1.0</td>\n",
       "      <td>0.0</td>\n",
       "      <td>0.0</td>\n",
       "      <td>29</td>\n",
       "      <td>29</td>\n",
       "      <td>0.0</td>\n",
       "      <td>0.03</td>\n",
       "      <td>0.0</td>\n",
       "      <td>normal.</td>\n",
       "      <td>normal</td>\n",
       "    </tr>\n",
       "    <tr>\n",
       "      <th>3</th>\n",
       "      <td>0</td>\n",
       "      <td>1</td>\n",
       "      <td>0</td>\n",
       "      <td>219</td>\n",
       "      <td>1337</td>\n",
       "      <td>0</td>\n",
       "      <td>0</td>\n",
       "      <td>0</td>\n",
       "      <td>0</td>\n",
       "      <td>0</td>\n",
       "      <td>...</td>\n",
       "      <td>1.0</td>\n",
       "      <td>0.0</td>\n",
       "      <td>0.0</td>\n",
       "      <td>39</td>\n",
       "      <td>39</td>\n",
       "      <td>0.0</td>\n",
       "      <td>0.03</td>\n",
       "      <td>0.0</td>\n",
       "      <td>normal.</td>\n",
       "      <td>normal</td>\n",
       "    </tr>\n",
       "    <tr>\n",
       "      <th>4</th>\n",
       "      <td>0</td>\n",
       "      <td>1</td>\n",
       "      <td>0</td>\n",
       "      <td>217</td>\n",
       "      <td>2032</td>\n",
       "      <td>0</td>\n",
       "      <td>0</td>\n",
       "      <td>0</td>\n",
       "      <td>0</td>\n",
       "      <td>0</td>\n",
       "      <td>...</td>\n",
       "      <td>1.0</td>\n",
       "      <td>0.0</td>\n",
       "      <td>0.0</td>\n",
       "      <td>49</td>\n",
       "      <td>49</td>\n",
       "      <td>0.0</td>\n",
       "      <td>0.02</td>\n",
       "      <td>0.0</td>\n",
       "      <td>normal.</td>\n",
       "      <td>normal</td>\n",
       "    </tr>\n",
       "  </tbody>\n",
       "</table>\n",
       "<p>5 rows × 32 columns</p>\n",
       "</div>"
      ],
      "text/plain": [
       "   duration  protocol_type  flag  src_bytes  dst_bytes  land  wrong_fragment  \\\n",
       "0         0              1     0        181       5450     0               0   \n",
       "1         0              1     0        239        486     0               0   \n",
       "2         0              1     0        235       1337     0               0   \n",
       "3         0              1     0        219       1337     0               0   \n",
       "4         0              1     0        217       2032     0               0   \n",
       "\n",
       "   urgent  hot  num_failed_logins  ...  same_srv_rate  diff_srv_rate  \\\n",
       "0       0    0                  0  ...            1.0            0.0   \n",
       "1       0    0                  0  ...            1.0            0.0   \n",
       "2       0    0                  0  ...            1.0            0.0   \n",
       "3       0    0                  0  ...            1.0            0.0   \n",
       "4       0    0                  0  ...            1.0            0.0   \n",
       "\n",
       "   srv_diff_host_rate  dst_host_count  dst_host_srv_count  \\\n",
       "0                 0.0               9                   9   \n",
       "1                 0.0              19                  19   \n",
       "2                 0.0              29                  29   \n",
       "3                 0.0              39                  39   \n",
       "4                 0.0              49                  49   \n",
       "\n",
       "   dst_host_diff_srv_rate  dst_host_same_src_port_rate  \\\n",
       "0                     0.0                         0.11   \n",
       "1                     0.0                         0.05   \n",
       "2                     0.0                         0.03   \n",
       "3                     0.0                         0.03   \n",
       "4                     0.0                         0.02   \n",
       "\n",
       "   dst_host_srv_diff_host_rate   target  Attack Type  \n",
       "0                          0.0  normal.       normal  \n",
       "1                          0.0  normal.       normal  \n",
       "2                          0.0  normal.       normal  \n",
       "3                          0.0  normal.       normal  \n",
       "4                          0.0  normal.       normal  \n",
       "\n",
       "[5 rows x 32 columns]"
      ]
     },
     "execution_count": 52,
     "metadata": {},
     "output_type": "execute_result"
    }
   ],
   "source": [
    "df.head()"
   ]
  },
  {
   "cell_type": "code",
   "execution_count": 53,
   "id": "adb518e2",
   "metadata": {
    "execution": {
     "iopub.execute_input": "2023-07-18T11:08:30.564175Z",
     "iopub.status.busy": "2023-07-18T11:08:30.563647Z",
     "iopub.status.idle": "2023-07-18T11:08:30.574008Z",
     "shell.execute_reply": "2023-07-18T11:08:30.572698Z"
    },
    "papermill": {
     "duration": 0.062937,
     "end_time": "2023-07-18T11:08:30.576401",
     "exception": false,
     "start_time": "2023-07-18T11:08:30.513464",
     "status": "completed"
    },
    "tags": []
   },
   "outputs": [
    {
     "data": {
      "text/plain": [
       "duration                         int64\n",
       "protocol_type                    int64\n",
       "flag                             int64\n",
       "src_bytes                        int64\n",
       "dst_bytes                        int64\n",
       "land                             int64\n",
       "wrong_fragment                   int64\n",
       "urgent                           int64\n",
       "hot                              int64\n",
       "num_failed_logins                int64\n",
       "logged_in                        int64\n",
       "num_compromised                  int64\n",
       "root_shell                       int64\n",
       "su_attempted                     int64\n",
       "num_file_creations               int64\n",
       "num_shells                       int64\n",
       "num_access_files                 int64\n",
       "is_guest_login                   int64\n",
       "count                            int64\n",
       "srv_count                        int64\n",
       "serror_rate                    float64\n",
       "rerror_rate                    float64\n",
       "same_srv_rate                  float64\n",
       "diff_srv_rate                  float64\n",
       "srv_diff_host_rate             float64\n",
       "dst_host_count                   int64\n",
       "dst_host_srv_count               int64\n",
       "dst_host_diff_srv_rate         float64\n",
       "dst_host_same_src_port_rate    float64\n",
       "dst_host_srv_diff_host_rate    float64\n",
       "target                          object\n",
       "Attack Type                     object\n",
       "dtype: object"
      ]
     },
     "execution_count": 53,
     "metadata": {},
     "output_type": "execute_result"
    }
   ],
   "source": [
    "df.dtypes"
   ]
  },
  {
   "cell_type": "markdown",
   "id": "3f97ee75",
   "metadata": {
    "papermill": {
     "duration": 0.047807,
     "end_time": "2023-07-18T11:08:30.673200",
     "exception": false,
     "start_time": "2023-07-18T11:08:30.625393",
     "status": "completed"
    },
    "tags": []
   },
   "source": [
    "Modelling"
   ]
  },
  {
   "cell_type": "code",
   "execution_count": 54,
   "id": "564ab493",
   "metadata": {
    "execution": {
     "iopub.execute_input": "2023-07-18T11:08:30.772169Z",
     "iopub.status.busy": "2023-07-18T11:08:30.771699Z",
     "iopub.status.idle": "2023-07-18T11:08:31.060577Z",
     "shell.execute_reply": "2023-07-18T11:08:31.059197Z"
    },
    "papermill": {
     "duration": 0.342147,
     "end_time": "2023-07-18T11:08:31.063555",
     "exception": false,
     "start_time": "2023-07-18T11:08:30.721408",
     "status": "completed"
    },
    "tags": []
   },
   "outputs": [],
   "source": [
    "from sklearn.model_selection import train_test_split\n",
    "from sklearn.preprocessing import MinMaxScaler\n",
    "from sklearn.metrics import accuracy_score"
   ]
  },
  {
   "cell_type": "code",
   "execution_count": 55,
   "id": "50733af3",
   "metadata": {
    "execution": {
     "iopub.execute_input": "2023-07-18T11:08:31.162914Z",
     "iopub.status.busy": "2023-07-18T11:08:31.162402Z",
     "iopub.status.idle": "2023-07-18T11:08:31.590419Z",
     "shell.execute_reply": "2023-07-18T11:08:31.588639Z"
    },
    "papermill": {
     "duration": 0.481053,
     "end_time": "2023-07-18T11:08:31.593122",
     "exception": false,
     "start_time": "2023-07-18T11:08:31.112069",
     "status": "completed"
    },
    "tags": []
   },
   "outputs": [
    {
     "name": "stdout",
     "output_type": "stream",
     "text": [
      "(145586, 31)\n",
      "(97542, 30) (48044, 30)\n",
      "(97542, 1) (48044, 1)\n"
     ]
    }
   ],
   "source": [
    "df = df.drop(['target',], axis=1)\n",
    "print(df.shape)\n",
    "\n",
    "# Target variable and train set\n",
    "Y = df[['Attack Type']]\n",
    "X = df.drop(['Attack Type',], axis=1)\n",
    "\n",
    "sc = MinMaxScaler()\n",
    "X = sc.fit_transform(X)\n",
    "\n",
    "# Split test and train data \n",
    "X_train, X_test, Y_train, Y_test = train_test_split(X, Y, test_size=0.33, random_state=42)\n",
    "print(X_train.shape, X_test.shape)\n",
    "print(Y_train.shape, Y_test.shape)"
   ]
  },
  {
   "cell_type": "markdown",
   "id": "fcb2cef5",
   "metadata": {
    "papermill": {
     "duration": 0.05098,
     "end_time": "2023-07-18T11:08:31.696817",
     "exception": false,
     "start_time": "2023-07-18T11:08:31.645837",
     "status": "completed"
    },
    "tags": []
   },
   "source": [
    "Random Forest"
   ]
  },
  {
   "cell_type": "code",
   "execution_count": 56,
   "id": "abf0cb2d",
   "metadata": {
    "execution": {
     "iopub.execute_input": "2023-07-18T11:08:31.800033Z",
     "iopub.status.busy": "2023-07-18T11:08:31.799565Z",
     "iopub.status.idle": "2023-07-18T11:08:32.239537Z",
     "shell.execute_reply": "2023-07-18T11:08:32.238242Z"
    },
    "papermill": {
     "duration": 0.495952,
     "end_time": "2023-07-18T11:08:32.242869",
     "exception": false,
     "start_time": "2023-07-18T11:08:31.746917",
     "status": "completed"
    },
    "tags": []
   },
   "outputs": [],
   "source": [
    "from sklearn.ensemble import RandomForestClassifier\n"
   ]
  },
  {
   "cell_type": "code",
   "execution_count": 57,
   "id": "b7f4ae31",
   "metadata": {
    "execution": {
     "iopub.execute_input": "2023-07-18T11:08:32.346292Z",
     "iopub.status.busy": "2023-07-18T11:08:32.345620Z",
     "iopub.status.idle": "2023-07-18T11:08:32.352250Z",
     "shell.execute_reply": "2023-07-18T11:08:32.350794Z"
    },
    "papermill": {
     "duration": 0.061871,
     "end_time": "2023-07-18T11:08:32.354781",
     "exception": false,
     "start_time": "2023-07-18T11:08:32.292910",
     "status": "completed"
    },
    "tags": []
   },
   "outputs": [],
   "source": [
    "model1 = RandomForestClassifier(n_estimators=30)\n"
   ]
  },
  {
   "cell_type": "code",
   "execution_count": 58,
   "id": "e763eaf6",
   "metadata": {
    "execution": {
     "iopub.execute_input": "2023-07-18T11:08:32.457062Z",
     "iopub.status.busy": "2023-07-18T11:08:32.456615Z",
     "iopub.status.idle": "2023-07-18T11:08:35.904056Z",
     "shell.execute_reply": "2023-07-18T11:08:35.902763Z"
    },
    "papermill": {
     "duration": 3.502281,
     "end_time": "2023-07-18T11:08:35.907452",
     "exception": false,
     "start_time": "2023-07-18T11:08:32.405171",
     "status": "completed"
    },
    "tags": []
   },
   "outputs": [],
   "source": [
    "start_time = time.time()\n",
    "model1.fit(X_train, Y_train.values.ravel())\n",
    "end_time = time.time()"
   ]
  },
  {
   "cell_type": "code",
   "execution_count": 59,
   "id": "e507ff43",
   "metadata": {
    "execution": {
     "iopub.execute_input": "2023-07-18T11:08:36.010642Z",
     "iopub.status.busy": "2023-07-18T11:08:36.010238Z",
     "iopub.status.idle": "2023-07-18T11:08:36.017049Z",
     "shell.execute_reply": "2023-07-18T11:08:36.015523Z"
    },
    "papermill": {
     "duration": 0.060075,
     "end_time": "2023-07-18T11:08:36.019357",
     "exception": false,
     "start_time": "2023-07-18T11:08:35.959282",
     "status": "completed"
    },
    "tags": []
   },
   "outputs": [
    {
     "name": "stdout",
     "output_type": "stream",
     "text": [
      "Training time:  3.4418272972106934\n"
     ]
    }
   ],
   "source": [
    "print(\"Training time: \",end_time-start_time)"
   ]
  },
  {
   "cell_type": "code",
   "execution_count": 60,
   "id": "f1d80f75",
   "metadata": {
    "execution": {
     "iopub.execute_input": "2023-07-18T11:08:36.119739Z",
     "iopub.status.busy": "2023-07-18T11:08:36.119222Z",
     "iopub.status.idle": "2023-07-18T11:08:36.299918Z",
     "shell.execute_reply": "2023-07-18T11:08:36.298664Z"
    },
    "papermill": {
     "duration": 0.234629,
     "end_time": "2023-07-18T11:08:36.302683",
     "exception": false,
     "start_time": "2023-07-18T11:08:36.068054",
     "status": "completed"
    },
    "tags": []
   },
   "outputs": [],
   "source": [
    "start_time = time.time()\n",
    "Y_test_pred1 = model1.predict(X_test)\n",
    "end_time = time.time()"
   ]
  },
  {
   "cell_type": "code",
   "execution_count": 61,
   "id": "9f9f3091",
   "metadata": {
    "execution": {
     "iopub.execute_input": "2023-07-18T11:08:36.403277Z",
     "iopub.status.busy": "2023-07-18T11:08:36.402808Z",
     "iopub.status.idle": "2023-07-18T11:08:36.412081Z",
     "shell.execute_reply": "2023-07-18T11:08:36.408812Z"
    },
    "papermill": {
     "duration": 0.063417,
     "end_time": "2023-07-18T11:08:36.414751",
     "exception": false,
     "start_time": "2023-07-18T11:08:36.351334",
     "status": "completed"
    },
    "tags": []
   },
   "outputs": [
    {
     "name": "stdout",
     "output_type": "stream",
     "text": [
      "Testing time:  0.17530608177185059\n"
     ]
    }
   ],
   "source": [
    "print(\"Testing time: \",end_time-start_time)"
   ]
  },
  {
   "cell_type": "code",
   "execution_count": 62,
   "id": "fba635a0",
   "metadata": {
    "execution": {
     "iopub.execute_input": "2023-07-18T11:08:36.517065Z",
     "iopub.status.busy": "2023-07-18T11:08:36.516552Z",
     "iopub.status.idle": "2023-07-18T11:08:37.390129Z",
     "shell.execute_reply": "2023-07-18T11:08:37.388694Z"
    },
    "papermill": {
     "duration": 0.926561,
     "end_time": "2023-07-18T11:08:37.392741",
     "exception": false,
     "start_time": "2023-07-18T11:08:36.466180",
     "status": "completed"
    },
    "tags": []
   },
   "outputs": [
    {
     "name": "stdout",
     "output_type": "stream",
     "text": [
      "Train score is: 0.9999692440179615\n",
      "Test score is: 0.9990217300807593\n"
     ]
    }
   ],
   "source": [
    "print(\"Train score is:\", model1.score(X_train, Y_train))\n",
    "print(\"Test score is:\",model1.score(X_test,Y_test))"
   ]
  },
  {
   "cell_type": "markdown",
   "id": "c96bb6b0",
   "metadata": {
    "papermill": {
     "duration": 0.048791,
     "end_time": "2023-07-18T11:08:37.493793",
     "exception": false,
     "start_time": "2023-07-18T11:08:37.445002",
     "status": "completed"
    },
    "tags": []
   },
   "source": [
    "Support Vector Machine\n"
   ]
  },
  {
   "cell_type": "code",
   "execution_count": 63,
   "id": "d6c9643f",
   "metadata": {
    "execution": {
     "iopub.execute_input": "2023-07-18T11:08:37.593671Z",
     "iopub.status.busy": "2023-07-18T11:08:37.592911Z",
     "iopub.status.idle": "2023-07-18T11:08:37.599152Z",
     "shell.execute_reply": "2023-07-18T11:08:37.598104Z"
    },
    "papermill": {
     "duration": 0.059272,
     "end_time": "2023-07-18T11:08:37.601446",
     "exception": false,
     "start_time": "2023-07-18T11:08:37.542174",
     "status": "completed"
    },
    "tags": []
   },
   "outputs": [],
   "source": [
    "from sklearn.svm import SVC\n"
   ]
  },
  {
   "cell_type": "code",
   "execution_count": 64,
   "id": "2909965d",
   "metadata": {
    "execution": {
     "iopub.execute_input": "2023-07-18T11:08:37.705506Z",
     "iopub.status.busy": "2023-07-18T11:08:37.705027Z",
     "iopub.status.idle": "2023-07-18T11:08:37.710253Z",
     "shell.execute_reply": "2023-07-18T11:08:37.709274Z"
    },
    "papermill": {
     "duration": 0.061427,
     "end_time": "2023-07-18T11:08:37.712440",
     "exception": false,
     "start_time": "2023-07-18T11:08:37.651013",
     "status": "completed"
    },
    "tags": []
   },
   "outputs": [],
   "source": [
    "model2 = SVC(gamma = 'scale')\n"
   ]
  },
  {
   "cell_type": "code",
   "execution_count": 65,
   "id": "a575fd49",
   "metadata": {
    "execution": {
     "iopub.execute_input": "2023-07-18T11:08:37.814150Z",
     "iopub.status.busy": "2023-07-18T11:08:37.812911Z",
     "iopub.status.idle": "2023-07-18T11:10:35.608581Z",
     "shell.execute_reply": "2023-07-18T11:10:35.607338Z"
    },
    "papermill": {
     "duration": 117.850736,
     "end_time": "2023-07-18T11:10:35.611966",
     "exception": false,
     "start_time": "2023-07-18T11:08:37.761230",
     "status": "completed"
    },
    "tags": []
   },
   "outputs": [],
   "source": [
    "start_time = time.time()\n",
    "model2.fit(X_train, Y_train.values.ravel())\n",
    "end_time = time.time()"
   ]
  },
  {
   "cell_type": "code",
   "execution_count": 66,
   "id": "d0fdea54",
   "metadata": {
    "execution": {
     "iopub.execute_input": "2023-07-18T11:10:35.716194Z",
     "iopub.status.busy": "2023-07-18T11:10:35.715764Z",
     "iopub.status.idle": "2023-07-18T11:10:35.720786Z",
     "shell.execute_reply": "2023-07-18T11:10:35.719990Z"
    },
    "papermill": {
     "duration": 0.061456,
     "end_time": "2023-07-18T11:10:35.724476",
     "exception": false,
     "start_time": "2023-07-18T11:10:35.663020",
     "status": "completed"
    },
    "tags": []
   },
   "outputs": [
    {
     "name": "stdout",
     "output_type": "stream",
     "text": [
      "Training time:  117.78897023200989\n"
     ]
    }
   ],
   "source": [
    "print(\"Training time: \",end_time-start_time)\n"
   ]
  },
  {
   "cell_type": "code",
   "execution_count": 67,
   "id": "01012ba3",
   "metadata": {
    "execution": {
     "iopub.execute_input": "2023-07-18T11:10:35.828807Z",
     "iopub.status.busy": "2023-07-18T11:10:35.827665Z",
     "iopub.status.idle": "2023-07-18T11:10:46.258816Z",
     "shell.execute_reply": "2023-07-18T11:10:46.257796Z"
    },
    "papermill": {
     "duration": 10.486866,
     "end_time": "2023-07-18T11:10:46.262028",
     "exception": false,
     "start_time": "2023-07-18T11:10:35.775162",
     "status": "completed"
    },
    "tags": []
   },
   "outputs": [],
   "source": [
    "start_time = time.time()\n",
    "Y_test_pred2 = model2.predict(X_test)\n",
    "end_time = time.time()"
   ]
  },
  {
   "cell_type": "code",
   "execution_count": 68,
   "id": "41801799",
   "metadata": {
    "execution": {
     "iopub.execute_input": "2023-07-18T11:10:46.362567Z",
     "iopub.status.busy": "2023-07-18T11:10:46.362193Z",
     "iopub.status.idle": "2023-07-18T11:10:46.368830Z",
     "shell.execute_reply": "2023-07-18T11:10:46.367410Z"
    },
    "papermill": {
     "duration": 0.06026,
     "end_time": "2023-07-18T11:10:46.371898",
     "exception": false,
     "start_time": "2023-07-18T11:10:46.311638",
     "status": "completed"
    },
    "tags": []
   },
   "outputs": [
    {
     "name": "stdout",
     "output_type": "stream",
     "text": [
      "Testing time:  10.424994945526123\n"
     ]
    }
   ],
   "source": [
    "print(\"Testing time: \",end_time-start_time)\n"
   ]
  },
  {
   "cell_type": "code",
   "execution_count": 69,
   "id": "473af53d",
   "metadata": {
    "execution": {
     "iopub.execute_input": "2023-07-18T11:10:46.483250Z",
     "iopub.status.busy": "2023-07-18T11:10:46.481798Z",
     "iopub.status.idle": "2023-07-18T11:11:18.564279Z",
     "shell.execute_reply": "2023-07-18T11:11:18.563133Z"
    },
    "papermill": {
     "duration": 32.191563,
     "end_time": "2023-07-18T11:11:18.620532",
     "exception": false,
     "start_time": "2023-07-18T11:10:46.428969",
     "status": "completed"
    },
    "tags": []
   },
   "outputs": [
    {
     "name": "stdout",
     "output_type": "stream",
     "text": [
      "Train score is: 0.9959812183469685\n",
      "Test score is: 0.996274248605445\n"
     ]
    }
   ],
   "source": [
    "print(\"Train score is:\", model2.score(X_train, Y_train))\n",
    "print(\"Test score is:\", model2.score(X_test,Y_test))"
   ]
  },
  {
   "cell_type": "markdown",
   "id": "fea0adc5",
   "metadata": {
    "papermill": {
     "duration": 0.050925,
     "end_time": "2023-07-18T11:11:18.723074",
     "exception": false,
     "start_time": "2023-07-18T11:11:18.672149",
     "status": "completed"
    },
    "tags": []
   },
   "source": [
    "Decision Trees"
   ]
  },
  {
   "cell_type": "code",
   "execution_count": 70,
   "id": "02800a78",
   "metadata": {
    "execution": {
     "iopub.execute_input": "2023-07-18T11:11:18.828077Z",
     "iopub.status.busy": "2023-07-18T11:11:18.826811Z",
     "iopub.status.idle": "2023-07-18T11:11:18.831733Z",
     "shell.execute_reply": "2023-07-18T11:11:18.830991Z"
    },
    "papermill": {
     "duration": 0.060521,
     "end_time": "2023-07-18T11:11:18.834429",
     "exception": false,
     "start_time": "2023-07-18T11:11:18.773908",
     "status": "completed"
    },
    "tags": []
   },
   "outputs": [],
   "source": [
    "from sklearn.tree import DecisionTreeClassifier\n"
   ]
  },
  {
   "cell_type": "code",
   "execution_count": 71,
   "id": "154aec0e",
   "metadata": {
    "execution": {
     "iopub.execute_input": "2023-07-18T11:11:18.944089Z",
     "iopub.status.busy": "2023-07-18T11:11:18.943476Z",
     "iopub.status.idle": "2023-07-18T11:11:18.949023Z",
     "shell.execute_reply": "2023-07-18T11:11:18.947512Z"
    },
    "papermill": {
     "duration": 0.064242,
     "end_time": "2023-07-18T11:11:18.951856",
     "exception": false,
     "start_time": "2023-07-18T11:11:18.887614",
     "status": "completed"
    },
    "tags": []
   },
   "outputs": [],
   "source": [
    "model3 = DecisionTreeClassifier(criterion=\"entropy\", max_depth = 4)\n"
   ]
  },
  {
   "cell_type": "code",
   "execution_count": 72,
   "id": "d8360c89",
   "metadata": {
    "execution": {
     "iopub.execute_input": "2023-07-18T11:11:19.058187Z",
     "iopub.status.busy": "2023-07-18T11:11:19.057763Z",
     "iopub.status.idle": "2023-07-18T11:11:19.546020Z",
     "shell.execute_reply": "2023-07-18T11:11:19.544438Z"
    },
    "papermill": {
     "duration": 0.546099,
     "end_time": "2023-07-18T11:11:19.549217",
     "exception": false,
     "start_time": "2023-07-18T11:11:19.003118",
     "status": "completed"
    },
    "tags": []
   },
   "outputs": [],
   "source": [
    "start_time = time.time()\n",
    "model3.fit(X_train, Y_train.values.ravel())\n",
    "end_time = time.time()"
   ]
  },
  {
   "cell_type": "code",
   "execution_count": 73,
   "id": "f38db810",
   "metadata": {
    "execution": {
     "iopub.execute_input": "2023-07-18T11:11:19.656155Z",
     "iopub.status.busy": "2023-07-18T11:11:19.655752Z",
     "iopub.status.idle": "2023-07-18T11:11:19.661854Z",
     "shell.execute_reply": "2023-07-18T11:11:19.660521Z"
    },
    "papermill": {
     "duration": 0.061776,
     "end_time": "2023-07-18T11:11:19.664775",
     "exception": false,
     "start_time": "2023-07-18T11:11:19.602999",
     "status": "completed"
    },
    "tags": []
   },
   "outputs": [
    {
     "name": "stdout",
     "output_type": "stream",
     "text": [
      "Training time:  0.4828920364379883\n"
     ]
    }
   ],
   "source": [
    "print(\"Training time: \",end_time-start_time)\n"
   ]
  },
  {
   "cell_type": "code",
   "execution_count": 74,
   "id": "c12a173e",
   "metadata": {
    "execution": {
     "iopub.execute_input": "2023-07-18T11:11:19.767132Z",
     "iopub.status.busy": "2023-07-18T11:11:19.766751Z",
     "iopub.status.idle": "2023-07-18T11:11:19.777981Z",
     "shell.execute_reply": "2023-07-18T11:11:19.776751Z"
    },
    "papermill": {
     "duration": 0.065414,
     "end_time": "2023-07-18T11:11:19.780543",
     "exception": false,
     "start_time": "2023-07-18T11:11:19.715129",
     "status": "completed"
    },
    "tags": []
   },
   "outputs": [],
   "source": [
    "start_time = time.time()\n",
    "Y_test_pred3 = model3.predict(X_test)\n",
    "end_time = time.time()"
   ]
  },
  {
   "cell_type": "code",
   "execution_count": 75,
   "id": "885166bf",
   "metadata": {
    "execution": {
     "iopub.execute_input": "2023-07-18T11:11:19.882131Z",
     "iopub.status.busy": "2023-07-18T11:11:19.881650Z",
     "iopub.status.idle": "2023-07-18T11:11:19.888693Z",
     "shell.execute_reply": "2023-07-18T11:11:19.887163Z"
    },
    "papermill": {
     "duration": 0.061134,
     "end_time": "2023-07-18T11:11:19.891619",
     "exception": false,
     "start_time": "2023-07-18T11:11:19.830485",
     "status": "completed"
    },
    "tags": []
   },
   "outputs": [
    {
     "name": "stdout",
     "output_type": "stream",
     "text": [
      "Testing time:  0.006443500518798828\n"
     ]
    }
   ],
   "source": [
    "print(\"Testing time: \",end_time-start_time)\n"
   ]
  },
  {
   "cell_type": "code",
   "execution_count": 76,
   "id": "b2bdb39c",
   "metadata": {
    "execution": {
     "iopub.execute_input": "2023-07-18T11:11:20.000608Z",
     "iopub.status.busy": "2023-07-18T11:11:20.000104Z",
     "iopub.status.idle": "2023-07-18T11:11:20.332659Z",
     "shell.execute_reply": "2023-07-18T11:11:20.330953Z"
    },
    "papermill": {
     "duration": 0.390466,
     "end_time": "2023-07-18T11:11:20.335479",
     "exception": false,
     "start_time": "2023-07-18T11:11:19.945013",
     "status": "completed"
    },
    "tags": []
   },
   "outputs": [
    {
     "name": "stdout",
     "output_type": "stream",
     "text": [
      "Train score is: 0.9780094728424679\n",
      "Test score is: 0.9779368911830821\n"
     ]
    }
   ],
   "source": [
    "print(\"Train score is:\", model3.score(X_train, Y_train))\n",
    "print(\"Test score is:\",model3.score(X_test,Y_test))"
   ]
  },
  {
   "cell_type": "markdown",
   "id": "f13691cd",
   "metadata": {
    "papermill": {
     "duration": 0.050801,
     "end_time": "2023-07-18T11:11:20.438470",
     "exception": false,
     "start_time": "2023-07-18T11:11:20.387669",
     "status": "completed"
    },
    "tags": []
   },
   "source": [
    "Logistic Regression"
   ]
  },
  {
   "cell_type": "code",
   "execution_count": 77,
   "id": "d443b283",
   "metadata": {
    "execution": {
     "iopub.execute_input": "2023-07-18T11:11:20.543011Z",
     "iopub.status.busy": "2023-07-18T11:11:20.542349Z",
     "iopub.status.idle": "2023-07-18T11:11:20.547919Z",
     "shell.execute_reply": "2023-07-18T11:11:20.546819Z"
    },
    "papermill": {
     "duration": 0.060563,
     "end_time": "2023-07-18T11:11:20.550396",
     "exception": false,
     "start_time": "2023-07-18T11:11:20.489833",
     "status": "completed"
    },
    "tags": []
   },
   "outputs": [],
   "source": [
    "from sklearn.linear_model import LogisticRegression\n",
    "model4 = LogisticRegression(multi_class='multinomial', solver='lbfgs', max_iter=1000)\n"
   ]
  },
  {
   "cell_type": "code",
   "execution_count": 78,
   "id": "f20207df",
   "metadata": {
    "execution": {
     "iopub.execute_input": "2023-07-18T11:11:20.658111Z",
     "iopub.status.busy": "2023-07-18T11:11:20.657620Z",
     "iopub.status.idle": "2023-07-18T11:11:31.774476Z",
     "shell.execute_reply": "2023-07-18T11:11:31.772860Z"
    },
    "papermill": {
     "duration": 11.17461,
     "end_time": "2023-07-18T11:11:31.778775",
     "exception": false,
     "start_time": "2023-07-18T11:11:20.604165",
     "status": "completed"
    },
    "tags": []
   },
   "outputs": [
    {
     "name": "stdout",
     "output_type": "stream",
     "text": [
      "Training time: 11.108721017837524\n"
     ]
    }
   ],
   "source": [
    "start_time = time.time()\n",
    "model4.fit(X_train, Y_train.values.ravel())\n",
    "end_time = time.time()\n",
    "print(\"Training time:\", end_time - start_time)\n"
   ]
  },
  {
   "cell_type": "code",
   "execution_count": 79,
   "id": "48185192",
   "metadata": {
    "execution": {
     "iopub.execute_input": "2023-07-18T11:11:31.935845Z",
     "iopub.status.busy": "2023-07-18T11:11:31.935329Z",
     "iopub.status.idle": "2023-07-18T11:11:31.959544Z",
     "shell.execute_reply": "2023-07-18T11:11:31.957980Z"
    },
    "papermill": {
     "duration": 0.079863,
     "end_time": "2023-07-18T11:11:31.963561",
     "exception": false,
     "start_time": "2023-07-18T11:11:31.883698",
     "status": "completed"
    },
    "tags": []
   },
   "outputs": [
    {
     "name": "stdout",
     "output_type": "stream",
     "text": [
      "Testing time: 0.01613140106201172\n"
     ]
    }
   ],
   "source": [
    "start_time = time.time()\n",
    "Y_test_pred4 = model4.predict(X_test)\n",
    "end_time = time.time()\n",
    "print(\"Testing time:\", end_time - start_time)"
   ]
  },
  {
   "cell_type": "code",
   "execution_count": 80,
   "id": "b90a0115",
   "metadata": {
    "execution": {
     "iopub.execute_input": "2023-07-18T11:11:32.121476Z",
     "iopub.status.busy": "2023-07-18T11:11:32.120971Z",
     "iopub.status.idle": "2023-07-18T11:11:32.585715Z",
     "shell.execute_reply": "2023-07-18T11:11:32.584116Z"
    },
    "papermill": {
     "duration": 0.519613,
     "end_time": "2023-07-18T11:11:32.588475",
     "exception": false,
     "start_time": "2023-07-18T11:11:32.068862",
     "status": "completed"
    },
    "tags": []
   },
   "outputs": [
    {
     "name": "stdout",
     "output_type": "stream",
     "text": [
      "Train score: 0.9858112402862357\n",
      "Test score: 0.9853051369577887\n"
     ]
    }
   ],
   "source": [
    "print(\"Train score:\", model4.score(X_train, Y_train))\n",
    "print(\"Test score:\", model4.score(X_test, Y_test))"
   ]
  },
  {
   "cell_type": "markdown",
   "id": "fcff999f",
   "metadata": {
    "papermill": {
     "duration": 0.052758,
     "end_time": "2023-07-18T11:11:32.691881",
     "exception": false,
     "start_time": "2023-07-18T11:11:32.639123",
     "status": "completed"
    },
    "tags": []
   },
   "source": [
    "Evaluation Metrics"
   ]
  },
  {
   "cell_type": "code",
   "execution_count": 81,
   "id": "8dc052ab",
   "metadata": {
    "execution": {
     "iopub.execute_input": "2023-07-18T11:11:32.794294Z",
     "iopub.status.busy": "2023-07-18T11:11:32.793865Z",
     "iopub.status.idle": "2023-07-18T11:11:35.222086Z",
     "shell.execute_reply": "2023-07-18T11:11:35.220912Z"
    },
    "papermill": {
     "duration": 2.482174,
     "end_time": "2023-07-18T11:11:35.224583",
     "exception": false,
     "start_time": "2023-07-18T11:11:32.742409",
     "status": "completed"
    },
    "tags": []
   },
   "outputs": [
    {
     "name": "stdout",
     "output_type": "stream",
     "text": [
      "Confusion Matrix: \n",
      "[[17934     3     0     1     0]\n",
      " [    1 29046    10     3     0]\n",
      " [    0    12   712     0     0]\n",
      " [    0    11     0   300     0]\n",
      " [    0     6     0     0     5]]\n",
      "\n",
      "Accuracy: 0.9990217300807593\n",
      "\n",
      "Precision: 0.9943670889018149\n",
      "\n",
      "Recall: 0.8803792683637142\n",
      "\n",
      "F1 Score: 0.9168929540215386\n"
     ]
    }
   ],
   "source": [
    "#for model 1-Random Forest\n",
    "from sklearn.metrics import accuracy_score, precision_score, recall_score, f1_score, roc_auc_score, confusion_matrix\n",
    "\n",
    "#Confusion Matrix\n",
    "confusion_mat=confusion_matrix(Y_test, Y_test_pred1)\n",
    "print(\"Confusion Matrix: \")\n",
    "print(confusion_mat)\n",
    "print()\n",
    "\n",
    "# Calculate accuracy\n",
    "accuracy1 = accuracy_score(Y_test, Y_test_pred1)\n",
    "print(\"Accuracy:\", accuracy1)\n",
    "print()\n",
    "\n",
    "# Calculate precision\n",
    "precision1 = precision_score(Y_test, Y_test_pred1, average='macro')\n",
    "print(\"Precision:\", precision1)\n",
    "print()\n",
    "\n",
    "# Calculate recall\n",
    "recall1 = recall_score(Y_test, Y_test_pred1, average='macro')\n",
    "print(\"Recall:\", recall1)\n",
    "print()\n",
    "\n",
    "# Calculate F1 score\n",
    "f11 = f1_score(Y_test, Y_test_pred1, average='macro')\n",
    "print(\"F1 Score:\", f11)\n"
   ]
  },
  {
   "cell_type": "code",
   "execution_count": 82,
   "id": "cadaad8a",
   "metadata": {
    "execution": {
     "iopub.execute_input": "2023-07-18T11:11:35.327522Z",
     "iopub.status.busy": "2023-07-18T11:11:35.326711Z",
     "iopub.status.idle": "2023-07-18T11:11:37.742060Z",
     "shell.execute_reply": "2023-07-18T11:11:37.740940Z"
    },
    "papermill": {
     "duration": 2.469715,
     "end_time": "2023-07-18T11:11:37.744688",
     "exception": false,
     "start_time": "2023-07-18T11:11:35.274973",
     "status": "completed"
    },
    "tags": []
   },
   "outputs": [
    {
     "name": "stdout",
     "output_type": "stream",
     "text": [
      "Confusion Matrix: \n",
      "[[17907    31     0     0     0]\n",
      " [   13 29003     8    35     1]\n",
      " [    1    51   672     0     0]\n",
      " [    1    31     0   279     0]\n",
      " [    0     3     0     4     4]]\n",
      "\n",
      "Accuracy: 0.996274248605445\n",
      "\n",
      "Precision: 0.9321546342476383\n",
      "\n",
      "Recall: 0.8370459269333195\n",
      "\n",
      "F1 Score: 0.8680262051905684\n",
      "\n"
     ]
    }
   ],
   "source": [
    "#for model 2-Support Vector Machine\n",
    "\n",
    "#Confusion Matrix\n",
    "confusion_mat=confusion_matrix(Y_test, Y_test_pred2)\n",
    "print(\"Confusion Matrix: \")\n",
    "print(confusion_mat)\n",
    "print()\n",
    "\n",
    "# Calculate accuracy\n",
    "accuracy2 = accuracy_score(Y_test, Y_test_pred2)\n",
    "print(\"Accuracy:\", accuracy2)\n",
    "print()\n",
    "\n",
    "# Calculate precision\n",
    "precision2 = precision_score(Y_test, Y_test_pred2, average='macro')\n",
    "print(\"Precision:\", precision2)\n",
    "print()\n",
    "\n",
    "# Calculate recall\n",
    "recall2 = recall_score(Y_test, Y_test_pred2, average='macro')\n",
    "print(\"Recall:\", recall2)\n",
    "print()\n",
    "\n",
    "# Calculate F1 score\n",
    "f12 = f1_score(Y_test, Y_test_pred2, average='macro')\n",
    "print(\"F1 Score:\", f12)\n",
    "print()"
   ]
  },
  {
   "cell_type": "code",
   "execution_count": 83,
   "id": "5fca5799",
   "metadata": {
    "execution": {
     "iopub.execute_input": "2023-07-18T11:11:37.853430Z",
     "iopub.status.busy": "2023-07-18T11:11:37.853014Z",
     "iopub.status.idle": "2023-07-18T11:11:40.231216Z",
     "shell.execute_reply": "2023-07-18T11:11:40.229418Z"
    },
    "papermill": {
     "duration": 2.436797,
     "end_time": "2023-07-18T11:11:40.234204",
     "exception": false,
     "start_time": "2023-07-18T11:11:37.797407",
     "status": "completed"
    },
    "tags": []
   },
   "outputs": [
    {
     "name": "stdout",
     "output_type": "stream",
     "text": [
      "Confusion Matrix: \n",
      "[[17707   231     0     0     0]\n",
      " [   51 29009     0     0     0]\n",
      " [   15   441   268     0     0]\n",
      " [    0   311     0     0     0]\n",
      " [    0    11     0     0     0]]\n",
      "\n",
      "Accuracy: 0.9779368911830821\n",
      "\n",
      "Precision: 0.5926312963332223\n",
      "\n",
      "Recall: 0.47110661327186587\n",
      "\n",
      "F1 Score: 0.5028625687182838\n"
     ]
    }
   ],
   "source": [
    "#for model 3-Decision Tree\n",
    "\n",
    "#Confusion Matrix\n",
    "confusion_mat=confusion_matrix(Y_test, Y_test_pred3)\n",
    "print(\"Confusion Matrix: \")\n",
    "print(confusion_mat)\n",
    "print()\n",
    "\n",
    "# Calculate accuracy\n",
    "accuracy3 = accuracy_score(Y_test, Y_test_pred3)\n",
    "print(\"Accuracy:\", accuracy3)\n",
    "print()\n",
    "\n",
    "# Calculate precision\n",
    "precision3 = precision_score(Y_test, Y_test_pred3, average='macro', zero_division=0)\n",
    "print(\"Precision:\", precision3)\n",
    "print()\n",
    "\n",
    "# Calculate recall\n",
    "recall3 = recall_score(Y_test, Y_test_pred3, average='macro')\n",
    "print(\"Recall:\", recall3)\n",
    "print()\n",
    "\n",
    "# Calculate F1 score\n",
    "f13 = f1_score(Y_test, Y_test_pred3, average='macro')\n",
    "print(\"F1 Score:\", f13)"
   ]
  },
  {
   "cell_type": "code",
   "execution_count": 84,
   "id": "3844cf0c",
   "metadata": {
    "execution": {
     "iopub.execute_input": "2023-07-18T11:11:40.343975Z",
     "iopub.status.busy": "2023-07-18T11:11:40.343531Z",
     "iopub.status.idle": "2023-07-18T11:11:42.723349Z",
     "shell.execute_reply": "2023-07-18T11:11:42.721856Z"
    },
    "papermill": {
     "duration": 2.438415,
     "end_time": "2023-07-18T11:11:42.726437",
     "exception": false,
     "start_time": "2023-07-18T11:11:40.288022",
     "status": "completed"
    },
    "tags": []
   },
   "outputs": [
    {
     "name": "stdout",
     "output_type": "stream",
     "text": [
      "Confusion Matrix: \n",
      "[[17559   372     5     2     0]\n",
      " [   43 28964    12    40     1]\n",
      " [   10   157   557     0     0]\n",
      " [    1    55     1   254     0]\n",
      " [    1     3     0     3     4]]\n",
      "\n",
      "Accuracy: 0.9853051369577887\n",
      "\n",
      "Precision: 0.9190414999516697\n",
      "\n",
      "Recall: 0.7850523593097436\n",
      "\n",
      "F1 Score: 0.833301813561009\n"
     ]
    }
   ],
   "source": [
    "#for model 4-Logistic Regression\n",
    "\n",
    "#Confusion Matrix\n",
    "confusion_mat=confusion_matrix(Y_test, Y_test_pred4)\n",
    "print(\"Confusion Matrix: \")\n",
    "print(confusion_mat)\n",
    "print()\n",
    "\n",
    "# Calculate accuracy\n",
    "accuracy4 = accuracy_score(Y_test, Y_test_pred4)\n",
    "print(\"Accuracy:\", accuracy4)\n",
    "print()\n",
    "\n",
    "# Calculate precision\n",
    "precision4= precision_score(Y_test, Y_test_pred4, average='macro')\n",
    "print(\"Precision:\", precision4)\n",
    "print()\n",
    "\n",
    "# Calculate recall\n",
    "recall4 = recall_score(Y_test, Y_test_pred4, average='macro')\n",
    "print(\"Recall:\", recall4)\n",
    "print()\n",
    "\n",
    "# Calculate F1 score\n",
    "f14 = f1_score(Y_test, Y_test_pred4, average='macro')\n",
    "print(\"F1 Score:\", f14)"
   ]
  },
  {
   "cell_type": "markdown",
   "id": "9fcbe98c",
   "metadata": {
    "papermill": {
     "duration": 0.05398,
     "end_time": "2023-07-18T11:11:42.833944",
     "exception": false,
     "start_time": "2023-07-18T11:11:42.779964",
     "status": "completed"
    },
    "tags": []
   },
   "source": [
    "Perfomance Visualization\n"
   ]
  },
  {
   "cell_type": "code",
   "execution_count": 85,
   "id": "f1c838e8",
   "metadata": {
    "execution": {
     "iopub.execute_input": "2023-07-18T11:11:42.943451Z",
     "iopub.status.busy": "2023-07-18T11:11:42.942260Z",
     "iopub.status.idle": "2023-07-18T11:11:42.947428Z",
     "shell.execute_reply": "2023-07-18T11:11:42.946612Z"
    },
    "papermill": {
     "duration": 0.060456,
     "end_time": "2023-07-18T11:11:42.949536",
     "exception": false,
     "start_time": "2023-07-18T11:11:42.889080",
     "status": "completed"
    },
    "tags": []
   },
   "outputs": [],
   "source": [
    "import matplotlib.pyplot as plt\n"
   ]
  },
  {
   "cell_type": "code",
   "execution_count": 86,
   "id": "bef53ba4",
   "metadata": {
    "execution": {
     "iopub.execute_input": "2023-07-18T11:11:43.057024Z",
     "iopub.status.busy": "2023-07-18T11:11:43.056278Z",
     "iopub.status.idle": "2023-07-18T11:11:43.326935Z",
     "shell.execute_reply": "2023-07-18T11:11:43.325779Z"
    },
    "papermill": {
     "duration": 0.327268,
     "end_time": "2023-07-18T11:11:43.329411",
     "exception": false,
     "start_time": "2023-07-18T11:11:43.002143",
     "status": "completed"
    },
    "tags": []
   },
   "outputs": [
    {
     "data": {
      "image/png": "[encoded data removed]",
      "text/plain": [
       "<Figure size 640x480 with 1 Axes>"
      ]
     },
     "metadata": {},
     "output_type": "display_data"
    }
   ],
   "source": [
    "#ACCURACY GRAPH\n",
    "values = [accuracy1, accuracy2, accuracy3, accuracy4]\n",
    "labels = ['Random Forest', 'SVM', 'Decision Tree', 'Logistic Regression']\n",
    "\n",
    "# Plotting\n",
    "plt.bar(labels, values)\n",
    "plt.ylim(0.9,1.0)\n",
    "plt.xlabel('Model')\n",
    "plt.ylabel('accuracy')\n",
    "plt.title('Accuracy Plot')\n",
    "plt.show()"
   ]
  },
  {
   "cell_type": "code",
   "execution_count": 87,
   "id": "a81df96d",
   "metadata": {
    "execution": {
     "iopub.execute_input": "2023-07-18T11:11:43.435946Z",
     "iopub.status.busy": "2023-07-18T11:11:43.435429Z",
     "iopub.status.idle": "2023-07-18T11:11:43.712783Z",
     "shell.execute_reply": "2023-07-18T11:11:43.711641Z"
    },
    "papermill": {
     "duration": 0.33363,
     "end_time": "2023-07-18T11:11:43.715228",
     "exception": false,
     "start_time": "2023-07-18T11:11:43.381598",
     "status": "completed"
    },
    "tags": []
   },
   "outputs": [
    {
     "data": {
      "image/png": "[encoded data removed]",
      "text/plain": [
       "<Figure size 640x480 with 1 Axes>"
      ]
     },
     "metadata": {},
     "output_type": "display_data"
    }
   ],
   "source": [
    "plt.scatter(range(len(values)), values)\n",
    "plt.xticks(range(len(values)), labels)\n",
    "plt.xlabel('Model')\n",
    "plt.ylabel('Accuracy')\n",
    "plt.title('Accuracy Plot')\n",
    "plt.show()"
   ]
  },
  {
   "cell_type": "code",
   "execution_count": 88,
   "id": "d42370c1",
   "metadata": {
    "execution": {
     "iopub.execute_input": "2023-07-18T11:11:43.824257Z",
     "iopub.status.busy": "2023-07-18T11:11:43.823781Z",
     "iopub.status.idle": "2023-07-18T11:11:44.132117Z",
     "shell.execute_reply": "2023-07-18T11:11:44.130538Z"
    },
    "papermill": {
     "duration": 0.36559,
     "end_time": "2023-07-18T11:11:44.135203",
     "exception": false,
     "start_time": "2023-07-18T11:11:43.769613",
     "status": "completed"
    },
    "tags": []
   },
   "outputs": [
    {
     "data": {
      "image/png": "[encoded data removed]",
      "text/plain": [
       "<Figure size 640x480 with 1 Axes>"
      ]
     },
     "metadata": {},
     "output_type": "display_data"
    }
   ],
   "source": [
    "#precision graph\n",
    "values2 = [precision1, precision2, precision3, precision4]\n",
    "labels = ['Random Forest', 'SVM', 'Decision Tree', 'Logistic Regression']\n",
    "\n",
    "# Plotting\n",
    "plt.plot(labels, values2, marker='o')\n",
    "plt.xlabel('Model')\n",
    "plt.ylabel('Precision')\n",
    "plt.title('Precision Plot')\n",
    "plt.show()"
   ]
  },
  {
   "cell_type": "code",
   "execution_count": 89,
   "id": "39791200",
   "metadata": {
    "execution": {
     "iopub.execute_input": "2023-07-18T11:11:44.247210Z",
     "iopub.status.busy": "2023-07-18T11:11:44.246713Z",
     "iopub.status.idle": "2023-07-18T11:11:44.512975Z",
     "shell.execute_reply": "2023-07-18T11:11:44.512087Z"
    },
    "papermill": {
     "duration": 0.325481,
     "end_time": "2023-07-18T11:11:44.515471",
     "exception": false,
     "start_time": "2023-07-18T11:11:44.189990",
     "status": "completed"
    },
    "tags": []
   },
   "outputs": [
    {
     "data": {
      "image/png": "[encoded data removed]",
      "text/plain": [
       "<Figure size 640x480 with 1 Axes>"
      ]
     },
     "metadata": {},
     "output_type": "display_data"
    }
   ],
   "source": [
    "#Recall Graph\n",
    "values3 = [recall1, recall2, recall3, recall4]\n",
    "labels = ['Random Forest', 'SVM', 'Decision Tree', 'Logistic Regression']\n",
    "\n",
    "\n",
    "plt.plot(labels, values3, marker='o')\n",
    "plt.xlabel('Model')\n",
    "plt.ylabel('Recall')\n",
    "plt.title('Recall Plot')\n",
    "plt.show()\n"
   ]
  },
  {
   "cell_type": "code",
   "execution_count": 90,
   "id": "b105c41a",
   "metadata": {
    "execution": {
     "iopub.execute_input": "2023-07-18T11:11:44.696734Z",
     "iopub.status.busy": "2023-07-18T11:11:44.695997Z",
     "iopub.status.idle": "2023-07-18T11:11:44.970863Z",
     "shell.execute_reply": "2023-07-18T11:11:44.969768Z"
    },
    "papermill": {
     "duration": 0.333506,
     "end_time": "2023-07-18T11:11:44.973840",
     "exception": false,
     "start_time": "2023-07-18T11:11:44.640334",
     "status": "completed"
    },
    "tags": []
   },
   "outputs": [
    {
     "data": {
      "image/png": "[encoded data removed]",
      "text/plain": [
       "<Figure size 640x480 with 1 Axes>"
      ]
     },
     "metadata": {},
     "output_type": "display_data"
    }
   ],
   "source": [
    "#F1_Score Graph\n",
    "values4 = [f11, f12, f13, f14]\n",
    "labels = ['Random Forest', 'SVM', 'Decision Tree', 'Logistic Regression']\n",
    "\n",
    "\n",
    "plt.scatter(range(len(values)), values4)\n",
    "plt.xticks(range(len(values)), labels)\n",
    "plt.xlabel('Model')\n",
    "plt.ylabel('F1_Score')\n",
    "plt.title('F1_Score Plot')\n",
    "plt.show()"
   ]
  },
  {
   "cell_type": "code",
   "execution_count": 91,
   "id": "0ea53fe2",
   "metadata": {
    "execution": {
     "iopub.execute_input": "2023-07-18T11:11:45.091915Z",
     "iopub.status.busy": "2023-07-18T11:11:45.091475Z",
     "iopub.status.idle": "2023-07-18T11:11:45.583656Z",
     "shell.execute_reply": "2023-07-18T11:11:45.582541Z"
    },
    "papermill": {
     "duration": 0.556057,
     "end_time": "2023-07-18T11:11:45.586349",
     "exception": false,
     "start_time": "2023-07-18T11:11:45.030292",
     "status": "completed"
    },
    "tags": []
   },
   "outputs": [
    {
     "data": {
      "image/png": "[encoded data removed]",
      "text/plain": [
       "<Figure size 640x480 with 1 Axes>"
      ]
     },
     "metadata": {},
     "output_type": "display_data"
    }
   ],
   "source": [
    "#ROC-AUC curve for RandomForest Algorithm\n",
    "import numpy as np\n",
    "import matplotlib.pyplot as plt\n",
    "from sklearn.metrics import roc_curve, auc\n",
    "\n",
    "# Find the unique classes in the true labels\n",
    "unique_classes = np.unique(Y_test)\n",
    "\n",
    "# Compute the ROC curve for each class\n",
    "fpr = dict()\n",
    "tpr = dict()\n",
    "roc_auc = dict()\n",
    "\n",
    "for cls in unique_classes:\n",
    "    # Assign positive class as 1 and negative class as 0\n",
    "    class_true_labels = (Y_test == cls).astype(int)\n",
    "    class_predicted_values = (Y_test_pred1 == cls).astype(int)\n",
    "\n",
    "    # Compute the ROC curve for the current class\n",
    "    fpr[cls], tpr[cls], _ = roc_curve(class_true_labels, class_predicted_values)\n",
    "    roc_auc[cls] = auc(fpr[cls], tpr[cls])\n",
    "\n",
    "# Plot the ROC curve for each class\n",
    "plt.figure()\n",
    "\n",
    "for cls in unique_classes:\n",
    "    plt.plot(fpr[cls], tpr[cls], label='Class {} (AUC = {:.2f})'.format(cls, roc_auc[cls]))\n",
    "\n",
    "plt.plot([0, 1], [0, 1], color='gray', linestyle='--', linewidth=1)\n",
    "plt.xlim([0.0, 1.0])\n",
    "plt.ylim([0.0, 1.05])\n",
    "plt.xlabel('False Positive Rate')\n",
    "plt.ylabel('True Positive Rate')\n",
    "plt.title('ROC Curve ')\n",
    "plt.legend(loc=\"lower right\")\n",
    "plt.show()"
   ]
  },
  {
   "cell_type": "code",
   "execution_count": 92,
   "id": "18077343",
   "metadata": {
    "execution": {
     "iopub.execute_input": "2023-07-18T11:11:45.704189Z",
     "iopub.status.busy": "2023-07-18T11:11:45.703806Z",
     "iopub.status.idle": "2023-07-18T11:11:46.196138Z",
     "shell.execute_reply": "2023-07-18T11:11:46.195244Z"
    },
    "papermill": {
     "duration": 0.554839,
     "end_time": "2023-07-18T11:11:46.198926",
     "exception": false,
     "start_time": "2023-07-18T11:11:45.644087",
     "status": "completed"
    },
    "tags": []
   },
   "outputs": [
    {
     "data": {
      "image/png": "[encoded data removed]",
      "text/plain": [
       "<Figure size 640x480 with 1 Axes>"
      ]
     },
     "metadata": {},
     "output_type": "display_data"
    }
   ],
   "source": [
    "#ROC-AUC curve for SVM Algorithm\n",
    "import numpy as np\n",
    "import matplotlib.pyplot as plt\n",
    "from sklearn.metrics import roc_curve, auc\n",
    "\n",
    "# Find the unique classes in the true labels\n",
    "unique_classes = np.unique(Y_test)\n",
    "\n",
    "# Compute the ROC curve for each class\n",
    "fpr = dict()\n",
    "tpr = dict()\n",
    "roc_auc = dict()\n",
    "\n",
    "for cls in unique_classes:\n",
    "    # Assign positive class as 1 and negative class as 0\n",
    "    class_true_labels = (Y_test == cls).astype(int)\n",
    "    class_predicted_values = (Y_test_pred2 == cls).astype(int)\n",
    "\n",
    "    # Compute the ROC curve for the current class\n",
    "    fpr[cls], tpr[cls], _ = roc_curve(class_true_labels, class_predicted_values)\n",
    "    roc_auc[cls] = auc(fpr[cls], tpr[cls])\n",
    "\n",
    "# Plot the ROC curve for each class\n",
    "plt.figure()\n",
    "\n",
    "for cls in unique_classes:\n",
    "    plt.plot(fpr[cls], tpr[cls], label='Class {} (AUC = {:.2f})'.format(cls, roc_auc[cls]))\n",
    "\n",
    "plt.plot([0, 1], [0, 1], color='gray', linestyle='--', linewidth=1)\n",
    "plt.xlim([0.0, 1.0])\n",
    "plt.ylim([0.0, 1.05])\n",
    "plt.xlabel('False Positive Rate')\n",
    "plt.ylabel('True Positive Rate')\n",
    "plt.title('ROC Curve ')\n",
    "plt.legend(loc=\"lower right\")\n",
    "plt.show()"
   ]
  },
  {
   "cell_type": "code",
   "execution_count": 93,
   "id": "58f913d6",
   "metadata": {
    "execution": {
     "iopub.execute_input": "2023-07-18T11:11:46.317526Z",
     "iopub.status.busy": "2023-07-18T11:11:46.316862Z",
     "iopub.status.idle": "2023-07-18T11:11:46.820833Z",
     "shell.execute_reply": "2023-07-18T11:11:46.819408Z"
    },
    "papermill": {
     "duration": 0.567263,
     "end_time": "2023-07-18T11:11:46.823848",
     "exception": false,
     "start_time": "2023-07-18T11:11:46.256585",
     "status": "completed"
    },
    "tags": []
   },
   "outputs": [
    {
     "data": {
      "image/png": "[encoded data removed]",
      "text/plain": [
       "<Figure size 640x480 with 1 Axes>"
      ]
     },
     "metadata": {},
     "output_type": "display_data"
    }
   ],
   "source": [
    "#ROC-AUC curve for Decision Tree Algorithm\n",
    "import numpy as np\n",
    "import matplotlib.pyplot as plt\n",
    "from sklearn.metrics import roc_curve, auc\n",
    "\n",
    "# Find the unique classes in the true labels\n",
    "unique_classes = np.unique(Y_test)\n",
    "\n",
    "# Compute the ROC curve for each class\n",
    "fpr = dict()\n",
    "tpr = dict()\n",
    "roc_auc = dict()\n",
    "\n",
    "for cls in unique_classes:\n",
    "    # Assign positive class as 1 and negative class as 0\n",
    "    class_true_labels = (Y_test == cls).astype(int)\n",
    "    class_predicted_values = (Y_test_pred3 == cls).astype(int)\n",
    "\n",
    "    # Compute the ROC curve for the current class\n",
    "    fpr[cls], tpr[cls], _ = roc_curve(class_true_labels, class_predicted_values)\n",
    "    roc_auc[cls] = auc(fpr[cls], tpr[cls])\n",
    "\n",
    "# Plot the ROC curve for each class\n",
    "plt.figure()\n",
    "\n",
    "for cls in unique_classes:\n",
    "    plt.plot(fpr[cls], tpr[cls], label='Class {} (AUC = {:.2f})'.format(cls, roc_auc[cls]))\n",
    "\n",
    "plt.plot([0, 1], [0, 1], color='gray', linestyle='--', linewidth=1)\n",
    "plt.xlim([0.0, 1.0])\n",
    "plt.ylim([0.0, 1.05])\n",
    "plt.xlabel('False Positive Rate')\n",
    "plt.ylabel('True Positive Rate')\n",
    "plt.title('ROC Curve ')\n",
    "plt.legend(loc=\"lower right\")\n",
    "plt.show()"
   ]
  },
  {
   "cell_type": "code",
   "execution_count": 94,
   "id": "81dc8cd6",
   "metadata": {
    "execution": {
     "iopub.execute_input": "2023-07-18T11:11:46.945124Z",
     "iopub.status.busy": "2023-07-18T11:11:46.944748Z",
     "iopub.status.idle": "2023-07-18T11:11:47.456373Z",
     "shell.execute_reply": "2023-07-18T11:11:47.454673Z"
    },
    "papermill": {
     "duration": 0.576718,
     "end_time": "2023-07-18T11:11:47.459970",
     "exception": false,
     "start_time": "2023-07-18T11:11:46.883252",
     "status": "completed"
    },
    "tags": []
   },
   "outputs": [
    {
     "data": {
      "image/png": "[encoded data removed]",
      "text/plain": [
       "<Figure size 640x480 with 1 Axes>"
      ]
     },
     "metadata": {},
     "output_type": "display_data"
    }
   ],
   "source": [
    "#ROC-AUC curve for Logistic Regression Algorithm\n",
    "import numpy as np\n",
    "import matplotlib.pyplot as plt\n",
    "from sklearn.metrics import roc_curve, auc\n",
    "\n",
    "# Find the unique classes in the true labels\n",
    "unique_classes = np.unique(Y_test)\n",
    "\n",
    "# Compute the ROC curve for each class\n",
    "fpr = dict()\n",
    "tpr = dict()\n",
    "roc_auc = dict()\n",
    "\n",
    "for cls in unique_classes:\n",
    "    # Assign positive class as 1 and negative class as 0\n",
    "    class_true_labels = (Y_test == cls).astype(int)\n",
    "    class_predicted_values = (Y_test_pred4 == cls).astype(int)\n",
    "\n",
    "    # Compute the ROC curve for the current class\n",
    "    fpr[cls], tpr[cls], _ = roc_curve(class_true_labels, class_predicted_values)\n",
    "    roc_auc[cls] = auc(fpr[cls], tpr[cls])\n",
    "\n",
    "# Plot the ROC curve for each class\n",
    "plt.figure()\n",
    "\n",
    "for cls in unique_classes:\n",
    "    plt.plot(fpr[cls], tpr[cls], label='Class {} (AUC = {:.2f})'.format(cls, roc_auc[cls]))\n",
    "\n",
    "plt.plot([0, 1], [0, 1], color='gray', linestyle='--', linewidth=1)\n",
    "plt.xlim([0.0, 1.0])\n",
    "plt.ylim([0.0, 1.05])\n",
    "plt.xlabel('False Positive Rate')\n",
    "plt.ylabel('True Positive Rate')\n",
    "plt.title('ROC Curve ')\n",
    "plt.legend(loc=\"lower right\")\n",
    "plt.show()"
   ]
  },
  {
   "cell_type": "markdown",
   "id": "12995f63",
   "metadata": {
    "papermill": {
     "duration": 0.060133,
     "end_time": "2023-07-18T11:11:47.581385",
     "exception": false,
     "start_time": "2023-07-18T11:11:47.521252",
     "status": "completed"
    },
    "tags": []
   },
   "source": [
    "#            Model -5 SVM algorithm  using linear kernel"
   ]
  },
  {
   "cell_type": "code",
   "execution_count": 95,
   "id": "74d9f0ee",
   "metadata": {
    "execution": {
     "iopub.execute_input": "2023-07-18T11:11:47.706862Z",
     "iopub.status.busy": "2023-07-18T11:11:47.706336Z",
     "iopub.status.idle": "2023-07-18T11:11:47.712960Z",
     "shell.execute_reply": "2023-07-18T11:11:47.711546Z"
    },
    "papermill": {
     "duration": 0.07213,
     "end_time": "2023-07-18T11:11:47.715638",
     "exception": false,
     "start_time": "2023-07-18T11:11:47.643508",
     "status": "completed"
    },
    "tags": []
   },
   "outputs": [],
   "source": [
    "from sklearn.svm import SVC\n",
    "model5 = SVC(kernel='linear')\n"
   ]
  },
  {
   "cell_type": "code",
   "execution_count": 96,
   "id": "a8e5b610",
   "metadata": {
    "execution": {
     "iopub.execute_input": "2023-07-18T11:11:47.839913Z",
     "iopub.status.busy": "2023-07-18T11:11:47.839465Z",
     "iopub.status.idle": "2023-07-18T11:12:31.203461Z",
     "shell.execute_reply": "2023-07-18T11:12:31.201982Z"
    },
    "papermill": {
     "duration": 43.485494,
     "end_time": "2023-07-18T11:12:31.263326",
     "exception": false,
     "start_time": "2023-07-18T11:11:47.777832",
     "status": "completed"
    },
    "tags": []
   },
   "outputs": [
    {
     "name": "stdout",
     "output_type": "stream",
     "text": [
      "Training time:  43.357370376586914\n"
     ]
    }
   ],
   "source": [
    "# Training\n",
    "start_time = time.time()\n",
    "model5.fit(X_train, Y_train.values.ravel())\n",
    "end_time = time.time()\n",
    "print(\"Training time: \", end_time - start_time)"
   ]
  },
  {
   "cell_type": "code",
   "execution_count": 97,
   "id": "f3c0fd68",
   "metadata": {
    "execution": {
     "iopub.execute_input": "2023-07-18T11:12:31.380506Z",
     "iopub.status.busy": "2023-07-18T11:12:31.380120Z",
     "iopub.status.idle": "2023-07-18T11:12:39.238735Z",
     "shell.execute_reply": "2023-07-18T11:12:39.237308Z"
    },
    "papermill": {
     "duration": 7.920587,
     "end_time": "2023-07-18T11:12:39.241335",
     "exception": false,
     "start_time": "2023-07-18T11:12:31.320748",
     "status": "completed"
    },
    "tags": []
   },
   "outputs": [
    {
     "name": "stdout",
     "output_type": "stream",
     "text": [
      "Testing time:  7.852401494979858\n"
     ]
    }
   ],
   "source": [
    "# Testing\n",
    "start_time = time.time()\n",
    "Y_test_pred5 = model5.predict(X_test)\n",
    "end_time = time.time()\n",
    "print(\"Testing time: \", end_time - start_time)"
   ]
  },
  {
   "cell_type": "code",
   "execution_count": 98,
   "id": "b7b1094b",
   "metadata": {
    "execution": {
     "iopub.execute_input": "2023-07-18T11:12:39.358846Z",
     "iopub.status.busy": "2023-07-18T11:12:39.358137Z",
     "iopub.status.idle": "2023-07-18T11:13:03.248937Z",
     "shell.execute_reply": "2023-07-18T11:13:03.247778Z"
    },
    "papermill": {
     "duration": 23.953165,
     "end_time": "2023-07-18T11:13:03.252184",
     "exception": false,
     "start_time": "2023-07-18T11:12:39.299019",
     "status": "completed"
    },
    "tags": []
   },
   "outputs": [
    {
     "name": "stdout",
     "output_type": "stream",
     "text": [
      "Train score is: 0.9876360952205204\n",
      "Test score is: 0.9871992340354675\n"
     ]
    }
   ],
   "source": [
    "# Evaluation\n",
    "train_score = model5.score(X_train, Y_train)\n",
    "test_score = model5.score(X_test, Y_test)\n",
    "print(\"Train score is:\", train_score)\n",
    "print(\"Test score is:\", test_score)"
   ]
  },
  {
   "cell_type": "code",
   "execution_count": 99,
   "id": "68b58951",
   "metadata": {
    "execution": {
     "iopub.execute_input": "2023-07-18T11:13:03.377294Z",
     "iopub.status.busy": "2023-07-18T11:13:03.375969Z",
     "iopub.status.idle": "2023-07-18T11:13:05.774509Z",
     "shell.execute_reply": "2023-07-18T11:13:05.772972Z"
    },
    "papermill": {
     "duration": 2.46403,
     "end_time": "2023-07-18T11:13:05.777290",
     "exception": false,
     "start_time": "2023-07-18T11:13:03.313260",
     "status": "completed"
    },
    "tags": []
   },
   "outputs": [
    {
     "name": "stdout",
     "output_type": "stream",
     "text": [
      "Confusion Matrix: \n",
      "[[17626   309     3     0     0]\n",
      " [   42 28971     3    43     1]\n",
      " [    7   146   571     0     0]\n",
      " [    0    52     2   257     0]\n",
      " [    2     1     0     4     4]]\n",
      "\n",
      "Accuracy: 0.9871992340354675\n",
      "\n",
      "Precision: 0.922292019981475\n",
      "\n",
      "Recall: 0.7916442167667589\n",
      "\n",
      "F1 Score: 0.8383641361334815\n"
     ]
    }
   ],
   "source": [
    "#evaluation Metrics\n",
    "#Confusion Matrix\n",
    "confusion_mat=confusion_matrix(Y_test, Y_test_pred5)\n",
    "print(\"Confusion Matrix: \")\n",
    "print(confusion_mat)\n",
    "print()\n",
    "\n",
    "# Calculate accuracy\n",
    "accuracy5 = accuracy_score(Y_test, Y_test_pred5)\n",
    "print(\"Accuracy:\", accuracy5)\n",
    "print()\n",
    "\n",
    "# Calculate precision\n",
    "precision5= precision_score(Y_test, Y_test_pred5, average='macro')\n",
    "print(\"Precision:\", precision5)\n",
    "print()\n",
    "\n",
    "# Calculate recall\n",
    "recall5 = recall_score(Y_test, Y_test_pred5, average='macro')\n",
    "print(\"Recall:\", recall5)\n",
    "print()\n",
    "\n",
    "# Calculate F1 score\n",
    "f15 = f1_score(Y_test, Y_test_pred5, average='macro')\n",
    "print(\"F1 Score:\", f15)"
   ]
  },
  {
   "cell_type": "markdown",
   "id": "0a50e286",
   "metadata": {
    "papermill": {
     "duration": 0.058561,
     "end_time": "2023-07-18T11:13:05.895778",
     "exception": false,
     "start_time": "2023-07-18T11:13:05.837217",
     "status": "completed"
    },
    "tags": []
   },
   "source": [
    "# Model-6 SVM Algorithm using Polynomial Kernel"
   ]
  },
  {
   "cell_type": "code",
   "execution_count": 100,
   "id": "6fb7d67a",
   "metadata": {
    "execution": {
     "iopub.execute_input": "2023-07-18T11:13:06.016068Z",
     "iopub.status.busy": "2023-07-18T11:13:06.015554Z",
     "iopub.status.idle": "2023-07-18T11:13:06.021562Z",
     "shell.execute_reply": "2023-07-18T11:13:06.020386Z"
    },
    "papermill": {
     "duration": 0.069584,
     "end_time": "2023-07-18T11:13:06.024006",
     "exception": false,
     "start_time": "2023-07-18T11:13:05.954422",
     "status": "completed"
    },
    "tags": []
   },
   "outputs": [],
   "source": [
    "from sklearn.svm import SVC\n",
    "model6 = SVC(kernel='poly', degree=3)\n"
   ]
  },
  {
   "cell_type": "code",
   "execution_count": 101,
   "id": "f4011b43",
   "metadata": {
    "execution": {
     "iopub.execute_input": "2023-07-18T11:13:06.144273Z",
     "iopub.status.busy": "2023-07-18T11:13:06.143491Z",
     "iopub.status.idle": "2023-07-18T11:13:26.035883Z",
     "shell.execute_reply": "2023-07-18T11:13:26.034350Z"
    },
    "papermill": {
     "duration": 19.956781,
     "end_time": "2023-07-18T11:13:26.038985",
     "exception": false,
     "start_time": "2023-07-18T11:13:06.082204",
     "status": "completed"
    },
    "tags": []
   },
   "outputs": [
    {
     "name": "stdout",
     "output_type": "stream",
     "text": [
      "Training time:  19.883366584777832\n"
     ]
    }
   ],
   "source": [
    "# Training\n",
    "start_time = time.time()\n",
    "model6.fit(X_train, Y_train.values.ravel())\n",
    "end_time = time.time()\n",
    "print(\"Training time: \", end_time - start_time)"
   ]
  },
  {
   "cell_type": "code",
   "execution_count": 102,
   "id": "ce160022",
   "metadata": {
    "execution": {
     "iopub.execute_input": "2023-07-18T11:13:26.165584Z",
     "iopub.status.busy": "2023-07-18T11:13:26.164382Z",
     "iopub.status.idle": "2023-07-18T11:13:31.385617Z",
     "shell.execute_reply": "2023-07-18T11:13:31.384030Z"
    },
    "papermill": {
     "duration": 5.288,
     "end_time": "2023-07-18T11:13:31.389107",
     "exception": false,
     "start_time": "2023-07-18T11:13:26.101107",
     "status": "completed"
    },
    "tags": []
   },
   "outputs": [
    {
     "name": "stdout",
     "output_type": "stream",
     "text": [
      "Testing time:  5.213619947433472\n"
     ]
    }
   ],
   "source": [
    "# Testing\n",
    "start_time = time.time()\n",
    "Y_test_pred6 = model6.predict(X_test)\n",
    "end_time = time.time()\n",
    "print(\"Testing time: \", end_time - start_time)"
   ]
  },
  {
   "cell_type": "code",
   "execution_count": 103,
   "id": "2b081243",
   "metadata": {
    "execution": {
     "iopub.execute_input": "2023-07-18T11:13:31.513651Z",
     "iopub.status.busy": "2023-07-18T11:13:31.512854Z",
     "iopub.status.idle": "2023-07-18T11:13:47.684780Z",
     "shell.execute_reply": "2023-07-18T11:13:47.683626Z"
    },
    "papermill": {
     "duration": 16.237073,
     "end_time": "2023-07-18T11:13:47.687765",
     "exception": false,
     "start_time": "2023-07-18T11:13:31.450692",
     "status": "completed"
    },
    "tags": []
   },
   "outputs": [
    {
     "name": "stdout",
     "output_type": "stream",
     "text": [
      "Train score is: 0.996514322035636\n",
      "Test score is: 0.9967113479310632\n"
     ]
    }
   ],
   "source": [
    "# Evaluation\n",
    "train_score = model6.score(X_train, Y_train)\n",
    "test_score = model6.score(X_test, Y_test)\n",
    "print(\"Train score is:\", train_score)\n",
    "print(\"Test score is:\", test_score)"
   ]
  },
  {
   "cell_type": "code",
   "execution_count": 104,
   "id": "dc03c488",
   "metadata": {
    "execution": {
     "iopub.execute_input": "2023-07-18T11:13:47.814200Z",
     "iopub.status.busy": "2023-07-18T11:13:47.813305Z",
     "iopub.status.idle": "2023-07-18T11:13:50.212745Z",
     "shell.execute_reply": "2023-07-18T11:13:50.211339Z"
    },
    "papermill": {
     "duration": 2.467009,
     "end_time": "2023-07-18T11:13:50.215699",
     "exception": false,
     "start_time": "2023-07-18T11:13:47.748690",
     "status": "completed"
    },
    "tags": []
   },
   "outputs": [
    {
     "name": "stdout",
     "output_type": "stream",
     "text": [
      "Confusion Matrix: \n",
      "[[17930     8     0     0     0]\n",
      " [   14 29008     6    31     1]\n",
      " [    2    54   668     0     0]\n",
      " [    1    34     0   276     0]\n",
      " [    0     3     0     4     4]]\n",
      "\n",
      "Accuracy: 0.9967113479310632\n",
      "\n",
      "Precision: 0.9348418505429222\n",
      "\n",
      "Recall: 0.8343025445146631\n",
      "\n",
      "F1 Score: 0.8679636186787955\n"
     ]
    }
   ],
   "source": [
    "#evaluation Metrics\n",
    "#Confusion Matrix\n",
    "confusion_mat=confusion_matrix(Y_test, Y_test_pred6)\n",
    "print(\"Confusion Matrix: \")\n",
    "print(confusion_mat)\n",
    "print()\n",
    "\n",
    "# Calculate accuracy\n",
    "accuracy6 = accuracy_score(Y_test, Y_test_pred6)\n",
    "print(\"Accuracy:\", accuracy6)\n",
    "print()\n",
    "\n",
    "# Calculate precision\n",
    "precision6= precision_score(Y_test, Y_test_pred6, average='macro')\n",
    "print(\"Precision:\", precision6)\n",
    "print()\n",
    "\n",
    "# Calculate recall\n",
    "recall6 = recall_score(Y_test, Y_test_pred6, average='macro')\n",
    "print(\"Recall:\", recall6)\n",
    "print()\n",
    "\n",
    "# Calculate F1 score\n",
    "f16 = f1_score(Y_test, Y_test_pred6, average='macro')\n",
    "print(\"F1 Score:\", f16)"
   ]
  },
  {
   "cell_type": "markdown",
   "id": "3d3e63ff",
   "metadata": {
    "papermill": {
     "duration": 0.060568,
     "end_time": "2023-07-18T11:13:50.337833",
     "exception": false,
     "start_time": "2023-07-18T11:13:50.277265",
     "status": "completed"
    },
    "tags": []
   },
   "source": [
    "# Model-7 SVM Algorithm Using Sigmoid Kernel\n"
   ]
  },
  {
   "cell_type": "code",
   "execution_count": 105,
   "id": "255bc3c0",
   "metadata": {
    "execution": {
     "iopub.execute_input": "2023-07-18T11:13:50.462758Z",
     "iopub.status.busy": "2023-07-18T11:13:50.462285Z",
     "iopub.status.idle": "2023-07-18T11:13:50.467374Z",
     "shell.execute_reply": "2023-07-18T11:13:50.466139Z"
    },
    "papermill": {
     "duration": 0.071096,
     "end_time": "2023-07-18T11:13:50.470130",
     "exception": false,
     "start_time": "2023-07-18T11:13:50.399034",
     "status": "completed"
    },
    "tags": []
   },
   "outputs": [],
   "source": [
    "from sklearn.svm import SVC\n",
    "model7 = SVC(kernel='sigmoid')\n"
   ]
  },
  {
   "cell_type": "code",
   "execution_count": 106,
   "id": "e6b13016",
   "metadata": {
    "execution": {
     "iopub.execute_input": "2023-07-18T11:13:50.591798Z",
     "iopub.status.busy": "2023-07-18T11:13:50.591346Z",
     "iopub.status.idle": "2023-07-18T11:19:19.462812Z",
     "shell.execute_reply": "2023-07-18T11:19:19.461638Z"
    },
    "papermill": {
     "duration": 328.993656,
     "end_time": "2023-07-18T11:19:19.523962",
     "exception": false,
     "start_time": "2023-07-18T11:13:50.530306",
     "status": "completed"
    },
    "tags": []
   },
   "outputs": [
    {
     "name": "stdout",
     "output_type": "stream",
     "text": [
      "Training time:  328.86475920677185\n"
     ]
    }
   ],
   "source": [
    "# Training\n",
    "start_time = time.time()\n",
    "model7.fit(X_train, Y_train.values.ravel())\n",
    "end_time = time.time()\n",
    "print(\"Training time: \", end_time - start_time)"
   ]
  },
  {
   "cell_type": "code",
   "execution_count": 107,
   "id": "bc230824",
   "metadata": {
    "execution": {
     "iopub.execute_input": "2023-07-18T11:19:19.643058Z",
     "iopub.status.busy": "2023-07-18T11:19:19.642342Z",
     "iopub.status.idle": "2023-07-18T11:19:52.164865Z",
     "shell.execute_reply": "2023-07-18T11:19:52.163539Z"
    },
    "papermill": {
     "duration": 32.641593,
     "end_time": "2023-07-18T11:19:52.223840",
     "exception": false,
     "start_time": "2023-07-18T11:19:19.582247",
     "status": "completed"
    },
    "tags": []
   },
   "outputs": [
    {
     "name": "stdout",
     "output_type": "stream",
     "text": [
      "Testing time:  32.51157879829407\n"
     ]
    }
   ],
   "source": [
    "# Testing\n",
    "start_time = time.time()\n",
    "Y_test_pred7 = model7.predict(X_test)\n",
    "end_time = time.time()\n",
    "print(\"Testing time: \", end_time - start_time)\n"
   ]
  },
  {
   "cell_type": "code",
   "execution_count": 108,
   "id": "33d03a97",
   "metadata": {
    "execution": {
     "iopub.execute_input": "2023-07-18T11:19:52.343601Z",
     "iopub.status.busy": "2023-07-18T11:19:52.343151Z",
     "iopub.status.idle": "2023-07-18T11:21:31.365822Z",
     "shell.execute_reply": "2023-07-18T11:21:31.364146Z"
    },
    "papermill": {
     "duration": 99.148466,
     "end_time": "2023-07-18T11:21:31.431041",
     "exception": false,
     "start_time": "2023-07-18T11:19:52.282575",
     "status": "completed"
    },
    "tags": []
   },
   "outputs": [
    {
     "name": "stdout",
     "output_type": "stream",
     "text": [
      "Train score is: 0.9379754362223452\n",
      "Test score is: 0.9357047706269254\n"
     ]
    }
   ],
   "source": [
    "# Evaluation\n",
    "train_score = model7.score(X_train, Y_train)\n",
    "test_score = model7.score(X_test, Y_test)\n",
    "print(\"Train score is:\", train_score)\n",
    "print(\"Test score is:\", test_score)"
   ]
  },
  {
   "cell_type": "code",
   "execution_count": 109,
   "id": "986978f4",
   "metadata": {
    "execution": {
     "iopub.execute_input": "2023-07-18T11:21:31.557285Z",
     "iopub.status.busy": "2023-07-18T11:21:31.556848Z",
     "iopub.status.idle": "2023-07-18T11:21:33.946528Z",
     "shell.execute_reply": "2023-07-18T11:21:33.944777Z"
    },
    "papermill": {
     "duration": 2.456334,
     "end_time": "2023-07-18T11:21:33.949230",
     "exception": false,
     "start_time": "2023-07-18T11:21:31.492896",
     "status": "completed"
    },
    "tags": []
   },
   "outputs": [
    {
     "name": "stdout",
     "output_type": "stream",
     "text": [
      "Confusion Matrix: \n",
      "[[17101   695   105    37     0]\n",
      " [  493 27757   667   143     0]\n",
      " [  211   427    86     0     0]\n",
      " [   19   282     0    10     0]\n",
      " [    0    10     0     0     1]]\n",
      "\n",
      "Accuracy: 0.9357047706269254\n",
      "\n",
      "Precision: 0.6127657190791107\n",
      "\n",
      "Recall: 0.430069795243183\n",
      "\n",
      "F1 Score: 0.44500584883429806\n"
     ]
    }
   ],
   "source": [
    "#evaluation Metrics\n",
    "#Confusion Matrix\n",
    "confusion_mat=confusion_matrix(Y_test, Y_test_pred7)\n",
    "print(\"Confusion Matrix: \")\n",
    "print(confusion_mat)\n",
    "print()\n",
    "\n",
    "# Calculate accuracy\n",
    "accuracy7 = accuracy_score(Y_test, Y_test_pred7)\n",
    "print(\"Accuracy:\", accuracy7)\n",
    "print()\n",
    "\n",
    "# Calculate precision\n",
    "precision7= precision_score(Y_test, Y_test_pred7, average='macro')\n",
    "print(\"Precision:\", precision7)\n",
    "print()\n",
    "\n",
    "# Calculate recall\n",
    "recall7 = recall_score(Y_test, Y_test_pred7, average='macro')\n",
    "print(\"Recall:\", recall7)\n",
    "print()\n",
    "\n",
    "# Calculate F1 score\n",
    "f17 = f1_score(Y_test, Y_test_pred7, average='macro')\n",
    "print(\"F1 Score:\", f17)"
   ]
  },
  {
   "cell_type": "markdown",
   "id": "37709b82",
   "metadata": {
    "papermill": {
     "duration": 0.0617,
     "end_time": "2023-07-18T11:21:34.071901",
     "exception": false,
     "start_time": "2023-07-18T11:21:34.010201",
     "status": "completed"
    },
    "tags": []
   },
   "source": [
    "# Comparision of different types of Kernels"
   ]
  },
  {
   "cell_type": "code",
   "execution_count": 110,
   "id": "efd12493",
   "metadata": {
    "execution": {
     "iopub.execute_input": "2023-07-18T11:21:34.193481Z",
     "iopub.status.busy": "2023-07-18T11:21:34.193021Z",
     "iopub.status.idle": "2023-07-18T11:21:34.471836Z",
     "shell.execute_reply": "2023-07-18T11:21:34.470823Z"
    },
    "papermill": {
     "duration": 0.343171,
     "end_time": "2023-07-18T11:21:34.474382",
     "exception": false,
     "start_time": "2023-07-18T11:21:34.131211",
     "status": "completed"
    },
    "tags": []
   },
   "outputs": [
    {
     "data": {
      "image/png": "[encoded data removed]",
      "text/plain": [
       "<Figure size 640x480 with 1 Axes>"
      ]
     },
     "metadata": {},
     "output_type": "display_data"
    }
   ],
   "source": [
    "values2 = [accuracy5, accuracy6, accuracy2, accuracy7]\n",
    "labels = ['Linear', 'Polynomial', 'Gaussian', 'Sigmoid']\n",
    "\n",
    "# Plotting\n",
    "plt.plot(labels, values2, marker='o')\n",
    "plt.xlabel('Kernel')\n",
    "plt.ylabel('Accuracy')\n",
    "plt.title('Accuracy Plot For Different Kernels')\n",
    "plt.show()"
   ]
  },
  {
   "cell_type": "code",
   "execution_count": null,
   "id": "531a2039",
   "metadata": {
    "papermill": {
     "duration": 0.059617,
     "end_time": "2023-07-18T11:21:34.593930",
     "exception": false,
     "start_time": "2023-07-18T11:21:34.534313",
     "status": "completed"
    },
    "tags": []
   },
   "outputs": [],
   "source": []
  }
 ],
 "metadata": {
  "kernelspec": {
   "display_name": "Python 3",
   "language": "python",
   "name": "python3"
  },
  "language_info": {
   "codemirror_mode": {
    "name": "ipython",
    "version": 3
   },
   "file_extension": ".py",
   "mimetype": "text/x-python",
   "name": "python",
   "nbconvert_exporter": "python",
   "pygments_lexer": "ipython3",
   "version": "3.10.10"
  },
  "papermill": {
   "default_parameters": {},
   "duration": 815.742371,
   "end_time": "2023-07-18T11:21:36.184330",
   "environment_variables": {},
   "exception": null,
   "input_path": "__notebook__.ipynb",
   "output_path": "__notebook__.ipynb",
   "parameters": {},
   "start_time": "2023-07-18T11:08:00.441959",
   "version": "2.4.0"
  }
 },
 "nbformat": 4,
 "nbformat_minor": 5
}
